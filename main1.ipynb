{
 "cells": [
  {
   "cell_type": "code",
   "execution_count": 20,
   "metadata": {},
   "outputs": [
    {
     "name": "stderr",
     "output_type": "stream",
     "text": [
      "Note: Environment variable`HF_TOKEN` is set and is the current active token independently from the token you've just configured.\n",
      "Note: Environment variable`HF_TOKEN` is set and is the current active token independently from the token you've just configured.\n"
     ]
    }
   ],
   "source": [
    "import os\n",
    "import pyodbc\n",
    "import langchain\n",
    "from langchain_groq import ChatGroq\n",
    "from langchain_community.llms import HuggingFaceHub\n",
    "from langchain_huggingface import HuggingFaceEndpoint\n",
    "from dotenv import load_dotenv, find_dotenv\n",
    "from langchain_openai import ChatOpenAI\n",
    "\n",
    "load_dotenv(find_dotenv())\n",
    "\n",
    "api_key=os.environ[\"HF_TOKEN\"]\n",
    "\n",
    "repo_id=\"mistralai/Mixtral-8x7B-Instruct-v0.1\"\n",
    "llm=HuggingFaceEndpoint(repo_id=repo_id, temperature=0.2)\n",
    "repo_id_deepSeek=\"deepseek-ai/DeepSeek-R1-Distill-Qwen-32B\"\n",
    "llm_deepseek=HuggingFaceEndpoint(repo_id=repo_id_deepSeek, temperature=0.4)\n",
    "repo_id_meta=\"meta-llama/Llama-3.1-8B-Instruct\"\n",
    "#llm_meta=HuggingFaceEndpoint(repo_id=repo_id_meta, temperature=0.1)\n",
    "#llm_groq=ChatGroq(model='llama-3.3-70b-versatile', api_key=os.environ[\"GROQ\"])\n",
    "llm_groq=ChatGroq(model='gemma2-9b-it', api_key=os.environ[\"GROQ\"])\n",
    "llm_openai = ChatOpenAI(model=\"gpt-4o-mini\", temperature=0.4)\n"
   ]
  },
  {
   "cell_type": "markdown",
   "metadata": {},
   "source": [
    "**DB Setup**"
   ]
  },
  {
   "cell_type": "code",
   "execution_count": 21,
   "metadata": {},
   "outputs": [
    {
     "name": "stdout",
     "output_type": "stream",
     "text": [
      "mssql\n",
      "['t_device', 't_employee', 't_hu_master', 't_order', 't_pick_detail', 't_stored_item']\n"
     ]
    },
    {
     "data": {
      "text/plain": [
       "'[(37339542, \\'US1\\', 546942427, None, None, None, \\'NA34818491_EX\\', \\'Cindy Poteete\\', None, None, None, None, None, 0, None, None, None, \\'United Parcel Service\\', None, \\'PREPAID\\', None, 50, \\'28:31.0\\', \\'00:00.0\\', \\'00:00.0\\', \\'00:00.0\\', \\'00:00.0\\', \\'59:00.0\\', 2.71, 0.83, 0, \\'N\\', None, 0, 0, 0, 0, None, \\'Cindy Poteete                 NA34817174\\', \\'Cindy Poteete                 NA34817174\\', \\'4702 Harpeth Peytonsville Road\\', None, None, \"Thompson\\'s Station\", \\'TN\\', 37179, \\'US\\', None, \\'6156560985\\', \\'Cindy Poteete                 NA34817174\\', \\'Cindy Poteete                 \\', \\'4702 Harpeth Peytonsville Road\\', None, None, \"Thompson\\'s Station\", \\'TN\\', \\'37179\\', \\'US\\', None, \\'6156560985\\', None, None, None, None, None, None, None, None, None, None, None, \\'Cindy Poteete                 \\', \\'4702 Harpeth Peytonsville Road\\', None, None, \"Thompson\\'s Station\", \\'TN\\', 37179, \\'US\\', None, \\'6156560985\\', None, None, None, None, None, None, None, None, None, None, None, None, \\'00:00.0\\', None, None, 0, None, 0, \\'RELEASED\\', None, None, None, \\'N\\', \\'28:31.0\\', \\'28:33.0\\', None, \\'00:00.0\\', \\'00:00.0\\', \\'00:00.0\\', None, None, None, None, None, None, 546942427, \\'US1\\', \\'Y\\', None, \\'000001_UPS_P_RES\\', None, \\'00:00.0\\', \\'59:00.0\\', None, None, None, None, None, None, None, None, None, \\'000001_UPS_P_RES\\', \\'N\\', None, 1, \\'90NA35512833\\', None, None, None, None, None, None, None, None, None, None, None, None, None, None, None, None, None, None, None, None, None, None, \\'ECOM\\', \\'Deckers eCommerce OU\\', None, None, None, None, None, None, \\'UGG\\', None, None, None, None, None, None, None, 0, 131586708, 0, None, None, None, None, None, None, None, 300270193, None, \\'55:58.8\\', \\'36:10.8\\', None, 0, 0, 0, None, \\'000001_UPS_P_RES\\', \\'WAVED\\', None, 1, 1, 1, None, 0, \\'PREPAID\\', None, None, \\'N\\', 0, None, None, \\'(888) 432-8530\\', \\'www.ugg.com\\', \\'725003717901UGGA01NA348184\\', 4.20569e+28, \\'00:00.9\\', None, None, None, \\'UGGEBOX\\', None, 150.0, None, None, None, None, None, None, None, None, None, None, None, None, None, None, None, \\'37:42.0\\', 0, None, None, None, None, None, None, None, None, None, None, None, None, None, None, None, None, None, None, None, None, None, 0, None, None, 0, 0, None, None, None, None, 0, None, None, None, None, 0, None, None, None, None, None, None, None, None, None, None, None, None, 0, None, 0, None, None, None, None), (37339496, \\'US1\\', 546942489, None, None, None, \\'NA36923522_EX\\', \\'Melanie Chacha\\', None, None, None, None, None, 0, None, None, None, \\'United Parcel Service\\', None, \\'PREPAID\\', None, 50, \\'23:55.0\\', \\'00:00.0\\', \\'00:00.0\\', \\'00:00.0\\', \\'00:00.0\\', \\'59:00.0\\', 4.49, 0.83, 0, \\'N\\', None, 0, 0, 0, 0, None, \\'Melanie Chacha                NA36923522\\', \\'Melanie Chacha                NA36923522\\', \\'35 Suydam St\\', \\'Apt 2\\', None, \\'Brooklyn\\', \\'NY\\', 11221, \\'US\\', None, \\'19292487002\\', \\'Melanie Chacha                NA36923522\\', \\'Melanie Chacha                \\', \\'35 Suydam St\\', \\'Apt 2\\', None, \\'Brooklyn\\', \\'NY\\', \\'11221\\', \\'US\\', None, \\'19292487002\\', None, None, None, None, None, None, None, None, None, None, None, \\'Melanie Chacha                \\', \\'35 Suydam St\\', \\'Apt 2\\', None, \\'Brooklyn\\', \\'NY\\', 11221, \\'US\\', None, \\'19292487002\\', None, None, None, None, None, None, None, None, None, None, None, None, \\'00:00.0\\', None, None, 0, None, 0, \\'CARTNERROR\\', None, None, None, \\'N\\', \\'23:55.0\\', \\'23:56.0\\', None, \\'00:00.0\\', \\'00:00.0\\', \\'00:00.0\\', None, None, None, None, None, None, 546942489, \\'US1\\', \\'Y\\', None, \\'000001_UPS_P_RES\\', None, \\'00:00.0\\', \\'59:00.0\\', None, None, None, None, None, None, None, None, None, \\'000001_UPS_P_RES\\', \\'N\\', None, 1, \\'90NA37590544\\', None, None, None, None, None, None, None, None, None, None, None, None, None, None, None, None, None, None, None, None, None, None, \\'ECOM\\', \\'Deckers eCommerce OU\\', None, None, None, None, None, None, \\'UGG\\', None, None, None, None, None, None, None, 0, 131586594, 0, None, None, None, None, None, None, None, 300270193, None, \\'55:58.8\\', \\'36:10.8\\', None, 0, 0, 0, None, \\'000001_UPS_P_RES\\', \\'WAVED\\', None, 1, 1, 1, None, 0, \\'PREPAID\\', None, None, \\'N\\', 0, None, None, \\'(888) 432-8530\\', \\'www.ugg.com\\', \\'725001122101UGGA01NA369235\\', 4.20569e+28, \\'00:00.9\\', None, None, None, \\'UGGEBOX\\', None, 174.99, None, None, None, None, None, None, None, None, None, None, None, None, None, None, None, \\'38:01.0\\', 0, None, None, None, None, None, None, None, None, None, None, None, None, None, None, None, None, None, None, None, None, None, 0, None, None, 0, 0, None, None, None, None, 0, None, None, None, None, 0, None, None, None, None, None, None, None, None, None, None, None, None, 0, None, 0, None, None, None, None), (37339610, \\'US1\\', 546942908, None, None, None, \\'NA37944466\\', \\'Hamilton McNutt\\', None, None, None, None, None, 0, None, None, None, \\'United Parcel Service\\', None, \\'PREPAID\\', None, 50, \\'02:03.0\\', \\'00:00.0\\', \\'00:00.0\\', \\'00:00.0\\', \\'00:00.0\\', \\'59:00.0\\', 1.57, 0.5, 0, \\'N\\', None, 0, 0, 0, 0, None, \\'Hamilton McNutt               NA37944466\\', \\'Hamilton McNutt               NA37944466\\', \\'4820 Earlston dr\\', None, None, \\'Bethesda\\', \\'MD\\', 20816, \\'US\\', None, \\'9198242535\\', \\'Hamilton McNutt               NA37944466\\', \\'Hamilton McNutt               \\', \\'4820 Earlston dr\\', None, None, \\'Bethesda\\', \\'MD\\', \\'20816\\', \\'US\\', None, \\'9198242535\\', None, None, None, None, None, None, None, None, None, None, None, \\'Hamilton McNutt               \\', \\'4820 Earlston dr\\', None, None, \\'Bethesda\\', \\'MD\\', 20816, \\'US\\', None, \\'9198242535\\', None, None, None, None, None, None, None, None, None, None, None, None, \\'00:00.0\\', None, None, 0, None, 0, \\'RELEASED\\', None, None, None, \\'N\\', \\'02:03.0\\', \\'00:00.0\\', None, \\'00:00.0\\', \\'00:00.0\\', \\'00:00.0\\', None, None, None, None, None, None, 546942908, \\'US1\\', \\'Y\\', None, \\'000001_UPS_P_RES\\', None, \\'00:00.0\\', \\'59:00.0\\', None, None, None, None, None, None, None, None, None, \\'000001_UPS_P_RES\\', \\'N\\', None, 1, \\'90NA38562877\\', None, None, None, None, None, None, None, None, None, None, None, None, None, None, None, None, None, None, None, None, None, None, \\'ECOM\\', \\'Deckers eCommerce OU\\', None, None, None, None, None, None, \\'TEVA\\', None, None, None, None, None, None, None, 0, 131586974, 0, None, None, None, None, None, None, None, 300270193, None, \\'56:13.5\\', \\'36:10.8\\', None, 0, 0, 0, None, \\'000001_UPS_P_RES\\', \\'WAVED\\', None, 1, 1, 1, \\' script name: CheckoutServices-PlaceOrder | data: start time: 2025-01-24T17:02:03.003+0000, script name: paymentechOrbitalService:_callOrbital | data: Call duration in milliseconds: 393\\', 2, \\'PREPAID\\', None, None, \\'N\\', 0, None, None, \\'(800) 367-8382\\', \\'www.teva.com\\', \\'725002081601TEVA01NA379444\\', 4.20569e+28, \\'00:00.9\\', None, None, None, None, None, 37.99, None, None, None, None, None, None, None, None, None, None, None, None, None, None, None, \\'46:03.0\\', 0, None, None, None, None, None, None, None, None, None, None, None, None, None, None, None, None, None, None, None, None, None, 0, None, None, 0, 0, None, None, None, None, 0, None, None, None, None, 0, None, None, None, None, None, None, None, None, None, None, None, None, 0, None, 0, None, None, None, None), (37339408, \\'US1\\', 546942257, None, None, None, \\'NA37773834_EX\\', \\'Paola Ochoa\\', None, None, None, None, None, 0, None, None, None, \\'FedEx Ground Residential\\', None, \\'PREPAID\\', None, 50, \\'59:56.0\\', \\'00:00.0\\', \\'00:00.0\\', \\'00:00.0\\', \\'00:00.0\\', \\'59:00.0\\', 3.05, 0.83, 0, \\'N\\', None, 0, 0, 0, 0, None, \\'Paola Ochoa                   NA37773834\\', \\'Paola Ochoa                   NA37773834\\', \\'orquidea 4\\', None, None, \\'cordoba\\', \\'VER\\', 94530, \\'MX\\', None, \\'+52 015540108856\\', \\'Paola Ochoa                   NA37773834\\', \\'Paola Ochoa                   \\', \\'3801 Menchaca Road\\', \\'42\\', None, \\'Austin\\', \\'TX\\', \\'78704\\', \\'US\\', None, None, None, None, None, None, None, None, None, None, None, None, None, \\'Paola Ochoa                   \\', \\'orquidea 4\\', None, None, \\'cordoba\\', \\'VER\\', 94530, \\'MX\\', None, \\'+52 015540108856\\', None, None, None, None, None, None, None, None, None, None, None, None, \\'00:00.0\\', None, None, 0, None, 0, \\'RELEASED\\', None, None, None, \\'N\\', \\'59:56.0\\', \\'59:56.0\\', None, \\'00:00.0\\', \\'00:00.0\\', \\'00:00.0\\', None, None, None, None, None, None, 546942257, \\'US1\\', \\'Y\\', None, \\'000001_UPS_P_RES\\', None, \\'00:00.0\\', \\'59:00.0\\', None, None, None, None, None, None, None, None, None, \\'000001_FDEG_P_RES\\', \\'N\\', None, 1, \\'90NA38397492\\', None, None, None, None, None, None, None, None, None, None, None, None, None, None, None, None, None, None, None, None, None, None, \\'ECOM\\', \\'Deckers eCommerce OU\\', None, None, None, None, None, None, \\'UGG\\', None, None, None, None, None, None, None, 0, 131585688, 0, None, None, None, None, None, None, None, 300270203, None, \\'26:08.3\\', \\'31:21.0\\', None, 0, 0, 0, None, \\'000001_FDEG_P_RES\\', \\'PACKED\\', None, 1, 1, 1, None, 0, \\'PREPAID\\', None, None, \\'N\\', 1, None, None, \\'(888) 432-8530\\', \\'www.ugg.com\\', \\'725007870401UGGA01NA377738\\', 4.20569e+28, \\'29:33.3\\', None, None, None, \\'UGGEBOX\\', None, 110.0, None, None, None, None, None, None, None, None, None, None, None, None, None, None, None, \\'19:04.0\\', 0, None, None, None, None, None, None, None, None, None, None, None, None, None, None, None, None, None, None, None, None, None, 0, None, None, 0, 0, None, None, None, None, 0, None, None, None, None, 0, None, None, None, None, None, None, None, None, None, None, None, None, 0, None, 0, None, None, None, None), (37339607, \\'US1\\', 546942894, None, None, None, \\'NA37944421\\', \\'Elizabeth Hogge\\', None, None, None, None, None, 0, None, None, None, \\'United Parcel Service\\', None, \\'PREPAID\\', None, 50, \\'59:56.0\\', \\'00:00.0\\', \\'00:00.0\\', \\'00:00.0\\', \\'00:00.0\\', \\'59:00.0\\', 5.72, 1.53, 0, \\'N\\', None, 0, 0, 0, 0, None, \\'Elizabeth Hogge               NA37944421\\', \\'Elizabeth Hogge               NA37944421\\', \\'37 Hemlock St\\', None, None, \\'Clifton\\', \\'NJ\\', 7013, \\'US\\', None, \\'4407850155\\', \\'Elizabeth Hogge               NA37944421\\', \\'Elizabeth Hogge               \\', \\'37 Hemlock St\\', None, None, \\'Clifton\\', \\'NJ\\', \\'7013\\', \\'US\\', None, \\'4407850155\\', None, None, None, None, None, None, None, None, None, None, None, \\'Elizabeth Hogge               \\', \\'37 Hemlock St\\', None, None, \\'Clifton\\', \\'NJ\\', 7013, \\'US\\', None, \\'4407850155\\', None, None, None, None, None, None, None, None, None, None, None, None, \\'00:00.0\\', None, None, 0, None, 0, \\'RELEASED\\', None, None, None, \\'N\\', \\'59:56.0\\', \\'00:00.0\\', None, \\'00:00.0\\', \\'00:00.0\\', \\'00:00.0\\', None, None, None, None, None, None, 546942894, \\'US1\\', \\'Y\\', None, \\'000001_UPS_P_RES\\', None, \\'00:00.0\\', \\'59:00.0\\', None, None, None, None, None, None, None, None, None, \\'000001_UPS_P_RES\\', \\'N\\', None, 1, \\'90NA38563305\\', None, None, None, None, None, None, None, None, None, None, None, None, None, None, None, None, None, None, None, None, None, None, \\'ECOM\\', \\'Deckers eCommerce OU\\', None, None, None, None, None, None, \\'KOOLABURRA\\', None, None, None, None, None, None, None, 0, 131586725, 0, None, None, None, None, None, None, None, 300270193, None, \\'56:13.5\\', \\'36:10.8\\', None, 0, 1, 0, None, \\'000001_UPS_P_RES\\', \\'WAVED\\', None, 2, 2, 2, \\' script name: CheckoutServices-PlaceOrder | data: start time: 2025-01-24T16:59:55.055+0000, script name: paymentechOrbitalService:_callOrbital | data: Call duration in milliseconds: 447\\', 2, \\'PREPAID\\', None, None, \\'N\\', 0, None, None, \\'(866) 491-3123\\', \\'www.koolaburra.com\\', \\'725000701301237401NA379444\\', 4.20569e+28, \\'00:00.9\\', None, None, None, None, None, 124.98, None, None, None, None, None, None, None, None, None, None, None, None, None, None, None, \\'45:52.0\\', 0, None, None, None, None, None, None, None, None, None, None, None, None, None, None, None, None, None, None, None, None, None, 0, None, None, 0, 0, None, None, None, None, 0, None, None, None, None, 0, None, None, None, None, None, None, None, None, None, None, None, None, 0, None, 0, None, None, None, None), (37339366, \\'US1\\', 546941939, None, None, None, \\'TEVA_Sabrina Bloedorn 1.24\\', \\'MARKETING\\', None, None, None, None, None, 0, None, None, None, \\'United Parcel Service\\', None, \\'PREPAID\\', None, 50, \\'55:53.0\\', \\'00:00.0\\', \\'00:00.0\\', \\'00:00.0\\', \\'00:00.0\\', \\'59:00.0\\', 10.45, 2.56, 0, \\'N\\', None, 0, 0, 0, 0, None, \\'BT1_3115_TEVA\\', \\'BT1_3115_TEVA\\', \\'Deckers Brands\\', \\'250 Coromar Dr\\', None, \\'GOLETA\\', \\'CA\\', 93117, \\'US\\', None, None, \\'Sabrina Bloedorn\\', \\'Sabrina Bloedorn\\', \\'801-1238 Richards St.\\', None, None, \\'Vancouver\\', \\'BC\\', \\'V6B 6M6\\', \\'CA\\', None, None, None, None, None, None, None, None, None, None, None, None, None, \\'BT1_3115_TEVA\\', \\'Deckers Brands\\', \\'250 Coromar Dr\\', None, \\'GOLETA\\', \\'CA\\', 93117, \\'US\\', None, None, None, None, None, None, None, None, None, None, None, None, None, None, \\'00:00.0\\', None, None, 0, None, 0, \\'RELEASED\\', None, None, None, \\'N\\', \\'00:00.0\\', \\'00:00.0\\', None, \\'00:00.0\\', \\'00:00.0\\', \\'00:00.0\\', None, None, None, None, None, None, 546941939, \\'US1\\', \\'N\\', None, \\'000001_UPS_P_XSV\\', None, \\'00:00.0\\', \\'59:00.0\\', None, None, None, None, None, None, None, None, None, \\'000001_UPS_P_XSV\\', \\'N\\', None, 1, \\'3115-TEVA\\', None, None, None, None, None, None, None, None, None, None, None, None, None, None, None, None, None, None, None, None, None, None, \\'WHOLESALE\\', \\'Deckers US OU\\', None, None, None, None, None, None, \\'TEVA\\', None, None, None, None, None, None, None, 0, 131585584, 0, None, None, None, None, None, None, None, 300270192, None, \\'12:01.8\\', \\'33:21.2\\', None, 0, 1, 0, None, \\'000001_UPS_P_XSV\\', \\'WAVED\\', None, 5, 5, 5, None, 0, \\'PREPAID\\', None, None, \\'N\\', 0, None, None, None, None, None, None, \\'16:04.0\\', None, None, None, None, None, 5.0, None, None, None, None, None, None, None, None, None, None, None, None, None, None, None, \\'57:31.0\\', 0, None, None, None, None, None, None, None, None, None, None, None, None, None, None, None, None, None, None, None, None, None, 0, None, None, 0, 0, None, None, None, None, 0, None, None, \\'SOLID\\', None, 0, None, None, None, None, None, None, None, None, None, None, None, None, 0, None, 0, None, None, None, None), (37339609, \\'US1\\', 546942907, None, None, None, \\'NA37944367\\', \\'Linda Ristaino\\', None, None, None, None, None, 0, None, None, None, \\'US Postal Service\\', None, \\'PREPAID\\', None, 50, \\'54:59.0\\', \\'00:00.0\\', \\'00:00.0\\', \\'00:00.0\\', \\'00:00.0\\', \\'59:00.0\\', 2.17, 0.5, 0, \\'N\\', None, 0, 0, 0, 0, None, \\'Linda Ristaino                NA37944367\\', \\'Linda Ristaino                NA37944367\\', \\'PO Box 328--9 Cataldo Rd.\\', None, None, \\'Meredith\\', \\'NH\\', 3253, \\'US\\', None, \\'603-279-1347\\', \\'Linda Ristaino                NA37944367\\', \\'Linda Ristaino                \\', \\'PO BOX 328\\', None, None, \\'Meredith\\', \\'NH\\', \\'3253\\', \\'US\\', None, None, None, None, None, None, None, None, None, None, None, None, None, \\'Linda Ristaino                \\', \\'PO Box 328--9 Cataldo Rd.\\', None, None, \\'Meredith\\', \\'NH\\', 3253, \\'US\\', None, \\'603-279-1347\\', None, None, None, None, None, None, None, None, None, None, None, None, \\'00:00.0\\', None, None, 0, None, 0, \\'RELEASED\\', None, None, None, \\'N\\', \\'54:59.0\\', \\'00:00.0\\', None, \\'00:00.0\\', \\'00:00.0\\', \\'00:00.0\\', None, None, None, None, None, None, 546942907, \\'US1\\', \\'Y\\', None, \\'000001_USPS_P_GND\\', None, \\'00:00.0\\', \\'59:00.0\\', None, None, None, None, None, None, None, None, None, \\'000001_USPS_P_GND\\', \\'N\\', None, 1, \\'90NA38562749\\', None, None, None, None, None, None, None, None, None, None, None, None, None, None, None, None, None, None, None, None, None, None, \\'ECOM\\', \\'Deckers eCommerce OU\\', None, None, None, None, None, None, \\'TEVA\\', None, None, None, None, None, None, None, 0, 131586701, 0, None, None, None, None, None, None, None, 300270192, None, \\'56:13.5\\', \\'33:21.2\\', \\'PG548770\\', 0, 0, 0, None, \\'000001_USPS_P_GND\\', \\'WAVED\\', None, 1, 1, 1, \\' script name: CheckoutServices-PlaceOrder | data: start time: 2025-01-24T16:54:58.058+0000, script name: JerryService.js - authorize | data: Call duration in milliseconds: 1896\\', 2, \\'PREPAID\\', None, None, \\'N\\', 0, None, None, \\'(800) 367-8382\\', \\'www.teva.com\\', \\'725000325301TEVA01NA379443\\', 4.20569e+28, \\'59:45.8\\', None, None, None, None, None, 100.0, None, None, None, None, None, None, None, None, None, None, None, None, None, None, None, \\'46:03.0\\', 0, None, None, None, None, None, None, None, None, None, None, None, None, None, None, None, None, None, None, None, None, None, 0, None, None, 0, 0, None, None, None, None, 0, None, None, None, None, 0, None, None, None, None, None, None, None, None, None, None, None, None, 0, None, 0, None, None, None, None), (37339513, \\'US1\\', 546942506, None, None, None, \\'NA37944365\\', \\'Aquilla Gaines\\', None, None, None, None, None, 0, None, None, None, \\'United Parcel Service\\', None, \\'PREPAID\\', None, 50, \\'54:39.0\\', \\'00:00.0\\', \\'00:00.0\\', \\'00:00.0\\', \\'00:00.0\\', \\'59:00.0\\', 6.23, 1.53, 0, \\'N\\', None, 0, 0, 0, 0, None, \\'Aquilla Gaines                NA37944365\\', \\'Aquilla Gaines                NA37944365\\', \\'2250 Laurens Drive\\', None, None, \\'Concord\\', \\'NC\\', 28027, \\'US\\', None, \\'8037678826\\', \\'Aquilla Gaines                NA37944365\\', \\'Aquilla Gaines                \\', \\'2250 Laurens Drive\\', None, None, \\'Concord\\', \\'NC\\', \\'28027\\', \\'US\\', None, \\'8037678826\\', None, None, None, None, None, None, None, None, None, None, None, \\'Aquilla Gaines                \\', \\'2250 Laurens Drive\\', None, None, \\'Concord\\', \\'NC\\', 28027, \\'US\\', None, \\'8037678826\\', None, None, None, None, None, None, None, None, None, None, None, None, \\'00:00.0\\', None, None, 0, None, 0, \\'RELEASED\\', None, None, None, \\'N\\', \\'54:39.0\\', \\'00:00.0\\', None, \\'00:00.0\\', \\'00:00.0\\', \\'00:00.0\\', None, None, None, None, None, None, 546942506, \\'US1\\', \\'Y\\', None, \\'000001_UPS_P_RES\\', None, \\'00:00.0\\', \\'59:00.0\\', None, None, None, None, None, None, None, None, None, \\'000001_UPS_P_RES\\', \\'N\\', None, 1, \\'90NA38562746\\', None, None, None, None, None, None, None, None, None, None, None, None, None, None, None, None, None, None, None, None, None, None, \\'ECOM\\', \\'Deckers eCommerce OU\\', None, None, None, None, None, None, \\'UGG\\', None, None, None, None, None, None, None, 0, 131586628, 0, None, None, None, None, None, None, None, 300270193, None, \\'55:58.8\\', \\'36:10.8\\', None, 0, 1, 0, None, \\'000001_UPS_P_RES\\', \\'WAVED\\', None, 2, 2, 2, \\' script name: AfterpayRedirect-Redirect | errMsg: Shipping address exists and the billing address is left empty on purpose., script name: AfterpayRedirect-Redirect | data: {\"apToken\":\"002.1haofnp80i4q8gq7jdg286s2mjmv0qbebtv2v1mvl10gqprh\"}\\', 2, \\'PREPAID\\', None, None, \\'N\\', 0, None, None, \\'(888) 432-8530\\', \\'www.ugg.com\\', \\'725002802701UGGA01NA379443\\', 4.20569e+28, \\'00:00.9\\', None, None, None, \\'UGGEBOX\\', None, 290.0, None, None, None, None, None, None, None, None, None, None, None, None, None, None, None, \\'38:04.0\\', 0, None, None, None, None, None, None, None, None, None, None, None, None, None, None, None, None, None, None, None, None, None, 0, None, None, 0, 0, None, None, None, None, 0, None, None, None, None, 0, None, None, None, None, None, None, None, None, None, None, None, None, 0, None, 0, None, None, None, None), (37339563, \\'US1\\', 546942446, None, None, None, \\'NA37944362\\', \\'Jamesha Lindsey\\', None, None, None, None, None, 0, None, None, None, \\'United Parcel Service\\', None, \\'PREPAID\\', None, 50, \\'54:36.0\\', \\'00:00.0\\', \\'00:00.0\\', \\'00:00.0\\', \\'00:00.0\\', \\'59:00.0\\', 3.55, 0.83, 0, \\'N\\', None, 0, 0, 0, 0, None, \\'Jamesha Lindsey               NA37944362\\', \\'Jamesha Lindsey               NA37944362\\', \\'2518 Amara Dr\\', None, None, \\'Sylvania\\', \\'OH\\', 43615, \\'US\\', None, \\'4192068488\\', \\'Jamesha Lindsey               NA37944362\\', \\'Jamesha Lindsey               \\', \\'2518 Amara Dr\\', None, None, \\'Sylvania\\', \\'OH\\', \\'43615\\', \\'US\\', None, \\'4192068488\\', None, None, None, None, None, None, None, None, None, None, None, \\'Jamesha Lindsey               \\', \\'2518 Amara Dr\\', None, None, \\'Sylvania\\', \\'OH\\', 43615, \\'US\\', None, \\'4192068488\\', None, None, None, None, None, None, None, None, None, None, None, None, \\'00:00.0\\', None, None, 0, None, 0, \\'RELEASED\\', None, None, None, \\'N\\', \\'54:36.0\\', \\'00:00.0\\', None, \\'00:00.0\\', \\'00:00.0\\', \\'00:00.0\\', None, None, None, None, None, None, 546942446, \\'US1\\', \\'Y\\', None, \\'000001_UPS_P_RES\\', None, \\'00:00.0\\', \\'59:00.0\\', None, None, None, None, None, None, None, None, None, \\'000001_UPS_P_RES\\', \\'N\\', None, 1, \\'90NA38562744\\', None, None, None, None, None, None, None, None, None, None, None, None, None, None, None, None, None, None, None, None, None, None, \\'ECOM\\', \\'Deckers eCommerce OU\\', None, None, None, None, None, None, \\'UGG\\', None, None, None, None, None, None, None, 0, 131586626, 0, None, None, None, None, None, None, None, 300270193, None, \\'55:58.8\\', \\'36:10.8\\', None, 0, 0, 0, None, \\'000001_UPS_P_RES\\', \\'WAVED\\', None, 1, 1, 1, \\' script name: AfterpayRedirect-Redirect | errMsg: Shipping address exists and the billing address is left empty on purpose., script name: AfterpayRedirect-Redirect | data: {\"apToken\":\"002.l5pe342659tro97bqrr3osk4fe4n1ascag8adcuvsurgfej5\"}\\', 2, \\'PREPAID\\', None, None, \\'N\\', 0, None, None, \\'(888) 432-8530\\', \\'www.ugg.com\\', \\'725004361501UGGA01NA379443\\', 4.20569e+28, \\'00:00.9\\', None, None, None, \\'UGGEBOX\\', None, 180.0, None, None, None, None, None, None, None, None, None, None, None, None, None, None, None, \\'37:48.0\\', 0, None, None, None, None, None, None, None, None, None, None, None, None, None, None, None, None, None, None, None, None, None, 0, None, None, 0, 0, None, None, None, None, 0, None, None, None, None, 0, None, None, None, None, None, None, None, None, None, None, None, None, 0, None, 0, None, None, None, None), (37339515, \\'US1\\', 546942508, None, None, None, \\'NA37944361\\', \\'Tyandria Smith\\', None, None, None, None, None, 0, None, None, None, \\'Fedex 2Day\\', None, \\'PREPAID\\', None, 50, \\'54:32.0\\', \\'00:00.0\\', \\'00:00.0\\', \\'00:00.0\\', \\'00:00.0\\', \\'59:00.0\\', 1.57, 0.5, 0, \\'N\\', None, 0, 0, 0, 0, None, \\'Tyandria Smith                NA37944361\\', \\'Tyandria Smith                NA37944361\\', \\'2218 N 32nd Street\\', None, None, \\'Milwaukee\\', \\'WI\\', 53208, \\'US\\', None, \\'4148528324\\', \\'Tyandria Smith                NA34524861\\', \\'Tyandria Smith                \\', \\'2218 N 32nd Street\\', None, None, \\'Milwaukee\\', \\'WI\\', \\'53208\\', \\'US\\', None, \\'4148528324\\', None, None, None, None, None, None, None, None, None, None, None, \\'Tyandria Smith                \\', \\'2218 N 32nd Street\\', None, None, \\'Milwaukee\\', \\'WI\\', 53208, \\'US\\', None, \\'4148528324\\', None, None, None, None, None, None, None, None, None, None, None, None, \\'00:00.0\\', None, None, 0, None, 0, \\'RELEASED\\', None, None, None, \\'N\\', \\'54:32.0\\', \\'00:00.0\\', None, \\'00:00.0\\', \\'00:00.0\\', \\'00:00.0\\', None, None, None, None, None, None, 546942508, \\'US1\\', \\'Y\\', None, \\'000001_UPS_P_2DA\\', None, \\'00:00.0\\', \\'59:00.0\\', None, None, None, None, None, None, None, None, None, \\'000001_FDEG_P_LTL\\', \\'N\\', None, 1, \\'9017017081\\', None, None, None, None, None, None, None, None, None, None, None, None, None, None, None, None, None, None, None, None, None, None, \\'ECOM\\', \\'Deckers eCommerce OU\\', None, None, None, None, None, None, \\'UGG\\', None, None, None, None, None, None, None, 0, 131586610, 0, None, None, None, None, None, None, None, 300270193, None, \\'55:58.8\\', \\'36:10.8\\', None, 0, 0, 0, None, \\'000001_FDEG_P_LTL\\', \\'PACKING\\', None, 1, 1, 1, \\' script name: CheckoutServices-PlaceOrder | data: start time: 2025-01-24T16:54:32.032+0000, script name: paymentechOrbitalService:_callOrbital | data: Call duration in milliseconds: 553\\', 2, \\'PREPAID\\', None, None, \\'N\\', 0, None, None, \\'(888) 432-8530\\', \\'www.ugg.com\\', \\'725005320801UGGA01NA379443\\', 4.20569e+28, \\'00:00.9\\', None, None, None, \\'UGGEBOX\\', None, 70.0, None, None, None, None, None, None, None, None, None, None, None, None, None, None, None, \\'38:04.0\\', 0, None, None, None, None, None, None, None, None, None, None, None, None, None, None, None, None, None, None, None, None, None, 0, None, None, 0, 0, None, None, None, None, 0, None, None, None, None, 0, None, None, None, None, None, None, None, None, None, None, None, None, 0, None, 0, None, None, None, None), (37339532, \\'US1\\', 546942418, None, None, None, \\'NA37944276\\', \\'Anna Sundberg\\', None, None, None, None, None, 0, None, None, None, \\'Fedex 2Day\\', None, \\'PREPAID\\', None, 50, \\'54:06.0\\', \\'00:00.0\\', \\'00:00.0\\', \\'00:00.0\\', \\'00:00.0\\', \\'59:00.0\\', 3.41, 0.83, 0, \\'N\\', None, 0, 0, 0, 0, None, \\'Anna Sundberg                 NA37944276\\', \\'Anna Sundberg                 NA37944276\\', \\'662 Ell Rd\\', None, None, \\'Camano Island\\', \\'WA\\', 98282, \\'US\\', None, \\'360-239-1181\\', \\'Anna Sundberg                 NA37944276\\', \\'Anna Sundberg                 \\', \\'662 Ell Rd\\', None, None, \\'Camano Island\\', \\'WA\\', \\'98282\\', \\'US\\', None, \\'360-239-1181\\', None, None, None, None, None, None, None, None, None, None, None, \\'Anna Sundberg                 \\', \\'662 Ell Rd\\', None, None, \\'Camano Island\\', \\'WA\\', 98282, \\'US\\', None, \\'360-239-1181\\', None, None, None, None, None, None, None, None, None, None, None, None, \\'00:00.0\\', None, None, 0, None, 0, \\'RELEASED\\', None, None, None, \\'N\\', \\'54:06.0\\', \\'00:00.0\\', None, \\'00:00.0\\', \\'00:00.0\\', \\'00:00.0\\', None, None, None, None, None, None, 546942418, \\'US1\\', \\'Y\\', None, \\'000001_UPS_P_2DA\\', None, \\'00:00.0\\', \\'59:00.0\\', None, None, None, None, None, None, None, None, None, \\'000001_FDEG_P_LTL\\', \\'N\\', None, 1, \\'90NA38562806\\', None, None, None, None, None, None, None, None, None, None, None, None, None, None, None, None, None, None, None, None, None, None, \\'ECOM\\', \\'Deckers eCommerce OU\\', None, None, None, None, None, None, \\'UGG\\', None, None, None, None, None, None, None, 0, 131586607, 0, None, None, None, None, None, None, None, 300270193, None, \\'55:58.8\\', \\'36:10.8\\', None, 0, 0, 0, None, \\'000001_FDEG_P_LTL\\', \\'WAVED\\', None, 1, 1, 1, \\' script name: CheckoutServices-PlaceOrder | data: start time: 2025-01-24T16:54:06.006+0000, script name: JerryService.js - authorize | data: Call duration in milliseconds: 1912\\', 2, \\'PREPAID\\', None, None, \\'N\\', 0, None, None, \\'(888) 432-8530\\', \\'www.ugg.com\\', \\'725009828201UGGA01NA379442\\', 4.20569e+28, \\'00:00.9\\', None, None, None, \\'UGGEBOX\\', None, 97.99, None, None, None, None, None, None, None, None, None, None, None, None, None, None, None, \\'37:33.0\\', 0, None, None, None, None, None, None, None, None, None, None, None, None, None, None, None, None, None, None, None, None, None, 0, None, None, 0, 0, None, None, None, None, 0, None, None, None, None, 0, None, None, None, None, None, None, None, None, None, None, None, None, 0, None, 0, None, None, None, None), (37339400, \\'US1\\', 546940412, None, None, None, \\'NA35538043_EX\\', \\'LISA BENOIT\\', None, None, None, None, None, 0, None, None, None, \\'FedEx Ground Residential\\', None, \\'PREPAID\\', None, 50, \\'53:52.0\\', \\'00:00.0\\', \\'00:00.0\\', \\'00:00.0\\', \\'00:00.0\\', \\'59:00.0\\', 2.79, 0.5, 0, \\'N\\', None, 0, 0, 0, 0, None, \\'LISA BENOIT                    N32857571\\', \\'LISA BENOIT                    N32857571\\', \\'258 OLD BARNSTABLE RD\\', None, None, \\'East Falmouth\\', \\'MA\\', 2536, \\'US\\', None, \\'7715217733\\', \\'LISA BENOIT                    N32857571\\', \\'LISA BENOIT                   \\', \\'258 OLD BARNSTABLE RD\\', None, None, \\'East Falmouth\\', \\'MA\\', \\'2536\\', \\'US\\', None, \\'7715217733\\', None, None, None, None, None, None, None, None, None, None, None, \\'LISA BENOIT                   \\', \\'258 OLD BARNSTABLE RD\\', None, None, \\'East Falmouth\\', \\'MA\\', 2536, \\'US\\', None, \\'7715217733\\', None, None, None, None, None, None, None, None, None, None, None, None, \\'00:00.0\\', None, None, 0, None, 0, \\'RELEASED\\', None, None, None, \\'N\\', \\'53:52.0\\', \\'53:53.0\\', None, \\'00:00.0\\', \\'00:00.0\\', \\'00:00.0\\', None, None, None, None, None, None, 546940412, \\'US1\\', \\'Y\\', None, \\'000001_UPS_P_RES\\', None, \\'00:00.0\\', \\'59:00.0\\', None, None, None, None, None, None, None, None, None, \\'000001_FDEG_P_RES\\', \\'N\\', None, 1, \\'9032884710\\', None, None, None, None, None, None, None, None, None, None, None, None, None, None, None, None, None, None, None, None, None, None, \\'ECOM\\', \\'Deckers eCommerce OU\\', None, None, None, None, None, None, \\'UGG\\', None, None, None, None, None, None, None, 0, 131585580, 0, None, None, None, None, None, None, None, 300270203, None, \\'25:52.0\\', \\'31:21.0\\', None, 0, 0, 0, None, \\'000001_FDEG_P_RES\\', \\'PACKING\\', None, 1, 1, 1, None, 0, \\'PREPAID\\', None, None, \\'N\\', 0, None, None, \\'(888) 432-8530\\', \\'www.ugg.com\\', \\'725000253601UGGA01NA355380\\', 4.20569e+28, \\'29:33.3\\', None, None, None, \\'UGGEBOX\\', None, 120.0, None, None, None, None, None, None, None, None, None, None, None, None, None, None, None, \\'11:59.0\\', 0, None, None, None, None, None, None, None, None, None, None, None, None, None, None, None, None, None, None, None, None, None, 0, None, None, 0, 0, None, None, None, None, 0, None, None, None, None, 0, None, None, None, None, None, None, None, None, None, None, None, None, 0, None, 0, None, None, None, None), (37339595, \\'US1\\', 546942467, None, None, None, \\'NA37944271\\', \\'Travis Freeman\\', None, None, None, None, None, 0, None, None, None, \\'United Parcel Service\\', None, \\'PREPAID\\', None, 50, \\'53:50.0\\', \\'00:00.0\\', \\'00:00.0\\', \\'00:00.0\\', \\'00:00.0\\', \\'59:00.0\\', 7.96, 2.2, 0, \\'N\\', None, 0, 0, 0, 0, None, \\'Travis Freeman                NA37944271\\', \\'Travis Freeman                NA37944271\\', \\'85 E 43rd street Apt D2\\', None, None, \\'Brooklyn\\', \\'NY\\', 11203, \\'US\\', None, \\'3474195805\\', \\'Travis Freeman                NA37944271\\', \\'Travis Freeman                \\', \\'85 E 43rd street Apt D2\\', None, None, \\'Brooklyn\\', \\'NY\\', \\'11203\\', \\'US\\', None, \\'3474195805\\', None, None, None, None, None, None, None, None, None, None, None, \\'Travis Freeman                \\', \\'85 E 43rd street Apt D2\\', None, None, \\'Brooklyn\\', \\'NY\\', 11203, \\'US\\', None, \\'3474195805\\', None, None, None, None, None, None, None, None, None, None, None, None, \\'00:00.0\\', None, None, 0, None, 0, \\'RELEASED\\', None, None, None, \\'N\\', \\'53:50.0\\', \\'00:00.0\\', None, \\'00:00.0\\', \\'00:00.0\\', \\'00:00.0\\', None, None, None, None, None, None, 546942467, \\'US1\\', \\'Y\\', None, \\'000001_UPS_P_RES\\', None, \\'00:00.0\\', \\'59:00.0\\', None, None, None, None, None, None, None, None, None, \\'000001_UPS_P_RES\\', \\'N\\', None, 1, \\'90NA38562803\\', None, None, None, None, None, None, None, None, None, None, None, None, None, None, None, None, None, None, None, None, None, None, \\'ECOM\\', \\'Deckers eCommerce OU\\', None, None, None, None, None, None, \\'UGG\\', None, None, None, None, None, None, None, 0, 131586613, 0, None, None, None, None, None, None, None, 300270193, None, \\'55:58.8\\', \\'36:10.8\\', None, 0, 1, 0, None, \\'000001_UPS_P_RES\\', \\'WAVED\\', None, 2, 2, 2, \\' script name: CheckoutServices-PlaceOrder | data: start time: 2025-01-24T16:53:50.050+0000, script name: paymentechOrbitalService:_callOrbital | data: Call duration in milliseconds: 383\\', 2, \\'PREPAID\\', None, None, \\'N\\', 0, None, None, \\'(888) 432-8530\\', \\'www.ugg.com\\', \\'725001120301UGGA01NA379442\\', 4.20569e+28, \\'00:00.9\\', None, None, None, \\'UGGEBOX\\', None, 290.0, None, None, None, None, None, None, None, None, None, None, None, None, None, None, None, \\'37:53.0\\', 0, None, None, None, None, None, None, None, None, None, None, None, None, None, None, None, None, None, None, None, None, None, 0, None, None, 0, 0, None, None, None, None, 0, None, None, None, None, 0, None, None, None, None, None, None, None, None, None, None, None, None, 0, None, 0, None, None, None, None), (37339497, \\'US1\\', 546942490, None, None, None, \\'NA37944353\\', \\'Patricia  Kamara \\', None, None, None, None, None, 0, None, None, None, \\'United Parcel Service\\', None, \\'PREPAID\\', None, 50, \\'53:45.0\\', \\'00:00.0\\', \\'00:00.0\\', \\'00:00.0\\', \\'00:00.0\\', \\'59:00.0\\', 7.68, 1.58, 0, \\'N\\', None, 0, 0, 0, 0, None, \\'Patricia Kamara               NA37684230\\', \\'Patricia Kamara               NA37684230\\', \\'4206 Bonham St\\', None, None, \\'Dallas\\', \\'TX\\', 75229, \\'US\\', None, \\'2147340497\\', \\'Patricia Kamara               NA37944353\\', \\'Patricia Kamara               \\', \\'4206 Bonham St\\', None, None, \\'Dallas\\', \\'TX\\', \\'75229\\', \\'US\\', None, \\'2147340497\\', None, None, None, None, None, None, None, None, None, None, None, \\'Patricia Kamara               \\', \\'4206 Bonham St\\', None, None, \\'Dallas\\', \\'TX\\', 75229, \\'US\\', None, \\'2147340497\\', None, None, None, None, None, None, None, None, None, None, None, None, \\'00:00.0\\', None, None, 0, None, 0, \\'RELEASED\\', None, None, None, \\'N\\', \\'53:45.0\\', \\'00:00.0\\', None, \\'00:00.0\\', \\'00:00.0\\', \\'00:00.0\\', None, None, None, None, None, None, 546942490, \\'US1\\', \\'Y\\', None, \\'000001_UPS_P_RES\\', None, \\'00:00.0\\', \\'59:00.0\\', None, None, None, None, None, None, None, None, None, \\'000001_UPS_P_RES\\', \\'N\\', None, 1, \\'90NA38310583\\', None, None, None, None, None, None, None, None, None, None, None, None, None, None, None, None, None, None, None, None, None, None, \\'ECOM\\', \\'Deckers eCommerce OU\\', None, None, None, None, None, None, \\'UGG\\', None, None, None, None, None, None, None, 0, 131586619, 0, None, None, None, None, None, None, None, 300270193, None, \\'55:58.8\\', \\'36:10.8\\', None, 0, 1, 0, None, \\'000001_UPS_P_RES\\', \\'WAVED\\', None, 3, 3, 3, \\' script name: AfterpayRedirect-Redirect | errMsg: Shipping address exists and the billing address is left empty on purpose., script name: AfterpayRedirect-Redirect | data: {\"apToken\":\"002.qjdji6vr4l4e1ob1b8km5plof8nsvpchm5c5ahqic6sgo3b\"}\\', 2, \\'PREPAID\\', None, None, \\'N\\', 0, None, None, \\'(888) 432-8530\\', \\'www.ugg.com\\', \\'725007522901UGGA01NA379443\\', 4.20569e+28, \\'00:00.9\\', None, None, None, \\'UGGEBOX\\', None, 405.0, None, None, None, None, None, None, None, None, None, None, None, None, None, None, None, \\'38:01.0\\', 0, None, None, None, None, None, None, None, None, None, None, None, None, None, None, None, None, None, None, None, None, None, 0, None, None, 0, 0, None, None, None, None, 0, None, None, None, None, 0, None, None, None, None, None, None, None, None, None, None, None, None, 0, None, 0, None, None, None, None), (37339498, \\'US1\\', 546942491, None, None, None, \\'NA37944268\\', \\'natalie juckett\\', None, None, None, None, None, 0, None, None, None, \\'United Parcel Service\\', None, \\'PREPAID\\', None, 50, \\'53:45.0\\', \\'00:00.0\\', \\'00:00.0\\', \\'00:00.0\\', \\'00:00.0\\', \\'59:00.0\\', 3.68, 0.83, 0, \\'N\\', None, 0, 0, 0, 0, None, \\'natalie juckett               NA37944268\\', \\'natalie juckett               NA37944268\\', \\'2556 Davidsonville Rd\\', None, None, \\'Gambrills\\', \\'MD\\', 21054, \\'US\\', None, \\'4436996824\\', \\'natalie juckett               NA37944268\\', \\'natalie juckett               \\', \\'2556 Davidsonville Rd\\', None, None, \\'Gambrills\\', \\'MD\\', \\'21054\\', \\'US\\', None, \\'4436996824\\', None, None, None, None, None, None, None, None, None, None, None, \\'natalie juckett               \\', \\'2556 Davidsonville Rd\\', None, None, \\'Gambrills\\', \\'MD\\', 21054, \\'US\\', None, \\'4436996824\\', None, None, None, None, None, None, None, None, None, None, None, None, \\'00:00.0\\', None, None, 0, None, 0, \\'RELEASED\\', None, None, None, \\'N\\', \\'53:45.0\\', \\'00:00.0\\', None, \\'00:00.0\\', \\'00:00.0\\', \\'00:00.0\\', None, None, None, None, None, None, 546942491, \\'US1\\', \\'Y\\', None, \\'000001_UPS_P_RES\\', None, \\'00:00.0\\', \\'59:00.0\\', None, None, None, None, None, None, None, None, None, \\'000001_UPS_P_RES\\', \\'N\\', None, 1, \\'90NA38562801\\', None, None, None, None, None, None, None, None, None, None, None, None, None, None, None, None, None, None, None, None, None, None, \\'ECOM\\', \\'Deckers eCommerce OU\\', None, None, None, None, None, None, \\'UGG\\', None, None, None, None, None, None, None, 0, 131586623, 0, None, None, None, None, None, None, None, 300270193, None, \\'55:58.8\\', \\'36:10.8\\', None, 0, 0, 0, None, \\'000001_UPS_P_RES\\', \\'WAVED\\', None, 1, 1, 1, \\' script name: CheckoutServices-PlaceOrder | data: start time: 2025-01-24T16:53:45.045+0000, script name: paymentechOrbitalService:_callOrbital | data: Call duration in milliseconds: 386\\', 2, \\'PREPAID\\', None, None, \\'N\\', 0, None, None, \\'(888) 432-8530\\', \\'www.ugg.com\\', \\'725002105401UGGA01NA379442\\', 4.20569e+28, \\'00:00.9\\', None, None, None, \\'UGGEBOX\\', None, 140.0, None, None, None, None, None, None, None, None, None, None, None, None, None, None, None, \\'38:01.0\\', 0, None, None, None, None, None, None, None, None, None, None, None, None, None, None, None, None, None, None, None, None, None, 0, None, None, 0, 0, None, None, None, None, 0, None, None, None, None, 0, None, None, None, None, None, None, None, None, None, None, None, None, 0, None, 0, None, None, None, None), (37339512, \\'US1\\', 546942505, None, None, None, \\'NA37944267\\', \\'Caitlyn Brown\\', None, None, None, None, None, 0, None, None, None, \\'United Parcel Service\\', None, \\'PREPAID\\', None, 50, \\'53:45.0\\', \\'00:00.0\\', \\'00:00.0\\', \\'00:00.0\\', \\'00:00.0\\', \\'59:00.0\\', 1.15, 0.5, 0, \\'N\\', None, 0, 0, 0, 0, None, \\'Caitlyn Rifanburg             NA12633092\\', \\'Caitlyn Rifanburg             NA12633092\\', \\'242 County Road 31\\', None, None, \\'Norwich\\', \\'NY\\', 13815, \\'US\\', None, \\'16072446457\\', \\'Caitlyn Brown                  N33279017\\', \\'Caitlyn Brown                 \\', \\'242 County Road 31\\', None, None, \\'Norwich\\', \\'NY\\', \\'13815\\', \\'US\\', None, \\'6072446457\\', None, None, None, None, None, None, None, None, None, None, None, \\'Caitlyn Rifanburg             \\', \\'242 County Road 31\\', None, None, \\'Norwich\\', \\'NY\\', 13815, \\'US\\', None, \\'16072446457\\', None, None, None, None, None, None, None, None, None, None, None, None, \\'00:00.0\\', None, None, 0, None, 0, \\'RELEASED\\', None, None, None, \\'N\\', \\'53:45.0\\', \\'00:00.0\\', None, \\'00:00.0\\', \\'00:00.0\\', \\'00:00.0\\', None, None, None, None, None, None, 546942505, \\'US1\\', \\'Y\\', None, \\'000001_UPS_P_RES\\', None, \\'00:00.0\\', \\'59:00.0\\', None, None, None, None, None, None, None, None, None, \\'000001_UPS_P_RES\\', \\'N\\', None, 1, \\'9022340018\\', None, None, None, None, None, None, None, None, None, None, None, None, None, None, None, None, None, None, None, None, None, None, \\'ECOM\\', \\'Deckers eCommerce OU\\', None, None, None, None, None, None, \\'UGG\\', None, None, None, None, None, None, None, 0, 131586624, 0, None, None, None, None, None, None, None, 300270193, None, \\'55:58.8\\', \\'36:10.8\\', None, 0, 0, 0, None, \\'000001_UPS_P_RES\\', \\'PACKING\\', None, 1, 1, 1, \\' script name: CheckoutServices-PlaceOrder | data: start time: 2025-01-24T16:53:45.045+0000, script name: paymentechOrbitalService:_callOrbital | data: Call duration in milliseconds: 397\\', 2, \\'PREPAID\\', None, None, \\'N\\', 0, None, None, \\'(888) 432-8530\\', \\'www.ugg.com\\', \\'725001381501UGGA01NA379442\\', 4.20569e+28, \\'00:00.9\\', None, None, None, \\'UGGEBOX\\', None, 41.99, None, None, None, None, None, None, None, None, None, None, None, None, None, None, None, \\'38:04.0\\', 0, None, None, None, None, None, None, None, None, None, None, None, None, None, None, None, None, None, None, None, None, None, 0, None, None, 0, 0, None, None, None, None, 0, None, None, None, None, 0, None, None, None, None, None, None, None, None, None, None, None, None, 0, None, 0, None, None, None, None), (37339608, \\'US1\\', 546942906, None, None, None, \\'NA37944352\\', \\'Maya Siskin-Lavine\\', None, None, None, None, None, 0, None, None, None, \\'United Parcel Service (Next Day)\\', None, \\'PREPAID\\', None, 50, \\'53:32.0\\', \\'00:00.0\\', \\'00:00.0\\', \\'00:00.0\\', \\'00:00.0\\', \\'59:00.0\\', 1.85, 0.5, 0, \\'N\\', None, 0, 0, 0, 0, None, \\'Maya Siskin-Lavine            NA37944352\\', \\'Maya Siskin-Lavine            NA37944352\\', \\'2434\\', \\'9th Street\\', None, \\'Berkeley\\', \\'CA\\', 94710, \\'US\\', None, \\'15106846593\\', \\'Maya Siskin-Lavine            NA37944352\\', \\'Maya Siskin-Lavine            \\', \\'2434\\', \\'9th Street\\', None, \\'Berkeley\\', \\'CA\\', \\'94710\\', \\'US\\', None, \\'15106846593\\', None, None, None, None, None, None, None, None, None, None, None, \\'Maya Siskin-Lavine            \\', \\'2434\\', \\'9th Street\\', None, \\'Berkeley\\', \\'CA\\', 94710, \\'US\\', None, \\'15106846593\\', None, None, None, None, None, None, None, None, None, None, None, None, \\'00:00.0\\', None, None, 0, None, 0, \\'RELEASED\\', None, None, None, \\'N\\', \\'53:32.0\\', \\'00:00.0\\', None, \\'00:00.0\\', \\'00:00.0\\', \\'00:00.0\\', None, None, None, None, None, None, 546942906, \\'US1\\', \\'Y\\', None, \\'000001_UPSN_A_1DP\\', None, \\'00:00.0\\', \\'59:00.0\\', None, None, None, None, None, None, None, None, None, \\'000001_UPS1_A_BWG\\', \\'N\\', None, 1, \\'90NA38492591\\', None, None, None, None, None, None, None, None, None, None, None, None, None, None, None, None, None, None, None, None, None, None, \\'ECOM\\', \\'Deckers eCommerce OU\\', None, None, None, None, None, None, \\'TEVA\\', None, None, None, None, None, None, None, 0, 131586691, 0, None, None, None, None, None, None, None, 300270192, None, \\'56:13.5\\', \\'33:21.2\\', None, 0, 0, 0, None, \\'000001_UPS1_A_BWG\\', \\'WAVED\\', None, 1, 1, 1, \\' script name: paymentechOrbitalService:_callOrbital | data: Call duration in milliseconds: 397, Token = TNA37944352. Credit card removed from the order\\', 2, \\'PREPAID\\', None, None, \\'N\\', 0, None, None, \\'(800) 367-8382\\', \\'www.teva.com\\', \\'725009471001TEVA01NA379443\\', 4.20569e+28, \\'59:45.8\\', None, None, None, None, None, 70.0, None, None, None, None, None, None, None, None, None, None, None, None, None, None, None, \\'46:03.0\\', 0, None, None, None, None, None, None, None, None, None, None, None, None, None, None, None, None, None, None, None, None, None, 0, None, None, 0, 0, None, None, None, None, 0, None, None, None, None, 0, None, None, None, None, None, None, None, None, None, None, None, None, 0, None, 0, None, None, None, None), (37339571, \\'US1\\', 546942461, None, None, None, \\'NA37944350\\', \\'Samantha Meyer\\', None, None, None, None, None, 0, None, None, None, \\'United Parcel Service\\', None, \\'PREPAID\\', None, 50, \\'53:21.0\\', \\'00:00.0\\', \\'00:00.0\\', \\'00:00.0\\', \\'00:00.0\\', \\'59:00.0\\', 3.21, 0.83, 0, \\'N\\', None, 0, 0, 0, 0, None, \\'Samantha Meyer                NA37944350\\', \\'Samantha Meyer                NA37944350\\', \\'405 Bishops Way Unit 210\\', None, None, \\'Brookfield\\', \\'WI\\', 53005, \\'US\\', None, \\'7155636342\\', \\'Samantha Meyer                NA37944350\\', \\'Samantha Meyer                \\', \\'405 Bishops Way Unit 210\\', None, None, \\'Brookfield\\', \\'WI\\', \\'53005\\', \\'US\\', None, \\'7155636342\\', None, None, None, None, None, None, None, None, None, None, None, \\'Samantha Meyer                \\', \\'405 Bishops Way Unit 210\\', None, None, \\'Brookfield\\', \\'WI\\', 53005, \\'US\\', None, \\'7155636342\\', None, None, None, None, None, None, None, None, None, None, None, None, \\'00:00.0\\', None, None, 0, None, 0, \\'RELEASED\\', None, None, None, \\'N\\', \\'53:21.0\\', \\'00:00.0\\', None, \\'00:00.0\\', \\'00:00.0\\', \\'00:00.0\\', None, None, None, None, None, None, 546942461, \\'US1\\', \\'Y\\', None, \\'000001_UPS_P_RES\\', None, \\'00:00.0\\', \\'59:00.0\\', None, None, None, None, None, None, None, None, None, \\'000001_UPS_P_RES\\', \\'N\\', None, 1, \\'90NA38562734\\', None, None, None, None, None, None, None, None, None, None, None, None, None, None, None, None, None, None, None, None, None, None, \\'ECOM\\', \\'Deckers eCommerce OU\\', None, None, None, None, None, None, \\'UGG\\', None, None, None, None, None, None, None, 0, 131586616, 0, None, None, None, None, None, None, None, 300270193, None, \\'55:58.8\\', \\'36:10.8\\', None, 0, 0, 0, None, \\'000001_UPS_P_RES\\', \\'WAVED\\', None, 1, 1, 1, \\' script name: CheckoutServices-PlaceOrder | data: start time: 2025-01-24T16:53:21.021+0000, script name: paymentechOrbitalService:_callOrbital | data: Call duration in milliseconds: 393\\', 2, \\'PREPAID\\', None, None, \\'N\\', 0, None, None, \\'(888) 432-8530\\', \\'www.ugg.com\\', \\'725005300501UGGA01NA379443\\', 4.20569e+28, \\'00:00.9\\', None, None, None, \\'UGGEBOX\\', None, 120.0, None, None, None, None, None, None, None, None, None, None, None, None, None, None, None, \\'37:53.0\\', 0, None, None, None, None, None, None, None, None, None, None, None, None, None, None, None, None, None, None, None, None, None, 0, None, None, 0, 0, None, None, None, None, 0, None, None, None, None, 0, None, None, None, None, None, None, None, None, None, None, None, None, 0, None, 0, None, None, None, None), (37339544, \\'US1\\', 546942428, None, None, None, \\'NA37944263\\', \\'Allegra Richdale\\', None, None, None, None, None, 0, None, None, None, \\'United Parcel Service\\', None, \\'PREPAID\\', None, 50, \\'53:10.0\\', \\'00:00.0\\', \\'00:00.0\\', \\'00:00.0\\', \\'00:00.0\\', \\'59:00.0\\', 3.93, 0.83, 0, \\'N\\', None, 0, 0, 0, 0, None, \\'Allegra Richdale              NA11762483\\', \\'Allegra Richdale              NA11762483\\', \\'879 Hartzell St\\', None, None, \\'Pacific Palisades\\', \\'CA\\', 90272, \\'US\\', None, \\'2139258128\\', \\'Allegra Richdale              NA37944263\\', \\'Allegra Richdale              \\', \\'9210 Cordell Drive\\', None, None, \\'Los Angeles\\', \\'CA\\', \\'90069\\', \\'US\\', None, \\'2139258128\\', None, None, None, None, None, None, None, None, None, None, None, \\'Allegra Richdale              \\', \\'879 Hartzell St\\', None, None, \\'Pacific Palisades\\', \\'CA\\', 90272, \\'US\\', None, \\'2139258128\\', None, None, None, None, None, None, None, None, None, None, None, None, \\'00:00.0\\', None, None, 0, None, 0, \\'RELEASED\\', None, None, None, \\'N\\', \\'53:10.0\\', \\'00:00.0\\', None, \\'00:00.0\\', \\'00:00.0\\', \\'00:00.0\\', None, None, None, None, None, None, 546942428, \\'US1\\', \\'Y\\', None, \\'000001_UPS_P_RES\\', None, \\'00:00.0\\', \\'59:00.0\\', None, None, None, None, None, None, None, None, None, \\'000001_UPS_P_RES\\', \\'N\\', None, 1, \\'902133543\\', None, None, None, None, None, None, None, None, None, None, None, None, None, None, None, None, None, None, None, None, None, None, \\'ECOM\\', \\'Deckers eCommerce OU\\', None, None, None, None, None, None, \\'UGG\\', None, None, None, None, None, None, None, 0, 131586614, 0, None, None, None, None, None, None, None, 300270193, None, \\'55:58.8\\', \\'36:10.8\\', None, 0, 1, 0, None, \\'000001_UPS_P_RES\\', \\'WAVED\\', None, 1, 2, 1, \\' script name: paymentechOrbitalService:_callOrbital | data: Call duration in milliseconds: 385, Token = TNA37944263. Credit card removed from the order\\', 2, \\'PREPAID\\', None, None, \\'N\\', 0, None, None, \\'(888) 432-8530\\', \\'www.ugg.com\\', \\'725009006901UGGA01NA379442\\', 4.20569e+28, \\'00:00.9\\', None, None, None, \\'UGGEBOX\\', None, 240.0, None, None, None, None, None, None, None, None, None, None, None, None, None, None, None, \\'37:43.0\\', 0, None, None, None, None, None, None, None, None, None, None, None, None, None, None, None, None, None, None, None, None, None, 0, None, None, 0, 0, None, None, None, None, 0, None, None, None, None, 0, None, None, None, None, None, None, None, None, None, None, None, None, 0, None, 0, None, None, None, None), (37339560, \\'US1\\', 546942444, None, None, None, \\'NA37944261\\', \\'Dariana Murinovich\\', None, None, None, None, None, 0, None, None, None, \\'United Parcel Service\\', None, \\'PREPAID\\', None, 50, \\'53:08.0\\', \\'00:00.0\\', \\'00:00.0\\', \\'00:00.0\\', \\'00:00.0\\', \\'59:00.0\\', 2.99, 0.83, 0, \\'N\\', None, 0, 0, 0, 0, None, \\'Dariana Iana Murinovich       NA37944261\\', \\'Dariana Iana Murinovich       NA37944261\\', \\'2501 S Ocean Dr\\', \\'1627\\', None, \\'Hollywood\\', \\'FL\\', 33019, \\'US\\', None, \\'17542101950\\', \\'Dariana Iana Murinovich       NA37944261\\', \\'Dariana Iana Murinovich       \\', \\'2501 S Ocean Dr\\', \\'1627\\', None, \\'Hollywood\\', \\'FL\\', \\'33019\\', \\'US\\', None, \\'17542101950\\', None, None, None, None, None, None, None, None, None, None, None, \\'Dariana Iana Murinovich       \\', \\'2501 S Ocean Dr\\', \\'1627\\', None, \\'Hollywood\\', \\'FL\\', 33019, \\'US\\', None, \\'17542101950\\', None, None, None, None, None, None, None, None, None, None, None, None, \\'00:00.0\\', None, None, 0, None, 0, \\'RELEASED\\', None, None, None, \\'N\\', \\'53:08.0\\', \\'00:00.0\\', None, \\'00:00.0\\', \\'00:00.0\\', \\'00:00.0\\', None, None, None, None, None, None, 546942444, \\'US1\\', \\'Y\\', None, \\'000001_UPS_P_RES\\', None, \\'00:00.0\\', \\'59:00.0\\', None, None, None, None, None, None, None, None, None, \\'000001_UPS_P_RES\\', \\'N\\', None, 1, \\'9027782114\\', None, None, None, None, None, None, None, None, None, None, None, None, None, None, None, None, None, None, None, None, None, None, \\'ECOM\\', \\'Deckers eCommerce OU\\', None, None, None, None, None, None, \\'UGG\\', None, None, None, None, None, None, None, 0, 131586611, 0, None, None, None, None, None, None, None, 300270193, None, \\'55:58.8\\', \\'36:10.8\\', None, 0, 0, 0, None, \\'000001_UPS_P_RES\\', \\'PACKING\\', None, 1, 1, 1, \\' script name: paymentechOrbitalService:_callOrbital | data: Call duration in milliseconds: 384, Token = TNA37944261. Credit card removed from the order\\', 2, \\'PREPAID\\', None, None, \\'N\\', 0, None, None, \\'(888) 432-8530\\', \\'www.ugg.com\\', \\'725003301901UGGA01NA379442\\', 4.20569e+28, \\'00:00.9\\', None, None, None, \\'UGGEBOX\\', None, 111.99, None, None, None, None, None, None, None, None, None, None, None, None, None, None, None, \\'37:48.0\\', 0, None, None, None, None, None, None, None, None, None, None, None, None, None, None, None, None, None, None, None, None, None, 0, None, None, 0, 0, None, None, None, None, 0, None, None, None, None, 0, None, None, None, None, None, None, None, None, None, None, None, None, 0, None, 0, None, None, None, None), (37339573, \\'US1\\', 546942463, None, None, None, \\'NA37944346\\', \\'Mykeria Jones\\', None, None, None, None, None, 0, None, None, None, \\'United Parcel Service\\', None, \\'PREPAID\\', None, 50, \\'52:53.0\\', \\'00:00.0\\', \\'00:00.0\\', \\'00:00.0\\', \\'00:00.0\\', \\'59:00.0\\', 2.07, 0.5, 0, \\'N\\', None, 0, 0, 0, 0, None, \\'Mykeria Jones                 NA37944346\\', \\'Mykeria Jones                 NA37944346\\', \\'5954 Sperry Rd\\', \\'O6\\', None, \\'Thoeodore\\', \\'AL\\', 36582, \\'US\\', None, \\'2514214420\\', \\'Chris Sullivan                NA37944346\\', \\'Chris Sullivan                \\', \\'5954 Sperry Rd\\', \\'O6\\', None, \\'Theodore\\', \\'AL\\', \\'36582\\', \\'US\\', None, \\'2514214420\\', None, None, None, None, None, None, None, None, None, None, None, \\'Mykeria Jones                 \\', \\'5954 Sperry Rd\\', \\'O6\\', None, \\'Thoeodore\\', \\'AL\\', 36582, \\'US\\', None, \\'2514214420\\', None, None, None, None, None, None, None, None, None, None, None, None, \\'00:00.0\\', None, None, 0, None, 0, \\'RELEASED\\', None, None, None, \\'N\\', \\'52:53.0\\', \\'00:00.0\\', None, \\'00:00.0\\', \\'00:00.0\\', \\'00:00.0\\', None, None, None, None, None, None, 546942463, \\'US1\\', \\'Y\\', None, \\'000001_UPS_P_RES\\', None, \\'00:00.0\\', \\'59:00.0\\', None, None, None, None, None, None, None, None, None, \\'000001_UPS_P_RES\\', \\'N\\', None, 1, \\'90NA37944346-AP\\', None, None, None, None, None, None, None, None, None, None, None, None, None, None, None, None, None, None, None, None, None, None, \\'ECOM\\', \\'Deckers eCommerce OU\\', None, None, None, None, None, None, \\'UGG\\', None, None, None, None, None, None, None, 0, 131586625, 0, None, None, None, None, None, None, None, 300270193, None, \\'55:58.8\\', \\'36:10.8\\', None, 0, 0, 0, None, \\'000001_UPS_P_RES\\', \\'WAVED\\', None, 1, 1, 1, \\' script name: paymentechOrbitalService:_callOrbital | data: Call duration in milliseconds: 389, Token = TNA37944346. Credit card removed from the order\\', 2, \\'PREPAID\\', None, None, \\'N\\', 0, None, None, \\'(888) 432-8530\\', \\'www.ugg.com\\', \\'725003658201UGGA01NA379443\\', 4.20569e+28, \\'00:00.9\\', None, None, None, \\'UGGEBOX\\', None, 95.0, None, None, None, None, None, None, None, None, None, None, None, None, None, None, None, \\'37:53.0\\', 0, None, None, None, None, None, None, None, None, None, None, None, None, None, None, None, None, None, None, None, None, None, 0, None, None, 0, 0, None, None, None, None, 0, None, None, None, None, 0, None, None, None, None, None, None, None, None, None, None, None, None, 0, None, 0, None, None, None, None), (37339528, \\'US1\\', 546942415, None, None, None, \\'NA37944255\\', \\'Ulises Rodriguez\\', None, None, None, None, None, 0, None, None, None, \\'United Parcel Service\\', None, \\'PREPAID\\', None, 50, \\'52:39.0\\', \\'00:00.0\\', \\'00:00.0\\', \\'00:00.0\\', \\'00:00.0\\', \\'59:00.0\\', 2.07, 0.5, 0, \\'N\\', None, 0, 0, 0, 0, None, \\'Ulises Rodriguez              NA37944255\\', \\'Ulises Rodriguez              NA37944255\\', \\'416 Busch St\\', None, None, \\'Muscatine\\', \\'IA\\', 52761, \\'US\\', None, \\'5635541105\\', \\'Ulises Rodriguez              NA37944255\\', \\'Ulises Rodriguez              \\', \\'416 Busch St\\', None, None, \\'Muscatine\\', \\'IA\\', \\'52761\\', \\'US\\', None, \\'5635541105\\', None, None, None, None, None, None, None, None, None, None, None, \\'Ulises Rodriguez              \\', \\'416 Busch St\\', None, None, \\'Muscatine\\', \\'IA\\', 52761, \\'US\\', None, \\'5635541105\\', None, None, None, None, None, None, None, None, None, None, None, None, \\'00:00.0\\', None, None, 0, None, 0, \\'RELEASED\\', None, None, None, \\'N\\', \\'52:39.0\\', \\'00:00.0\\', None, \\'00:00.0\\', \\'00:00.0\\', \\'00:00.0\\', None, None, None, None, None, None, 546942415, \\'US1\\', \\'Y\\', None, \\'000001_UPS_P_RES\\', None, \\'00:00.0\\', \\'59:00.0\\', None, None, None, None, None, None, None, None, None, \\'000001_UPS_P_RES\\', \\'N\\', None, 1, \\'90NA37944255-AP\\', None, None, None, None, None, None, None, None, None, None, None, None, None, None, None, None, None, None, None, None, None, None, \\'ECOM\\', \\'Deckers eCommerce OU\\', None, None, None, None, None, None, \\'UGG\\', None, None, None, None, None, None, None, 0, 131586606, 0, None, None, None, None, None, None, None, 300270193, None, \\'55:58.8\\', \\'36:10.8\\', None, 0, 0, 0, None, \\'000001_UPS_P_RES\\', \\'WAVED\\', None, 1, 1, 1, \\' script name: paymentechOrbitalService:_callOrbital | data: Call duration in milliseconds: 500, Token = TNA37944255. Credit card removed from the order\\', 2, \\'PREPAID\\', None, None, \\'N\\', 0, None, None, \\'(888) 432-8530\\', \\'www.ugg.com\\', \\'725005276101UGGA01NA379442\\', 4.20569e+28, \\'00:00.9\\', None, None, None, \\'UGGEBOX\\', None, 95.0, None, None, None, None, None, None, None, None, None, None, None, None, None, None, None, \\'37:33.0\\', 0, None, None, None, None, None, None, None, None, None, None, None, None, None, None, None, None, None, None, None, None, None, 0, None, None, 0, 0, None, None, None, None, 0, None, None, None, None, 0, None, None, None, None, None, None, None, None, None, None, None, None, 0, None, 0, None, None, None, None), (37339554, \\'US1\\', 546942443, None, None, None, \\'NA37944343\\', \\'Keilee Walters\\', None, None, None, None, None, 0, None, None, None, \\'United Parcel Service\\', None, \\'PREPAID\\', None, 50, \\'52:35.0\\', \\'00:00.0\\', \\'00:00.0\\', \\'00:00.0\\', \\'00:00.0\\', \\'59:00.0\\', 3.07, 0.83, 0, \\'N\\', None, 0, 0, 0, 0, None, \\'Keilee Walters                NA37944343\\', \\'Keilee Walters                NA37944343\\', \\'13605 Brook way\\', None, None, \\'Waterford\\', \\'CA\\', 95386, \\'US\\', None, \\'2099186740\\', \\'Keilee Walters                NA37944343\\', \\'Keilee Walters                \\', \\'864 Meadowlands Drive\\', None, None, \\'Oakdale\\', \\'CA\\', \\'95361\\', \\'US\\', None, \\'2099186740\\', None, None, None, None, None, None, None, None, None, None, None, \\'Keilee Walters                \\', \\'13605 Brook way\\', None, None, \\'Waterford\\', \\'CA\\', 95386, \\'US\\', None, \\'2099186740\\', None, None, None, None, None, None, None, None, None, None, None, None, \\'00:00.0\\', None, None, 0, None, 0, \\'RELEASED\\', None, None, None, \\'N\\', \\'52:35.0\\', \\'00:00.0\\', None, \\'00:00.0\\', \\'00:00.0\\', \\'00:00.0\\', None, None, None, None, None, None, 546942443, \\'US1\\', \\'Y\\', None, \\'000001_UPS_P_RES\\', None, \\'00:00.0\\', \\'59:00.0\\', None, None, None, None, None, None, None, None, None, \\'000001_UPS_P_RES\\', \\'N\\', None, 1, \\'90NA38562725\\', None, None, None, None, None, None, None, None, None, None, None, None, None, None, None, None, None, None, None, None, None, None, \\'ECOM\\', \\'Deckers eCommerce OU\\', None, None, None, None, None, None, \\'UGG\\', None, None, None, None, None, None, None, 0, 131586603, 0, None, None, None, None, None, None, None, 300270193, None, \\'55:58.8\\', \\'36:10.8\\', None, 0, 0, 0, None, \\'000001_UPS_P_RES\\', \\'WAVED\\', None, 1, 1, 1, \\' script name: CheckoutServices-PlaceOrder | data: start time: 2025-01-24T16:52:35.035+0000, script name: paymentechOrbitalService:_callOrbital | data: Call duration in milliseconds: 406\\', 2, \\'PREPAID\\', None, None, \\'N\\', 0, None, None, \\'(888) 432-8530\\', \\'www.ugg.com\\', \\'725009536101UGGA01NA379443\\', 4.20569e+28, \\'00:00.9\\', None, None, None, \\'UGGEBOX\\', None, 160.0, None, None, None, None, None, None, None, None, None, None, None, None, None, None, None, \\'37:46.0\\', 0, None, None, None, None, None, None, None, None, None, None, None, None, None, None, None, None, None, None, None, None, None, 0, None, None, 0, 0, None, None, None, None, 0, None, None, None, None, 0, None, None, None, None, None, None, None, None, None, None, None, None, 0, None, 0, None, None, None, None), (37339541, \\'US1\\', 546942426, None, None, None, \\'NA37944252\\', \\'Ally Small\\', None, None, None, None, None, 0, None, None, None, \\'United Parcel Service\\', None, \\'PREPAID\\', None, 50, \\'52:30.0\\', \\'00:00.0\\', \\'00:00.0\\', \\'00:00.0\\', \\'00:00.0\\', \\'59:00.0\\', 4.55, 0.83, 0, \\'N\\', None, 0, 0, 0, 0, None, \\'Ally Small                    NA37944252\\', \\'Ally Small                    NA37944252\\', \\'7131 ulysses st\\', None, None, \\'Arvada\\', \\'CO\\', 80007, \\'US\\', None, \\'4104913046\\', \\'Ally Small                    NA37944252\\', \\'Ally Small                    \\', \\'5495 W 10th Ave Apt 113\\', None, None, \\'Lakewood\\', \\'CO\\', \\'80214\\', \\'US\\', None, \\'4104913046\\', None, None, None, None, None, None, None, None, None, None, None, \\'Ally Small                    \\', \\'7131 ulysses st\\', None, None, \\'Arvada\\', \\'CO\\', 80007, \\'US\\', None, \\'4104913046\\', None, None, None, None, None, None, None, None, None, None, None, None, \\'00:00.0\\', None, None, 0, None, 0, \\'RELEASED\\', None, None, None, \\'N\\', \\'52:30.0\\', \\'00:00.0\\', None, \\'00:00.0\\', \\'00:00.0\\', \\'00:00.0\\', None, None, None, None, None, None, 546942426, \\'US1\\', \\'Y\\', None, \\'000001_UPS_P_RES\\', None, \\'00:00.0\\', \\'59:00.0\\', None, None, None, None, None, None, None, None, None, \\'000001_UPS_P_RES\\', \\'N\\', None, 1, \\'90NA32710579\\', None, None, None, None, None, None, None, None, None, None, None, None, None, None, None, None, None, None, None, None, None, None, \\'ECOM\\', \\'Deckers eCommerce OU\\', None, None, None, None, None, None, \\'UGG\\', None, None, None, None, None, None, None, 0, 131586621, 0, None, None, None, None, None, None, None, 300270193, None, \\'55:58.8\\', \\'36:10.8\\', None, 0, 0, 0, None, \\'000001_UPS_P_RES\\', \\'WAVED\\', None, 1, 1, 1, \\' script name: CheckoutServices-PlaceOrder | data: start time: 2025-01-24T16:52:30.030+0000, script name: paymentechOrbitalService:_callOrbital | data: Call duration in milliseconds: 500\\', 2, \\'PREPAID\\', None, None, \\'N\\', 0, None, None, \\'(888) 432-8530\\', \\'www.ugg.com\\', \\'725008021401UGGA01NA379442\\', 4.20569e+28, \\'00:00.9\\', None, None, None, \\'UGGEBOX\\', None, 174.99, None, None, None, None, None, None, None, None, None, None, None, None, None, None, None, \\'37:39.0\\', 0, None, None, None, None, None, None, None, None, None, None, None, None, None, None, None, None, None, None, None, None, None, 0, None, None, 0, 0, None, None, None, None, 0, None, None, None, None, 0, None, None, None, None, None, None, None, None, None, None, None, None, 0, None, 0, None, None, None, None), (37339531, \\'US1\\', 546942417, None, None, None, \\'NA37944339\\', \\'fiordaliza REYES\\', None, None, None, None, None, 0, None, None, None, \\'United Parcel Service\\', None, \\'PREPAID\\', None, 50, \\'52:21.0\\', \\'00:00.0\\', \\'00:00.0\\', \\'00:00.0\\', \\'00:00.0\\', \\'59:00.0\\', 5.17, 0.83, 0, \\'N\\', None, 0, 0, 0, 0, None, \\'fiordaliza REYES              NA37944339\\', \\'fiordaliza REYES              NA37944339\\', \\'4102 108 ST APT 1\\', None, None, \\'Corona\\', \\'NY\\', 11368, \\'US\\', None, \\'3477609430\\', \\'fiordaliza REYES              NA37944339\\', \\'fiordaliza REYES              \\', \\'4102 108 ST APT 1\\', None, None, \\'Corona\\', \\'NY\\', \\'11368\\', \\'US\\', None, \\'3477609430\\', None, None, None, None, None, None, None, None, None, None, None, \\'fiordaliza REYES              \\', \\'4102 108 ST APT 1\\', None, None, \\'Corona\\', \\'NY\\', 11368, \\'US\\', None, \\'3477609430\\', None, None, None, None, None, None, None, None, None, None, None, None, \\'00:00.0\\', None, None, 0, None, 0, \\'RELEASED\\', None, None, None, \\'N\\', \\'52:21.0\\', \\'00:00.0\\', None, \\'00:00.0\\', \\'00:00.0\\', \\'00:00.0\\', None, None, None, None, None, None, 546942417, \\'US1\\', \\'Y\\', None, \\'000001_UPS_P_RES\\', None, \\'00:00.0\\', \\'59:00.0\\', None, None, None, None, None, None, None, None, None, \\'000001_UPS_P_RES\\', \\'N\\', None, 1, \\'90NA38562607\\', None, None, None, None, None, None, None, None, None, None, None, None, None, None, None, None, None, None, None, None, None, None, \\'ECOM\\', \\'Deckers eCommerce OU\\', None, None, None, None, None, None, \\'UGG\\', None, None, None, None, None, None, None, 0, 131586615, 0, None, None, None, None, None, None, None, 300270193, None, \\'55:58.8\\', \\'36:10.8\\', None, 0, 0, 0, None, \\'000001_UPS_P_RES\\', \\'WAVED\\', None, 1, 1, 1, \\' script name: CheckoutServices-PlaceOrder | data: start time: 2025-01-24T16:45:09.009+0000, script name: CheckoutServices-PlaceOrder | data: start time: 2025-01-24T16:52:21.021+0000\\', 2, \\'PREPAID\\', None, None, \\'N\\', 0, None, None, \\'(888) 432-8530\\', \\'www.ugg.com\\', \\'725001136801UGGA01NA379443\\', 4.20569e+28, \\'00:00.9\\', None, None, None, \\'UGGEBOX\\', None, 167.99, None, None, None, None, None, None, None, None, None, None, None, None, None, None, None, \\'37:33.0\\', 0, None, None, None, None, None, None, None, None, None, None, None, None, None, None, None, None, None, None, None, None, None, 0, None, None, 0, 0, None, None, None, None, 0, None, None, None, None, 0, None, None, None, None, None, None, None, None, None, None, None, None, 0, None, 0, None, None, None, None), (37339591, \\'US1\\', 546942432, None, None, None, \\'NA37944248\\', \\'Janae Edwards\\', None, None, None, None, None, 0, None, None, None, \\'United Parcel Service\\', None, \\'PREPAID\\', None, 50, \\'52:05.0\\', \\'00:00.0\\', \\'00:00.0\\', \\'00:00.0\\', \\'00:00.0\\', \\'59:00.0\\', 2.02, 0.5, 0, \\'N\\', None, 0, 0, 0, 0, None, \\'Janae Edwards                 NA37944248\\', \\'Janae Edwards                 NA37944248\\', \\'1285 Heritage Lakes Dr. SW\\', None, None, \\'Mableton\\', \\'GA\\', 30126, \\'US\\', None, \\'6784628188\\', \\'Janae Edwards                 NA37944248\\', \\'Janae Edwards                 \\', \\'1285 Heritage Lakes Dr. SW\\', None, None, \\'Mableton\\', \\'GA\\', \\'30126\\', \\'US\\', None, \\'6784628188\\', None, None, None, None, None, None, None, None, None, None, None, \\'Janae Edwards                 \\', \\'1285 Heritage Lakes Dr. SW\\', None, None, \\'Mableton\\', \\'GA\\', 30126, \\'US\\', None, \\'6784628188\\', None, None, None, None, None, None, None, None, None, None, None, None, \\'00:00.0\\', None, None, 0, None, 0, \\'RELEASED\\', None, None, None, \\'N\\', \\'52:05.0\\', \\'00:00.0\\', None, \\'00:00.0\\', \\'00:00.0\\', \\'00:00.0\\', None, None, None, None, None, None, 546942432, \\'US1\\', \\'Y\\', None, \\'000001_UPS_P_RES\\', None, \\'00:00.0\\', \\'59:00.0\\', None, None, None, None, None, None, None, None, None, \\'000001_UPS_P_RES\\', \\'N\\', None, 1, \\'90NA38562790\\', None, None, None, None, None, None, None, None, None, None, None, None, None, None, None, None, None, None, None, None, None, None, \\'ECOM\\', \\'Deckers eCommerce OU\\', None, None, None, None, None, None, \\'UGG\\', None, None, None, None, None, None, None, 0, 131586612, 0, None, None, None, None, None, None, None, 300270193, None, \\'55:58.8\\', \\'36:10.8\\', None, 0, 0, 0, None, \\'000001_UPS_P_RES\\', \\'WAVED\\', None, 1, 1, 1, \\' script name: AfterpayRedirect-Redirect | errMsg: Shipping address exists and the billing address is left empty on purpose., script name: AfterpayRedirect-Redirect | data: {\"apToken\":\"002.e1n8fgdeu307r2v2437tg1tejtabn234o4iok4mbgp2q9tdf\"}\\', 2, \\'PREPAID\\', None, None, \\'N\\', 0, None, None, \\'(888) 432-8530\\', \\'www.ugg.com\\', \\'725003012601UGGA01NA379442\\', 4.20569e+28, \\'00:00.9\\', None, None, None, \\'UGGEBOX\\', None, 51.99, None, None, None, None, None, None, None, None, None, None, None, None, None, None, None, \\'37:43.0\\', 0, None, None, None, None, None, None, None, None, None, None, None, None, None, None, None, None, None, None, None, None, None, 0, None, None, 0, 0, None, None, None, None, 0, None, None, None, None, 0, None, None, None, None, None, None, None, None, None, None, None, None, 0, None, 0, None, None, None, None), (37339521, \\'US1\\', 546942514, None, None, None, \\'NA37944242\\', \\'Lisa Currington\\', None, None, None, None, None, 0, None, None, None, \\'Fedex 2Day\\', None, \\'PREPAID\\', None, 50, \\'51:28.0\\', \\'00:00.0\\', \\'00:00.0\\', \\'00:00.0\\', \\'00:00.0\\', \\'59:00.0\\', 3.35, 0.83, 0, \\'N\\', None, 0, 0, 0, 0, None, \\'Lisa Currington               NA37944242\\', \\'Lisa Currington               NA37944242\\', \\'550 E 147th St S\\', None, None, \\'Glenpool\\', \\'OK\\', 74033, \\'US\\', None, \\'2296030714\\', \\'Lisa Currington               NA37944242\\', \\'Lisa Currington               \\', \\'550 E 147th St S\\', None, None, \\'Glenpool\\', \\'OK\\', \\'74033\\', \\'US\\', None, \\'2296030714\\', None, None, None, None, None, None, None, None, None, None, None, \\'Lisa Currington               \\', \\'550 E 147th St S\\', None, None, \\'Glenpool\\', \\'OK\\', 74033, \\'US\\', None, \\'2296030714\\', None, None, None, None, None, None, None, None, None, None, None, None, \\'00:00.0\\', None, None, 0, None, 0, \\'RELEASED\\', None, None, None, \\'N\\', \\'51:28.0\\', \\'00:00.0\\', None, \\'00:00.0\\', \\'00:00.0\\', \\'00:00.0\\', None, None, None, None, None, None, 546942514, \\'US1\\', \\'Y\\', None, \\'000001_UPS_P_2DA\\', None, \\'00:00.0\\', \\'59:00.0\\', None, None, None, None, None, None, None, None, None, \\'000001_FDEG_P_LTL\\', \\'N\\', None, 1, \\'90NA38297702\\', None, None, None, None, None, None, None, None, None, None, None, None, None, None, None, None, None, None, None, None, None, None, \\'ECOM\\', \\'Deckers eCommerce OU\\', None, None, None, None, None, None, \\'UGG\\', None, None, None, None, None, None, None, 0, 131586636, 0, None, None, None, None, None, None, None, 300270193, None, \\'55:58.8\\', \\'36:10.8\\', None, 0, 0, 0, None, \\'000001_FDEG_P_LTL\\', \\'WAVED\\', None, 1, 1, 1, \\' script name: CheckoutServices-PlaceOrder | data: start time: 2025-01-24T16:51:27.027+0000, script name: paymentechOrbitalService:_callOrbital | data: Call duration in milliseconds: 401\\', 2, \\'PREPAID\\', None, None, \\'N\\', 0, None, None, \\'(888) 432-8530\\', \\'www.ugg.com\\', \\'725007403301UGGA01NA379442\\', 4.20569e+28, \\'00:00.9\\', None, None, None, \\'UGGEBOX\\', None, 180.0, None, None, None, None, None, None, None, None, None, None, None, None, None, None, None, \\'38:06.0\\', 0, None, None, None, None, None, None, None, None, None, None, None, None, None, None, None, None, None, None, None, None, None, 0, None, None, 0, 0, None, None, None, None, 0, None, None, None, None, 0, None, None, None, None, None, None, None, None, None, None, None, None, 0, None, 0, None, None, None, None), (37339583, \\'US1\\', 546942488, None, None, None, \\'NA37944237\\', \\'Kathy Martin\\', None, None, None, None, None, 0, None, None, None, \\'Fedex 2Day\\', None, \\'PREPAID\\', None, 50, \\'51:22.0\\', \\'00:00.0\\', \\'00:00.0\\', \\'00:00.0\\', \\'00:00.0\\', \\'59:00.0\\', 3.25, 0.81, 0, \\'N\\', None, 0, 0, 0, 0, None, \\'Kathy Martin                    16663692\\', \\'Kathy Martin                    16663692\\', \\'1019 Janehaven Lakes\\', None, None, \\'Cleburne\\', \\'TX\\', 76033, \\'US\\', None, \\'817-980-3643\\', \\'Kathy Martin                    16663692\\', \\'Kathy Martin                  \\', \\'1019 Janehaven Lakes\\', None, None, \\'Cleburne\\', \\'TX\\', \\'76033\\', \\'US\\', None, \\'817-980-3643\\', None, None, None, None, None, None, None, None, None, None, None, \\'Kathy Martin                  \\', \\'1019 Janehaven Lakes\\', None, None, \\'Cleburne\\', \\'TX\\', 76033, \\'US\\', None, \\'817-980-3643\\', None, None, None, None, None, None, None, None, None, None, None, None, \\'00:00.0\\', None, None, 0, None, 0, \\'RELEASED\\', None, None, None, \\'N\\', \\'51:22.0\\', \\'00:00.0\\', None, \\'00:00.0\\', \\'00:00.0\\', \\'00:00.0\\', None, None, None, None, None, None, 546942488, \\'US1\\', \\'Y\\', None, \\'000001_UPS_P_2DA\\', None, \\'00:00.0\\', \\'59:00.0\\', None, None, None, None, None, None, None, None, None, \\'000001_FDEG_P_LTL\\', \\'N\\', None, 1, \\'9006258444\\', None, None, None, None, None, None, None, None, None, None, None, None, None, None, None, None, None, None, None, None, None, None, \\'ECOM\\', \\'Deckers eCommerce OU\\', None, None, None, None, None, None, \\'UGG\\', None, None, None, None, None, None, None, 0, 131586632, 0, None, None, None, None, None, None, None, 300270193, None, \\'55:58.8\\', \\'36:10.8\\', None, 0, 1, 0, None, \\'000001_FDEG_P_LTL\\', \\'WAVED\\', None, 1, 2, 1, \\' script name: paymentechOrbitalService:_callOrbital | data: Call duration in milliseconds: 388, Token = TNA37944237. Credit card removed from the order\\', 2, \\'PREPAID\\', None, None, \\'N\\', 0, None, None, \\'(888) 432-8530\\', \\'www.ugg.com\\', \\'725007603301UGGA01NA379442\\', 4.20569e+28, \\'00:00.9\\', None, None, None, \\'UGGEBOX\\', None, 103.98, None, None, None, None, None, None, None, None, None, None, None, None, None, None, None, \\'37:58.0\\', 0, None, None, None, None, None, None, None, None, None, None, None, None, None, None, None, None, None, None, None, None, None, 0, None, None, 0, 0, None, None, None, None, 0, None, None, None, None, 0, None, None, None, None, None, None, None, None, None, None, None, None, 0, None, 0, None, None, None, None), (37339589, \\'US1\\', 546942429, None, None, None, \\'NA37944235\\', \\'Mya Hutchinson\\', None, None, None, None, None, 0, None, None, None, \\'United Parcel Service\\', None, \\'PREPAID\\', None, 50, \\'51:12.0\\', \\'00:00.0\\', \\'00:00.0\\', \\'00:00.0\\', \\'00:00.0\\', \\'59:00.0\\', 4.55, 0.83, 0, \\'N\\', None, 0, 0, 0, 0, None, \\'Mya Hutchinson                NA37944235\\', \\'Mya Hutchinson                NA37944235\\', \\'EUTAW PHARMACY\\', \\'622 N EUTAW ST\\', None, \\'Baltimore\\', \\'MD\\', 21201, \\'US\\', None, \\'4434699697\\', \\'Mya Hutchinson                NA37944235\\', \\'Mya Hutchinson                \\', \\'EUTAW PHARMACY-U90942704\\', \\'622 N EUTAW ST\\', None, \\'Baltimore\\', \\'MD\\', \\'21201\\', \\'US\\', None, \\'4434699697\\', None, None, None, None, None, None, None, None, None, None, None, \\'Mya Hutchinson                \\', \\'EUTAW PHARMACY\\', \\'622 N EUTAW ST\\', None, \\'Baltimore\\', \\'MD\\', 21201, \\'US\\', None, \\'4434699697\\', None, None, None, None, None, None, None, None, None, None, None, None, \\'00:00.0\\', None, None, 0, None, 0, \\'RELEASED\\', None, None, None, \\'N\\', \\'51:12.0\\', \\'00:00.0\\', None, \\'00:00.0\\', \\'00:00.0\\', \\'00:00.0\\', None, None, None, None, None, None, 546942429, \\'US1\\', \\'Y\\', None, \\'000001_UPS_P_RES\\', None, \\'00:00.0\\', \\'59:00.0\\', None, None, None, None, None, None, None, None, None, \\'000001_UPS_P_RES\\', \\'N\\', None, 1, \\'90NA38562778\\', None, None, None, None, None, None, None, None, None, None, None, None, None, None, None, None, None, None, None, None, None, None, \\'ECOM\\', \\'Deckers eCommerce OU\\', None, None, None, None, None, None, \\'UGG\\', None, None, None, None, None, \\'HUBBOX\\', None, 0, 131586638, 0, None, None, None, None, None, None, None, 300270193, None, \\'55:58.8\\', \\'36:10.8\\', None, 0, 0, 0, None, \\'000001_UPS_P_RES\\', \\'WAVED\\', None, 1, 1, 1, \\' script name: CheckoutServices-PlaceOrder | data: start time: 2025-01-24T16:51:11.011+0000, script name: paymentechOrbitalService:_callOrbital | data: Call duration in milliseconds: 395\\', 2, \\'PREPAID\\', None, None, \\'N\\', 0, None, None, \\'(888) 432-8530\\', \\'www.ugg.com\\', \\'725002120101UGGA01NA379442\\', 4.20569e+28, \\'00:00.9\\', None, None, None, \\'UGGEBOX\\', None, 174.99, None, None, None, None, None, None, None, None, None, None, None, None, None, None, None, \\'37:43.0\\', 0, None, None, None, None, None, None, None, None, None, None, None, None, None, None, None, None, None, None, None, None, None, 0, None, None, 0, 0, None, None, None, None, 0, None, None, None, None, 0, None, None, None, None, None, None, None, None, None, None, None, None, 0, None, 0, None, None, None, None), (37339590, \\'US1\\', 546942431, None, None, None, \\'NA37944226\\', \\'Bridget Muzyka \\', None, None, None, None, None, 0, None, None, None, \\'United Parcel Service\\', None, \\'PREPAID\\', None, 50, \\'50:58.0\\', \\'00:00.0\\', \\'00:00.0\\', \\'00:00.0\\', \\'00:00.0\\', \\'59:00.0\\', 3.45, 0.83, 0, \\'N\\', None, 0, 0, 0, 0, None, \\'Bridget Muzyka                NA37944226\\', \\'Bridget Muzyka                NA37944226\\', \\'8 Brewster court \\', None, None, \\'Washingtonville\\', \\'NY\\', 10992, \\'US\\', None, \\'8456145551\\', \\'Bridget Muzyka                NA37944226\\', \\'Bridget Muzyka                \\', \\'8 Brewster Ct\\', None, None, \\'Washingtonville\\', \\'NY\\', \\'10992\\', \\'US\\', None, \\'8456145551\\', None, None, None, None, None, None, None, None, None, None, None, \\'Bridget Muzyka                \\', \\'8 Brewster court \\', None, None, \\'Washingtonville\\', \\'NY\\', 10992, \\'US\\', None, \\'8456145551\\', None, None, None, None, None, None, None, None, None, None, None, None, \\'00:00.0\\', None, None, 0, None, 0, \\'RELEASED\\', None, None, None, \\'N\\', \\'50:58.0\\', \\'00:00.0\\', None, \\'00:00.0\\', \\'00:00.0\\', \\'00:00.0\\', None, None, None, None, None, None, 546942431, \\'US1\\', \\'Y\\', None, \\'000001_UPS_P_RES\\', None, \\'00:00.0\\', \\'59:00.0\\', None, None, None, None, None, None, None, None, None, \\'000001_UPS_P_RES\\', \\'N\\', None, 1, \\'90NA37944226-AP\\', None, None, None, None, None, None, None, None, None, None, None, None, None, None, None, None, None, None, None, None, None, None, \\'ECOM\\', \\'Deckers eCommerce OU\\', None, None, None, None, None, None, \\'UGG\\', None, None, None, None, None, None, None, 0, 131586609, 0, None, None, None, None, None, None, None, 300270193, None, \\'55:58.8\\', \\'36:10.8\\', None, 0, 0, 0, None, \\'000001_UPS_P_RES\\', \\'WAVED\\', None, 1, 1, 1, \\' script name: paymentechOrbitalService:_callOrbital | data: Call duration in milliseconds: 408, Token = TNA37944226. Credit card removed from the order\\', 2, \\'PREPAID\\', None, None, \\'N\\', 0, None, None, \\'(888) 432-8530\\', \\'www.ugg.com\\', \\'725001099201UGGA01NA379442\\', 4.20569e+28, \\'00:00.9\\', None, None, None, \\'UGGEBOX\\', None, 83.99, None, None, None, None, None, None, None, None, None, None, None, None, None, None, None, \\'37:43.0\\', 0, None, None, None, None, None, None, None, None, None, None, None, None, None, None, None, None, None, None, None, None, None, 0, None, None, 0, 0, None, None, None, None, 0, None, None, None, None, 0, None, None, None, None, None, None, None, None, None, None, None, None, 0, None, 0, None, None, None, None), (37339545, \\'US1\\', 546942434, None, None, None, \\'NA37944223\\', \\'Alejandra Obregon\\', None, None, None, None, None, 0, None, None, None, \\'Fedex 2Day\\', None, \\'PREPAID\\', None, 50, \\'50:37.0\\', \\'00:00.0\\', \\'00:00.0\\', \\'00:00.0\\', \\'00:00.0\\', \\'59:00.0\\', 2.02, 0.5, 0, \\'N\\', None, 0, 0, 0, 0, None, \\'Alejandra Obregon             NA37944223\\', \\'Alejandra Obregon             NA37944223\\', \\'1621 N Harding Ave\\', None, None, \\'Chicago\\', \\'IL\\', 60647, \\'US\\', None, \\'7734038134\\', \\'Alejandra Obregon             NA37944223\\', \\'Alejandra Obregon             \\', \\'149 Tamarack dr\\', None, None, \\'Bolingbrook\\', \\'IL\\', \\'60440\\', \\'US\\', None, \\'7734038134\\', None, None, None, None, None, None, None, None, None, None, None, \\'Alejandra Obregon             \\', \\'1621 N Harding Ave\\', None, None, \\'Chicago\\', \\'IL\\', 60647, \\'US\\', None, \\'7734038134\\', None, None, None, None, None, None, None, None, None, None, None, None, \\'00:00.0\\', None, None, 0, None, 0, \\'RELEASED\\', None, None, None, \\'N\\', \\'50:37.0\\', \\'00:00.0\\', None, \\'00:00.0\\', \\'00:00.0\\', \\'00:00.0\\', None, None, None, None, None, None, 546942434, \\'US1\\', \\'Y\\', None, \\'000001_UPS_P_2DA\\', None, \\'00:00.0\\', \\'59:00.0\\', None, None, None, None, None, None, None, None, None, \\'000001_FDEG_P_LTL\\', \\'N\\', None, 1, \\'90NA38562704\\', None, None, None, None, None, None, None, None, None, None, None, None, None, None, None, None, None, None, None, None, None, None, \\'ECOM\\', \\'Deckers eCommerce OU\\', None, None, None, None, None, None, \\'UGG\\', None, None, None, None, None, None, None, 0, 131586599, 0, None, None, None, None, None, None, None, 300270193, None, \\'55:58.8\\', \\'36:10.8\\', None, 0, 0, 0, None, \\'000001_FDEG_P_LTL\\', \\'WAVED\\', None, 1, 1, 1, \\' script name: paymentechOrbitalService:_callOrbital | data: Call duration in milliseconds: 307, Token = TNA37944223. Credit card removed from the order\\', 2, \\'PREPAID\\', None, None, \\'N\\', 0, None, None, \\'(888) 432-8530\\', \\'www.ugg.com\\', \\'725006044001UGGA01NA379442\\', 4.20569e+28, \\'00:00.9\\', None, None, None, \\'UGGEBOX\\', None, 51.99, None, None, None, None, None, None, None, None, None, None, None, None, None, None, None, \\'37:43.0\\', 0, None, None, None, None, None, None, None, None, None, None, None, None, None, None, None, None, None, None, None, None, None, 0, None, None, 0, 0, None, None, None, None, 0, None, None, None, None, 0, None, None, None, None, None, None, None, None, None, None, None, None, 0, None, 0, None, None, None, None), (37339572, \\'US1\\', 546942462, None, None, None, \\'NA37944120\\', \\'Patty Layden\\', None, None, None, None, None, 0, None, None, None, \\'United Parcel Service\\', None, \\'PREPAID\\', None, 50, \\'49:59.0\\', \\'00:00.0\\', \\'00:00.0\\', \\'00:00.0\\', \\'00:00.0\\', \\'59:00.0\\', 6.09, 1.16, 0, \\'N\\', None, 0, 0, 0, 0, None, \\'Patty Layden                  NA37944120\\', \\'Patty Layden                  NA37944120\\', \\'2036 N Bissell St Unit One\\', None, None, \\'Chicago\\', \\'IL\\', 60614, \\'US\\', None, \\'708-446-9918\\', \\'Patty Layden                  NA37944120\\', \\'Patty Layden                  \\', \\'2036 N Bissell St\\', \\'Apt 1\\', None, \\'Chicago\\', \\'IL\\', \\'60614\\', \\'US\\', None, None, None, None, None, None, None, None, None, None, None, None, None, \\'Patty Layden                  \\', \\'2036 N Bissell St Unit One\\', None, None, \\'Chicago\\', \\'IL\\', 60614, \\'US\\', None, \\'708-446-9918\\', None, None, None, None, None, None, None, None, None, None, None, None, \\'00:00.0\\', None, None, 0, None, 0, \\'RELEASED\\', None, None, None, \\'N\\', \\'49:59.0\\', \\'00:00.0\\', None, \\'00:00.0\\', \\'00:00.0\\', \\'00:00.0\\', None, None, None, None, None, None, 546942462, \\'US1\\', \\'Y\\', None, \\'000001_UPS_P_RES\\', None, \\'00:00.0\\', \\'59:00.0\\', None, None, None, None, None, None, None, None, None, \\'000001_UPS_P_RES\\', \\'N\\', None, 1, \\'90NA38562251\\', None, None, None, None, None, None, None, None, None, None, None, None, None, None, None, None, None, None, None, None, None, None, \\'ECOM\\', \\'Deckers eCommerce OU\\', None, None, None, None, None, None, \\'UGG\\', None, None, None, None, None, None, None, 0, 131586602, 0, None, None, None, None, None, None, None, 300270193, None, \\'55:58.8\\', \\'36:10.8\\', None, 0, 0, 0, None, \\'000001_UPS_P_RES\\', \\'WAVED\\', None, 1, 1, 1, \\' script name: CheckoutServices-PlaceOrder | data: start time: 2025-01-24T16:49:58.058+0000, script name: JerryService.js - authorize | data: Call duration in milliseconds: 1782\\', 2, \\'PREPAID\\', None, None, \\'N\\', 0, None, None, \\'(888) 432-8530\\', \\'www.ugg.com\\', \\'725006061401UGGA01NA379441\\', 4.20569e+28, \\'00:00.9\\', None, None, None, \\'UGGEBOX\\', None, 153.99, None, None, None, None, None, None, None, None, None, None, None, None, None, None, None, \\'37:53.0\\', 0, None, None, None, None, None, None, None, None, None, None, None, None, None, None, None, None, None, None, None, None, None, 0, None, None, 0, 0, None, None, None, None, 0, None, None, None, None, 0, None, None, None, None, None, None, None, None, None, None, None, None, 0, None, 0, None, None, None, None), (37339526, \\'US1\\', 546942886, None, None, None, \\'NA37944116\\', \\'Monica Rogers\\', None, None, None, None, None, 0, None, None, None, \\'United Parcel Service\\', None, \\'PREPAID\\', None, 50, \\'49:48.0\\', \\'00:00.0\\', \\'00:00.0\\', \\'00:00.0\\', \\'00:00.0\\', \\'59:00.0\\', 3.15, 0.83, 0, \\'N\\', None, 0, 0, 0, 0, None, \\'Monica Rogers                 NA37944116\\', \\'Monica Rogers                 NA37944116\\', \\'5620 Parkwood Cir\\', None, None, \\'Chagrin Falls\\', \\'OH\\', 44022, \\'US\\', None, \\'3305737025\\', \\'Monica Rogers                 NA37944116\\', \\'Monica Rogers                 \\', \\'5620 Parkwood Cir\\', None, None, \\'Chagrin Falls\\', \\'OH\\', \\'44022\\', \\'US\\', None, \\'3305737025\\', None, None, None, None, None, None, None, None, None, None, None, \\'Monica Rogers                 \\', \\'5620 Parkwood Cir\\', None, None, \\'Chagrin Falls\\', \\'OH\\', 44022, \\'US\\', None, \\'3305737025\\', None, None, None, None, None, None, None, None, None, None, None, None, \\'00:00.0\\', None, None, 0, None, 0, \\'RELEASED\\', None, None, None, \\'N\\', \\'49:48.0\\', \\'00:00.0\\', None, \\'00:00.0\\', \\'00:00.0\\', \\'00:00.0\\', None, None, None, None, None, None, 546942886, \\'US1\\', \\'Y\\', None, \\'000001_UPS_P_RES\\', None, \\'00:00.0\\', \\'59:00.0\\', None, None, None, None, None, None, None, None, None, \\'000001_UPS_P_RES\\', \\'N\\', None, 1, \\'90NA6189231\\', None, None, None, None, None, None, None, None, None, None, None, None, None, None, None, None, None, None, None, None, None, None, \\'ECOM\\', \\'Deckers eCommerce OU\\', None, None, None, None, None, None, \\'UGG\\', None, None, None, None, None, None, None, 0, 131586533, 0, None, None, None, None, None, None, None, 300270193, None, \\'55:58.8\\', \\'36:10.8\\', None, 0, 0, 0, None, \\'000001_UPS_P_RES\\', \\'WAVED\\', None, 1, 1, 1, \\' script name: paymentechOrbitalService:_callOrbital | data: Call duration in milliseconds: 403, Token = TNA37944116. Credit card removed from the order\\', 2, \\'PREPAID\\', None, None, \\'N\\', 0, None, None, \\'(888) 432-8530\\', \\'www.ugg.com\\', \\'725004402201UGGA01NA379441\\', 4.20569e+28, \\'00:00.9\\', None, None, None, \\'UGGEBOX\\', None, 160.0, None, None, None, None, None, None, None, None, None, None, None, None, None, None, None, \\'36:48.0\\', 0, None, None, None, None, None, None, None, None, None, None, None, None, None, None, None, None, None, None, None, None, None, 0, None, None, 0, 0, None, None, None, None, 0, None, None, None, None, 0, None, None, None, None, None, None, None, None, None, None, None, None, 0, None, 0, None, None, None, None), (37339503, \\'US1\\', 546942496, None, None, None, \\'NA37944113\\', \\'valerie prezioso\\', None, None, None, None, None, 0, None, None, None, \\'Fedex 2Day\\', None, \\'PREPAID\\', None, 50, \\'49:31.0\\', \\'00:00.0\\', \\'00:00.0\\', \\'00:00.0\\', \\'00:00.0\\', \\'59:00.0\\', 2.02, 0.5, 0, \\'N\\', None, 0, 0, 0, 0, None, \\'valerie prezioso              NA37944113\\', \\'valerie prezioso              NA37944113\\', \\'12842 Tewksbury dr\\', None, None, \\'Herndon\\', \\'VA\\', 20171, \\'US\\', None, \\'7034768812\\', \\'Valerie Prezioso              NA37944113\\', \\'Valerie Prezioso              \\', \\'12842 tewksbury dr\\', None, None, \\'Oak Hill\\', \\'VA\\', \\'20171\\', \\'US\\', None, \\'7039899921\\', None, None, None, None, None, None, None, None, None, None, None, \\'valerie prezioso              \\', \\'12842 Tewksbury dr\\', None, None, \\'Herndon\\', \\'VA\\', 20171, \\'US\\', None, \\'7034768812\\', None, None, None, None, None, None, None, None, None, None, None, None, \\'00:00.0\\', None, None, 0, None, 0, \\'RELEASED\\', None, None, None, \\'N\\', \\'49:31.0\\', \\'00:00.0\\', None, \\'00:00.0\\', \\'00:00.0\\', \\'00:00.0\\', None, None, None, None, None, None, 546942496, \\'US1\\', \\'Y\\', None, \\'000001_UPS_P_2DA\\', None, \\'00:00.0\\', \\'59:00.0\\', None, None, None, None, None, None, None, None, None, \\'000001_FDEG_P_LTL\\', \\'N\\', None, 1, \\'90NA38562242\\', None, None, None, None, None, None, None, None, None, None, None, None, None, None, None, None, None, None, None, None, None, None, \\'ECOM\\', \\'Deckers eCommerce OU\\', None, None, None, None, None, None, \\'UGG\\', None, None, None, None, None, None, None, 0, 131586478, 0, None, None, None, None, None, None, None, 300270193, None, \\'55:58.8\\', \\'36:10.8\\', None, 0, 0, 0, None, \\'000001_FDEG_P_LTL\\', \\'WAVED\\', None, 1, 1, 1, \\' script name: CheckoutServices-PlaceOrder | data: start time: 2025-01-24T16:49:30.030+0000, script name: JerryService.js - authorize | data: Call duration in milliseconds: 1414\\', 2, \\'PREPAID\\', None, None, \\'N\\', 0, None, None, \\'(888) 432-8530\\', \\'www.ugg.com\\', \\'725002017101UGGA01NA379441\\', 4.20569e+28, \\'00:00.9\\', None, None, None, \\'UGGEBOX\\', None, 51.99, None, None, None, None, None, None, None, None, None, None, None, None, None, None, None, \\'38:02.0\\', 0, None, None, None, None, None, None, None, None, None, None, None, None, None, None, None, None, None, None, None, None, None, 0, None, None, 0, 0, None, None, None, None, 0, None, None, None, None, 0, None, None, None, None, None, None, None, None, None, None, None, None, 0, None, 0, None, None, None, None), (37339561, \\'US1\\', 546942445, None, None, None, \\'NA37944109\\', \\'Eilish Granstrand\\', None, None, None, None, None, 0, None, None, None, \\'United Parcel Service\\', None, \\'PREPAID\\', None, 50, \\'49:20.0\\', \\'00:00.0\\', \\'00:00.0\\', \\'00:00.0\\', \\'00:00.0\\', \\'59:00.0\\', 4.47, 1.16, 0, \\'N\\', None, 0, 0, 0, 0, None, \\'Eilish Granstrand             NA37944109\\', \\'Eilish Granstrand             NA37944109\\', \\'2 Lenhome Drive\\', None, None, \\'Cranford\\', \\'NJ\\', 7016, \\'US\\', None, \\'9144906496\\', \\'Eilish Granstrand             NA37944109\\', \\'Eilish Granstrand             \\', \\'2 N Lenhome Dr\\', None, None, \\'Cranford\\', \\'NJ\\', \\'7016\\', \\'US\\', None, \\'9144906496\\', None, None, None, None, None, None, None, None, None, None, None, \\'Eilish Granstrand             \\', \\'2 Lenhome Drive\\', None, None, \\'Cranford\\', \\'NJ\\', 7016, \\'US\\', None, \\'9144906496\\', None, None, None, None, None, None, None, None, None, None, None, None, \\'00:00.0\\', None, None, 0, None, 0, \\'RELEASED\\', None, None, None, \\'N\\', \\'49:20.0\\', \\'00:00.0\\', None, \\'00:00.0\\', \\'00:00.0\\', \\'00:00.0\\', None, None, None, None, None, None, 546942445, \\'US1\\', \\'Y\\', None, \\'000001_UPS_P_RES\\', None, \\'00:00.0\\', \\'59:00.0\\', None, None, None, None, None, None, None, None, None, \\'000001_UPS_P_RES\\', \\'N\\', None, 1, \\'90NA37944109-AP\\', None, None, None, None, None, None, None, None, None, None, None, None, None, None, None, None, None, None, None, None, None, None, \\'ECOM\\', \\'Deckers eCommerce OU\\', None, None, None, None, None, None, \\'UGG\\', None, None, None, None, None, None, None, 0, 131586509, 0, None, None, None, None, None, None, None, 300270193, None, \\'55:58.8\\', \\'36:10.8\\', None, 0, 0, 0, None, \\'000001_UPS_P_RES\\', \\'WAVED\\', None, 1, 1, 1, \\' script name: paymentechOrbitalService:_callOrbital | data: Call duration in milliseconds: 385, Token = TNA37944109. Credit card removed from the order\\', 2, \\'PREPAID\\', None, None, \\'N\\', 0, None, None, \\'(888) 432-8530\\', \\'www.ugg.com\\', \\'725000701601UGGA01NA379441\\', 4.20569e+28, \\'00:00.9\\', None, None, None, \\'UGGEBOX\\', None, 125.99, None, None, None, None, None, None, None, None, None, None, None, None, None, None, None, \\'37:48.0\\', 0, None, None, None, None, None, None, None, None, None, None, None, None, None, None, None, None, None, None, None, None, None, 0, None, None, 0, 0, None, None, None, None, 0, None, None, None, None, 0, None, None, None, None, None, None, None, None, None, None, None, None, 0, None, 0, None, None, None, None), (37339499, \\'US1\\', 546942492, None, None, None, \\'NA37944208\\', \\'Jimmy Dorn\\', None, None, None, None, None, 0, None, None, None, \\'United Parcel Service\\', None, \\'PREPAID\\', None, 50, \\'49:07.0\\', \\'00:00.0\\', \\'00:00.0\\', \\'00:00.0\\', \\'00:00.0\\', \\'59:00.0\\', 3.91, 0.83, 0, \\'N\\', None, 0, 0, 0, 0, None, \\'Jimmy Dorn                    NA37944208\\', \\'Jimmy Dorn                    NA37944208\\', \\'30245 Pacific Coast highway\\', None, None, \\'Malibu\\', \\'CA\\', 90265, \\'US\\', None, \\'4243464391\\', \\'JImmy Dorn                    NA37944208\\', \\'JImmy Dorn                    \\', \\'6700 telephone road #308\\', None, None, \\'Ventura\\', \\'CA\\', \\'93003\\', \\'US\\', None, \\'4243464391\\', None, None, None, None, None, None, None, None, None, None, None, \\'Jimmy Dorn                    \\', \\'30245 Pacific Coast highway\\', None, None, \\'Malibu\\', \\'CA\\', 90265, \\'US\\', None, \\'4243464391\\', None, None, None, None, None, None, None, None, None, None, None, None, \\'00:00.0\\', None, None, 0, None, 0, \\'RELEASED\\', None, None, None, \\'N\\', \\'49:07.0\\', \\'00:00.0\\', None, \\'00:00.0\\', \\'00:00.0\\', \\'00:00.0\\', None, None, None, None, None, None, 546942492, \\'US1\\', \\'Y\\', None, \\'000001_UPS_P_RES\\', None, \\'00:00.0\\', \\'59:00.0\\', None, None, None, None, None, None, None, None, None, \\'000001_UPS_P_RES\\', \\'N\\', None, 1, \\'90NA38562690\\', None, None, None, None, None, None, None, None, None, None, None, None, None, None, None, None, None, None, None, None, None, None, \\'ECOM\\', \\'Deckers eCommerce OU\\', None, None, None, None, None, None, \\'UGG\\', None, None, None, None, None, None, None, 0, 131586494, 0, None, None, None, None, None, None, None, 300270193, None, \\'55:58.8\\', \\'36:10.8\\', None, 0, 0, 0, None, \\'000001_UPS_P_RES\\', \\'WAVED\\', None, 1, 1, 1, \\' script name: CheckoutServices-PlaceOrder | data: start time: 2025-01-24T16:48:06.006+0000, script name: CheckoutServices-PlaceOrder | data: start time: 2025-01-24T16:49:06.006+0000\\', 2, \\'PREPAID\\', None, None, \\'N\\', 0, None, None, \\'(888) 432-8530\\', \\'www.ugg.com\\', \\'725009300301UGGA01NA379442\\', 4.20569e+28, \\'00:00.9\\', None, None, None, \\'UGGEBOX\\', None, 160.0, None, None, None, None, None, None, None, None, None, None, None, None, None, None, None, \\'38:01.0\\', 0, None, None, None, None, None, None, None, None, None, None, None, None, None, None, None, None, None, None, None, None, None, 0, None, None, 0, 0, None, None, None, None, 0, None, None, None, None, 0, None, None, None, None, None, None, None, None, None, None, None, None, 0, None, 0, None, None, None, None), (37339537, \\'US1\\', 546942887, None, None, None, \\'NA37944102\\', \\'Georgianna Cardenas\\', None, None, None, None, None, 0, None, None, None, \\'United Parcel Service\\', None, \\'PREPAID\\', None, 50, \\'48:49.0\\', \\'00:00.0\\', \\'00:00.0\\', \\'00:00.0\\', \\'00:00.0\\', \\'59:00.0\\', 1.41, 0.5, 0, \\'N\\', None, 0, 0, 0, 0, None, \\'Georgianna Cardenas           NA33260182\\', \\'Georgianna Cardenas           NA33260182\\', \\'1036 N Driftwood Ave\\', None, None, \\'Rialto\\', \\'CA\\', 92376, \\'US\\', None, \\'9517332018\\', \\'Georgianna Cardenas           NA33260182\\', \\'Georgianna Cardenas           \\', \\'1036 N Driftwood Ave\\', None, None, \\'Rialto\\', \\'CA\\', \\'92376\\', \\'US\\', None, \\'9517332018\\', None, None, None, None, None, None, None, None, None, None, None, \\'Georgianna Cardenas           \\', \\'1036 N Driftwood Ave\\', None, None, \\'Rialto\\', \\'CA\\', 92376, \\'US\\', None, \\'9517332018\\', None, None, None, None, None, None, None, None, None, None, None, None, \\'00:00.0\\', None, None, 0, None, 0, \\'RELEASED\\', None, None, None, \\'N\\', \\'48:49.0\\', \\'00:00.0\\', None, \\'00:00.0\\', \\'00:00.0\\', \\'00:00.0\\', None, None, None, None, None, None, 546942887, \\'US1\\', \\'Y\\', None, \\'000001_UPS_P_RES\\', None, \\'00:00.0\\', \\'59:00.0\\', None, None, None, None, None, None, None, None, None, \\'000001_UPS_P_RES\\', \\'N\\', None, 1, \\'90NA33919682\\', None, None, None, None, None, None, None, None, None, None, None, None, None, None, None, None, None, None, None, None, None, None, \\'ECOM\\', \\'Deckers eCommerce OU\\', None, None, None, None, None, None, \\'UGG\\', None, None, None, None, None, None, None, 0, 131586465, 0, None, None, None, None, None, None, None, 300270193, None, \\'55:58.8\\', \\'36:10.8\\', None, 0, 0, 0, None, \\'000001_UPS_P_RES\\', \\'WAVED\\', None, 1, 1, 1, \\' script name: paymentechOrbitalService:_callOrbital | data: Call duration in milliseconds: 398, Token = TNA37944102. Credit card removed from the order\\', 2, \\'PREPAID\\', None, None, \\'N\\', 0, None, None, \\'(888) 432-8530\\', \\'www.ugg.com\\', \\'725009237601UGGA01NA379441\\', 4.20569e+28, \\'00:00.9\\', None, None, None, \\'UGGEBOX\\', None, 65.0, None, None, None, None, None, None, None, None, None, None, None, None, None, None, None, \\'36:48.0\\', 0, None, None, None, None, None, None, None, None, None, None, None, None, None, None, None, None, None, None, None, None, None, 0, None, None, 0, 0, None, None, None, None, 0, None, None, None, None, 0, None, None, None, None, None, None, None, None, None, None, None, None, 0, None, 0, None, None, None, None), (37339500, \\'US1\\', 546942493, None, None, None, \\'NA37944100\\', \\'Ismail Amin\\', None, None, None, None, None, 0, None, None, None, \\'United Parcel Service\\', None, \\'PREPAID\\', None, 50, \\'48:41.0\\', \\'00:00.0\\', \\'00:00.0\\', \\'00:00.0\\', \\'00:00.0\\', \\'59:00.0\\', 3.39, 0.83, 0, \\'N\\', None, 0, 0, 0, 0, None, \\'Ismail Amin                   NA37944100\\', \\'Ismail Amin                   NA37944100\\', \\'750 Lefferts Ave\\', \\'1A\\', None, \\'Brooklyn\\', \\'NY\\', 11203, \\'US\\', None, \\'17188395701\\', \\'Ismail Amin                   NA37944100\\', \\'Ismail Amin                   \\', \\'1535 Park Pl\\', \\'2R\\', None, \\'Brooklyn\\', \\'NY\\', \\'11213\\', \\'US\\', None, \\'17188395701\\', None, None, None, None, None, None, None, None, None, None, None, \\'Ismail Amin                   \\', \\'750 Lefferts Ave\\', \\'1A\\', None, \\'Brooklyn\\', \\'NY\\', 11203, \\'US\\', None, \\'17188395701\\', None, None, None, None, None, None, None, None, None, None, None, None, \\'00:00.0\\', None, None, 0, None, 0, \\'RELEASED\\', None, None, None, \\'N\\', \\'48:41.0\\', \\'00:00.0\\', None, \\'00:00.0\\', \\'00:00.0\\', \\'00:00.0\\', None, None, None, None, None, None, 546942493, \\'US1\\', \\'Y\\', None, \\'000001_UPS_P_RES\\', None, \\'00:00.0\\', \\'59:00.0\\', None, None, None, None, None, None, None, None, None, \\'000001_UPS_P_RES\\', \\'N\\', None, 1, \\'90NA37944100-AP\\', None, None, None, None, None, None, None, None, None, None, None, None, None, None, None, None, None, None, None, None, None, None, \\'ECOM\\', \\'Deckers eCommerce OU\\', None, None, None, None, None, None, \\'UGG\\', None, None, None, None, None, None, None, 0, 131586482, 0, None, None, None, None, None, None, None, 300270193, None, \\'55:58.8\\', \\'36:10.8\\', None, 0, 0, 0, None, \\'000001_UPS_P_RES\\', \\'WAVED\\', None, 1, 1, 1, \\' script name: paymentechOrbitalService:_callOrbital | data: Call duration in milliseconds: 512, Token = TNA37944100. Credit card removed from the order\\', 2, \\'PREPAID\\', None, None, \\'N\\', 0, None, None, \\'(888) 432-8530\\', \\'www.ugg.com\\', \\'725001121301UGGA01NA379441\\', 4.20569e+28, \\'00:00.9\\', None, None, None, \\'UGGEBOX\\', None, 90.99, None, None, None, None, None, None, None, None, None, None, None, None, None, None, None, \\'38:01.0\\', 0, None, None, None, None, None, None, None, None, None, None, None, None, None, None, None, None, None, None, None, None, None, 0, None, None, 0, 0, None, None, None, None, 0, None, None, None, None, 0, None, None, None, None, None, None, None, None, None, None, None, None, 0, None, 0, None, None, None, None), (37339592, \\'US1\\', 546942433, None, None, None, \\'NA37944204\\', \\'Ingrid CIPRIAN-MATTHEWS\\', None, None, None, None, None, 0, None, None, None, \\'United Parcel Service\\', None, \\'PREPAID\\', None, 50, \\'48:25.0\\', \\'00:00.0\\', \\'00:00.0\\', \\'00:00.0\\', \\'00:00.0\\', \\'59:00.0\\', 3.55, 0.83, 0, \\'N\\', None, 0, 0, 0, 0, None, \\'Ingrid CIPRIAN-MATTHEWS       NA37944204\\', \\'Ingrid CIPRIAN-MATTHEWS       NA37944204\\', \\'2280 Frederick Douglass Blvd.\\', \\'apt 10C\\', None, \\'New York\\', \\'NY\\', 10027, \\'US\\', None, \\'9179031248\\', \\'Cristina CIPRIAN-MATTHEWS     NA37944204\\', \\'Cristina CIPRIAN-MATTHEWS     \\', \\'1770 Madison Avenut\\', \\'5C\\', None, \\'New York\\', \\'NY\\', \\'10035\\', \\'US\\', None, \\'9179031248\\', None, None, None, None, None, None, None, None, None, None, None, \\'Ingrid CIPRIAN-MATTHEWS       \\', \\'2280 Frederick Douglass Blvd.\\', \\'apt 10C\\', None, \\'New York\\', \\'NY\\', 10027, \\'US\\', None, \\'9179031248\\', None, None, None, None, None, None, None, None, None, None, None, None, \\'00:00.0\\', None, None, 0, None, 0, \\'RELEASED\\', None, None, None, \\'N\\', \\'48:25.0\\', \\'00:00.0\\', None, \\'00:00.0\\', \\'00:00.0\\', \\'00:00.0\\', None, None, None, None, None, None, 546942433, \\'US1\\', \\'Y\\', None, \\'000001_UPS_P_RES\\', None, \\'00:00.0\\', \\'59:00.0\\', None, None, None, None, None, None, None, None, None, \\'000001_UPS_P_RES\\', \\'N\\', None, 1, \\'90NA38562686\\', None, None, None, None, None, None, None, None, None, None, None, None, None, None, None, None, None, None, None, None, None, None, \\'ECOM\\', \\'Deckers eCommerce OU\\', None, None, None, None, None, None, \\'UGG\\', None, None, None, None, None, None, None, 0, 131586530, 0, None, None, None, None, None, None, None, 300270193, None, \\'55:58.8\\', \\'36:10.8\\', None, 0, 0, 0, None, \\'000001_UPS_P_RES\\', \\'WAVED\\', None, 1, 1, 1, \\' script name: CheckoutServices-PlaceOrder | data: start time: 2025-01-24T16:48:25.025+0000, script name: paymentechOrbitalService:_callOrbital | data: Call duration in milliseconds: 419\\', 2, \\'PREPAID\\', None, None, \\'N\\', 0, None, None, \\'(888) 432-8530\\', \\'www.ugg.com\\', \\'725001003501UGGA01NA379442\\', 4.20569e+28, \\'00:00.9\\', None, None, None, \\'UGGEBOX\\', None, 180.0, None, None, None, None, None, None, None, None, None, None, None, None, None, None, None, \\'37:43.0\\', 0, None, None, None, None, None, None, None, None, None, None, None, None, None, None, None, None, None, None, None, None, None, 0, None, None, 0, 0, None, None, None, None, 0, None, None, None, None, 0, None, None, None, None, None, None, None, None, None, None, None, None, 0, None, 0, None, None, None, None), (37339606, \\'US1\\', 546942483, None, None, None, \\'NA37944196\\', \\'Heron Fevrier\\', None, None, None, None, None, 0, None, None, None, \\'United Parcel Service\\', None, \\'PREPAID\\', None, 50, \\'48:11.0\\', \\'00:00.0\\', \\'00:00.0\\', \\'00:00.0\\', \\'00:00.0\\', \\'59:00.0\\', 4.63, 0.83, 0, \\'N\\', None, 0, 0, 0, 0, None, \\'Heron Fevrier                 NA35297739\\', \\'Heron Fevrier                 NA35297739\\', \\'845A E 222nd Streey \\', \\'Floor 1\\', None, \\'Bronx\\', \\'NY\\', 10467, \\'US\\', None, \\'7186745385\\', \\'Joeanne Walters               NA35741005\\', \\'Joeanne Walters               \\', \\'11 Gordon Street\\', None, None, \\'Waterbury\\', \\'CT\\', \\'6710\\', \\'US\\', None, \\'7186745385\\', None, None, None, None, None, None, None, None, None, None, None, \\'Heron Fevrier                 \\', \\'845A E 222nd Streey \\', \\'Floor 1\\', None, \\'Bronx\\', \\'NY\\', 10467, \\'US\\', None, \\'7186745385\\', None, None, None, None, None, None, None, None, None, None, None, None, \\'00:00.0\\', None, None, 0, None, 0, \\'RELEASED\\', None, None, None, \\'N\\', \\'48:11.0\\', \\'00:00.0\\', None, \\'00:00.0\\', \\'00:00.0\\', \\'00:00.0\\', None, None, None, None, None, None, 546942483, \\'US1\\', \\'Y\\', None, \\'000001_UPS_P_RES\\', None, \\'00:00.0\\', \\'59:00.0\\', None, None, None, None, None, None, None, None, None, \\'000001_UPS_P_RES\\', \\'N\\', None, 1, \\'90NA15109715\\', None, None, None, None, None, None, None, None, None, None, None, None, None, None, None, None, None, None, None, None, None, None, \\'ECOM\\', \\'Deckers eCommerce OU\\', None, None, None, None, None, None, \\'UGG\\', None, None, None, None, None, None, None, 0, 131586514, 0, None, None, None, None, None, None, None, 300270193, None, \\'55:58.8\\', \\'36:10.8\\', None, 0, 0, 0, None, \\'000001_UPS_P_RES\\', \\'WAVED\\', None, 1, 1, 1, \\' script name: paymentechOrbitalService:_callOrbital | data: Call duration in milliseconds: 410, Token = TNA37944196. Credit card removed from the order\\', 2, \\'PREPAID\\', None, None, \\'N\\', 0, None, None, \\'(888) 432-8530\\', \\'www.ugg.com\\', \\'725000671001UGGA01NA379441\\', 4.20569e+28, \\'00:00.9\\', None, None, None, \\'UGGEBOX\\', None, 167.99, None, None, None, None, None, None, None, None, None, None, None, None, None, None, None, \\'37:57.0\\', 0, None, None, None, None, None, None, None, None, None, None, None, None, None, None, None, None, None, None, None, None, None, 0, None, None, 0, 0, None, None, None, None, 0, None, None, None, None, 0, None, None, None, None, None, None, None, None, None, None, None, None, 0, None, 0, None, None, None, None), (37339514, \\'US1\\', 546942507, None, None, None, \\'NA37944094\\', \\'Alicia Gill\\', None, None, None, None, None, 0, None, None, None, \\'United Parcel Service\\', None, \\'PREPAID\\', None, 50, \\'48:05.0\\', \\'00:00.0\\', \\'00:00.0\\', \\'00:00.0\\', \\'00:00.0\\', \\'59:00.0\\', 2.35, 0.83, 0, \\'N\\', None, 0, 0, 0, 0, None, \\'Alicia Gill                   NA37944094\\', \\'Alicia Gill                   NA37944094\\', \\'5406 South Damen Ave\\', None, None, \\'Chicago\\', \\'IL\\', 60609, \\'US\\', None, \\'7735195994\\', \\'Alicia Gill                   NA37944094\\', \\'Alicia Gill                   \\', \\'5406 South Damen Ave\\', None, None, \\'Chicago\\', \\'IL\\', \\'60609\\', \\'US\\', None, \\'7735195994\\', None, None, None, None, None, None, None, None, None, None, None, \\'Alicia Gill                   \\', \\'5406 South Damen Ave\\', None, None, \\'Chicago\\', \\'IL\\', 60609, \\'US\\', None, \\'7735195994\\', None, None, None, None, None, None, None, None, None, None, None, None, \\'00:00.0\\', None, None, 0, None, 0, \\'RELEASED\\', None, None, None, \\'N\\', \\'48:05.0\\', \\'00:00.0\\', None, \\'00:00.0\\', \\'00:00.0\\', \\'00:00.0\\', None, None, None, None, None, None, 546942507, \\'US1\\', \\'Y\\', None, \\'000001_UPS_P_RES\\', None, \\'00:00.0\\', \\'59:00.0\\', None, None, None, None, None, None, None, None, None, \\'000001_UPS_P_RES\\', \\'N\\', None, 1, \\'90NA38562040\\', None, None, None, None, None, None, None, None, None, None, None, None, None, None, None, None, None, None, None, None, None, None, \\'ECOM\\', \\'Deckers eCommerce OU\\', None, None, None, None, None, None, \\'UGG\\', None, None, None, None, None, None, None, 0, 131586471, 0, None, None, None, None, None, None, None, 300270193, None, \\'55:58.8\\', \\'36:10.8\\', None, 0, 0, 0, None, \\'000001_UPS_P_RES\\', \\'WAVED\\', None, 1, 1, 1, \\' script name: CheckoutServices-PlaceOrder | data: start time: 2025-01-24T16:48:04.004+0000, script name: paymentechOrbitalService:_callOrbital | data: Call duration in milliseconds: 470\\', 2, \\'PREPAID\\', None, None, \\'N\\', 0, None, None, \\'(888) 432-8530\\', \\'www.ugg.com\\', \\'725006060901UGGA01NA379440\\', 4.20569e+28, \\'00:00.9\\', None, None, None, \\'UGGEBOX\\', None, 86.99, None, None, None, None, None, None, None, None, None, None, None, None, None, None, None, \\'38:04.0\\', 0, None, None, None, None, None, None, None, None, None, None, None, None, None, None, None, None, None, None, None, None, None, 0, None, None, 0, 0, None, None, None, None, 0, None, None, None, None, 0, None, None, None, None, None, None, None, None, None, None, None, None, 0, None, 0, None, None, None, None), (37339603, \\'US1\\', 546942480, None, None, None, \\'NA37944193\\', \\'Jasmine Little\\', None, None, None, None, None, 0, None, None, None, \\'United Parcel Service\\', None, \\'PREPAID\\', None, 50, \\'48:03.0\\', \\'00:00.0\\', \\'00:00.0\\', \\'00:00.0\\', \\'00:00.0\\', \\'59:00.0\\', 1.05, 0.5, 0, \\'N\\', None, 0, 0, 0, 0, None, \\'Jasmine Little                NA34186301\\', \\'Jasmine Little                NA34186301\\', \\'540 Glenn Gee Rd\\', \\'Apt 9206\\', None, \\'Pendergrass\\', \\'GA\\', 30567, \\'US\\', None, \\'6623523426\\', \\'Jasmine Little                NA34186301\\', \\'Jasmine Little                \\', \\'540 Glenn Gee Rd\\', \\'Apt 9206\\', None, \\'Pendergrass\\', \\'GA\\', \\'30567\\', \\'US\\', None, \\'6623523426\\', None, None, None, None, None, None, None, None, None, None, None, \\'Jasmine Little                \\', \\'540 Glenn Gee Rd\\', \\'Apt 9206\\', None, \\'Pendergrass\\', \\'GA\\', 30567, \\'US\\', None, \\'6623523426\\', None, None, None, None, None, None, None, None, None, None, None, None, \\'00:00.0\\', None, None, 0, None, 0, \\'RELEASED\\', None, None, None, \\'N\\', \\'48:03.0\\', \\'00:00.0\\', None, \\'00:00.0\\', \\'00:00.0\\', \\'00:00.0\\', None, None, None, None, None, None, 546942480, \\'US1\\', \\'Y\\', None, \\'000001_UPS_P_RES\\', None, \\'00:00.0\\', \\'59:00.0\\', None, None, None, None, None, None, None, None, None, \\'000001_UPS_P_RES\\', \\'N\\', None, 1, \\'9018203818\\', None, None, None, None, None, None, None, None, None, None, None, None, None, None, None, None, None, None, None, None, None, None, \\'ECOM\\', \\'Deckers eCommerce OU\\', None, None, None, None, None, None, \\'UGG\\', None, None, None, None, None, None, None, 0, 131586462, 0, None, None, None, None, None, None, None, 300270193, None, \\'55:58.8\\', \\'36:10.8\\', None, 0, 0, 0, None, \\'000001_UPS_P_RES\\', \\'PACKING\\', None, 1, 1, 1, \\' script name: CheckoutServices-PlaceOrder | data: start time: 2025-01-24T16:48:03.003+0000, script name: CheckoutServices-PlaceOrder | data: finish time: 2025-01-24T16:48:04.004+0000\\', 2, \\'PREPAID\\', None, None, \\'N\\', 0, None, None, \\'(888) 432-8530\\', \\'www.ugg.com\\', \\'725003056701UGGA01NA379441\\', 4.20569e+28, \\'00:00.9\\', None, None, None, \\'UGGEBOX\\', None, 15.0, None, None, None, None, None, None, None, None, None, None, None, None, None, None, None, \\'37:57.0\\', 0, None, None, None, None, None, None, None, None, None, None, None, None, None, None, None, None, None, None, None, None, None, 0, None, None, 0, 0, None, None, None, None, 0, None, None, None, None, 0, None, None, None, None, None, None, None, None, None, None, None, None, 0, None, 0, None, None, None, None), (37339489, \\'US1\\', 546942876, None, None, None, \\'NA37944190\\', \\'Carol Ross\\', None, None, None, None, None, 0, None, None, None, \\'United Parcel Service\\', None, \\'PREPAID\\', None, 50, \\'47:49.0\\', \\'00:00.0\\', \\'00:00.0\\', \\'00:00.0\\', \\'00:00.0\\', \\'59:00.0\\', 7.72, 1.16, 0, \\'N\\', None, 0, 0, 0, 0, None, \\'Carol Ross                    NA37944190\\', \\'Carol Ross                    NA37944190\\', \\'505 North and South Rd\\', \\'1B\\', None, \\'St. Louis\\', \\'MO\\', 63130, \\'US\\', None, \\'3145802508\\', \\'Carol Ross                    NA37944190\\', \\'Carol Ross                    \\', \\'505 N And South Rd\\', \\'Apt. 1B\\', None, \\'St. Louis\\', \\'MO\\', \\'63130\\', \\'US\\', None, \\'3145802508\\', None, None, None, None, None, None, None, None, None, None, None, \\'Carol Ross                    \\', \\'505 North and South Rd\\', \\'1B\\', None, \\'St. Louis\\', \\'MO\\', 63130, \\'US\\', None, \\'3145802508\\', None, None, None, None, None, None, None, None, None, None, None, None, \\'00:00.0\\', None, None, 0, None, 0, \\'RELEASED\\', None, None, None, \\'N\\', \\'47:49.0\\', \\'00:00.0\\', None, \\'00:00.0\\', \\'00:00.0\\', \\'00:00.0\\', None, None, None, None, None, None, 546942876, \\'US1\\', \\'Y\\', None, \\'000001_UPS_P_RES\\', None, \\'00:00.0\\', \\'59:00.0\\', None, None, None, None, None, None, None, None, None, \\'000001_UPS_P_RES\\', \\'N\\', None, 1, \\'90NA17073469\\', None, None, None, None, None, None, None, None, None, None, None, None, None, None, None, None, None, None, None, None, None, None, \\'ECOM\\', \\'Deckers eCommerce OU\\', None, None, None, None, None, None, \\'TEVA\\', None, None, None, None, None, None, None, 0, 131586558, 0, None, None, None, None, None, None, None, 300270193, None, \\'41:22.4\\', \\'36:10.8\\', None, 0, 1, 0, None, \\'000001_UPS_P_RES\\', \\'WAVED\\', None, 3, 3, 3, \\' script name: paymentechOrbitalService:_callOrbital | data: Call duration in milliseconds: 524, Token = TNA37944190. Credit card removed from the order\\', 2, \\'PREPAID\\', None, None, \\'N\\', 0, None, None, \\'(800) 367-8382\\', \\'www.teva.com\\', \\'725006313001TEVA01NA379441\\', 4.20569e+28, \\'00:00.9\\', None, None, None, None, None, 330.0, None, None, None, None, None, None, None, None, None, None, None, None, None, None, None, \\'31:29.0\\', 0, None, None, None, None, None, None, None, None, None, None, None, None, None, None, None, None, None, None, None, None, None, 0, None, None, 0, 0, None, None, None, None, 0, None, None, None, None, 0, None, None, None, None, None, None, None, None, None, None, None, None, 0, None, 0, None, None, None, None), (37339553, \\'US1\\', 546942442, None, None, None, \\'NA37944090\\', \\'Jose Hernandez\\', None, None, None, None, None, 0, None, None, None, \\'United Parcel Service\\', None, \\'PREPAID\\', None, 50, \\'47:49.0\\', \\'00:00.0\\', \\'00:00.0\\', \\'00:00.0\\', \\'00:00.0\\', \\'59:00.0\\', 3.05, 0.83, 0, \\'N\\', None, 0, 0, 0, 0, None, \\'Jose Hernandez                NA37944090\\', \\'Jose Hernandez                NA37944090\\', \\'4260 ashmere cir\\', None, None, \\'Dumfries\\', \\'VA\\', 22025, \\'US\\', None, \\'7037980058\\', \\'Jose Hernandez                NA37944090\\', \\'Jose Hernandez                \\', \\'4260 ashmere cir\\', None, None, \\'Dumfries\\', \\'VA\\', \\'22025\\', \\'US\\', None, \\'7037980058\\', None, None, None, None, None, None, None, None, None, None, None, \\'Jose Hernandez                \\', \\'4260 ashmere cir\\', None, None, \\'Dumfries\\', \\'VA\\', 22025, \\'US\\', None, \\'7037980058\\', None, None, None, None, None, None, None, None, None, None, None, None, \\'00:00.0\\', None, None, 0, None, 0, \\'RELEASED\\', None, None, None, \\'N\\', \\'47:49.0\\', \\'00:00.0\\', None, \\'00:00.0\\', \\'00:00.0\\', \\'00:00.0\\', None, None, None, None, None, None, 546942442, \\'US1\\', \\'Y\\', None, \\'000001_UPS_P_RES\\', None, \\'00:00.0\\', \\'59:00.0\\', None, None, None, None, None, None, None, None, None, \\'000001_UPS_P_RES\\', \\'N\\', None, 1, \\'90NA38562180\\', None, None, None, None, None, None, None, None, None, None, None, None, None, None, None, None, None, None, None, None, None, None, \\'ECOM\\', \\'Deckers eCommerce OU\\', None, None, None, None, None, None, \\'UGG\\', None, None, None, None, None, None, None, 0, 131586548, 0, None, None, None, None, None, None, None, 300270193, None, \\'55:58.8\\', \\'36:10.8\\', None, 0, 0, 0, None, \\'000001_UPS_P_RES\\', \\'WAVED\\', None, 1, 1, 1, \\' script name: CheckoutServices-PlaceOrder | data: start time: 2025-01-24T16:47:49.049+0000, script name: paymentechOrbitalService:_callOrbital | data: Call duration in milliseconds: 390\\', 2, \\'PREPAID\\', None, None, \\'N\\', 0, None, None, \\'(888) 432-8530\\', \\'www.ugg.com\\', \\'725002202501UGGA01NA379440\\', 4.20569e+28, \\'00:00.9\\', None, None, None, \\'UGGEBOX\\', None, 110.0, None, None, None, None, None, None, None, None, None, None, None, None, None, None, None, \\'37:45.0\\', 0, None, None, None, None, None, None, None, None, None, None, None, None, None, None, None, None, None, None, None, None, None, 0, None, None, 0, 0, None, None, None, None, 0, None, None, None, None, 0, None, None, None, None, None, None, None, None, None, None, None, None, 0, None, 0, None, None, None, None), (37339600, \\'US1\\', 546942471, None, None, None, \\'NA37944189\\', \\'Jodene Wagstaffe\\', None, None, None, None, None, 0, None, None, None, \\'Fedex 2Day\\', None, \\'PREPAID\\', None, 50, \\'47:48.0\\', \\'00:00.0\\', \\'00:00.0\\', \\'00:00.0\\', \\'00:00.0\\', \\'59:00.0\\', 1.97, 0.5, 0, \\'N\\', None, 0, 0, 0, 0, None, \\'Jodene Wagstaffe              NA37944189\\', \\'Jodene Wagstaffe              NA37944189\\', \\'2940 Gunther Avenue\\', None, None, \\'East Bronx\\', \\'NY\\', 10469, \\'US\\', None, \\'3478646825\\', \\'Jodene Wagstaffe              NA37944189\\', \\'Jodene Wagstaffe              \\', \\'2940 Gunther Avenue\\', None, None, \\'East Bronx\\', \\'NY\\', \\'10469\\', \\'US\\', None, \\'3478646825\\', None, None, None, None, None, None, None, None, None, None, None, \\'Jodene Wagstaffe              \\', \\'2940 Gunther Avenue\\', None, None, \\'East Bronx\\', \\'NY\\', 10469, \\'US\\', None, \\'3478646825\\', None, None, None, None, None, None, None, None, None, None, None, None, \\'00:00.0\\', None, None, 0, None, 0, \\'RELEASED\\', None, None, None, \\'N\\', \\'47:48.0\\', \\'00:00.0\\', None, \\'00:00.0\\', \\'00:00.0\\', \\'00:00.0\\', None, None, None, None, None, None, 546942471, \\'US1\\', \\'Y\\', None, \\'000001_UPS_P_2DA\\', None, \\'00:00.0\\', \\'59:00.0\\', None, None, None, None, None, None, None, None, None, \\'000001_FDEG_P_LTL\\', \\'N\\', None, 1, \\'90NA38562676\\', None, None, None, None, None, None, None, None, None, None, None, None, None, None, None, None, None, None, None, None, None, None, \\'ECOM\\', \\'Deckers eCommerce OU\\', None, None, None, None, None, None, \\'UGG\\', None, None, None, None, None, None, None, 0, 131586453, 0, None, None, None, None, None, None, None, 300270193, None, \\'55:58.8\\', \\'36:10.8\\', None, 0, 0, 0, None, \\'000001_FDEG_P_LTL\\', \\'WAVED\\', None, 1, 1, 1, \\' script name: AfterpayRedirect-Redirect | errMsg: Shipping address exists and the billing address is left empty on purpose., script name: AfterpayRedirect-Redirect | data: {\"apToken\":\"002.p30jbqka1cnsgpqpmdkjre39jadrk0evh0t92l55slmj3i4g\"}\\', 2, \\'PREPAID\\', None, None, \\'N\\', 0, None, None, \\'(888) 432-8530\\', \\'www.ugg.com\\', \\'725001046901UGGA01NA379441\\', 4.20569e+28, \\'00:00.9\\', None, None, None, \\'UGGEBOX\\', None, 90.0, None, None, None, None, None, None, None, None, None, None, None, None, None, None, None, \\'37:53.0\\', 0, None, None, None, None, None, None, None, None, None, None, None, None, None, None, None, None, None, None, None, None, None, 0, None, None, 0, 0, None, None, None, None, 0, None, None, None, None, 0, None, None, None, None, None, None, None, None, None, None, None, None, 0, None, 0, None, None, None, None), (37339490, \\'US1\\', 546942877, None, None, None, \\'NA37944188\\', \\'Alexa Sander\\', None, None, None, None, None, 0, None, None, None, \\'United Parcel Service\\', None, \\'PREPAID\\', None, 50, \\'47:46.0\\', \\'00:00.0\\', \\'00:00.0\\', \\'00:00.0\\', \\'00:00.0\\', \\'59:00.0\\', 2.07, 0.5, 0, \\'N\\', None, 0, 0, 0, 0, None, \\'Alexa Sander                  NA37944188\\', \\'Alexa Sander                  NA37944188\\', \\'5065 Ralston St \\', \\'A\\', None, \\'Boulder\\', \\'CO\\', 80304, \\'US\\', None, \\'18083130693\\', \\'Alexa Sander                  NA37944188\\', \\'Alexa Sander                  \\', \\'5065 Ralston St \\', \\'A\\', None, \\'Boulder\\', \\'CO\\', \\'80304\\', \\'US\\', None, \\'18083130693\\', None, None, None, None, None, None, None, None, None, None, None, \\'Alexa Sander                  \\', \\'5065 Ralston St \\', \\'A\\', None, \\'Boulder\\', \\'CO\\', 80304, \\'US\\', None, \\'18083130693\\', None, None, None, None, None, None, None, None, None, None, None, None, \\'00:00.0\\', None, None, 0, None, 0, \\'RELEASED\\', None, None, None, \\'N\\', \\'47:46.0\\', \\'00:00.0\\', None, \\'00:00.0\\', \\'00:00.0\\', \\'00:00.0\\', None, None, None, None, None, None, 546942877, \\'US1\\', \\'Y\\', None, \\'000001_UPS_P_RES\\', None, \\'00:00.0\\', \\'59:00.0\\', None, None, None, None, None, None, None, None, None, \\'000001_UPS_P_RES\\', \\'N\\', None, 1, \\'90NA37944188-AP\\', None, None, None, None, None, None, None, None, None, None, None, None, None, None, None, None, None, None, None, None, None, None, \\'ECOM\\', \\'Deckers eCommerce OU\\', None, None, None, None, None, None, \\'TEVA\\', None, None, None, None, None, None, None, 0, 131586529, 0, None, None, None, None, None, None, None, 300270193, None, \\'41:22.4\\', \\'36:10.8\\', None, 0, 0, 0, None, \\'000001_UPS_P_RES\\', \\'PACKING\\', None, 1, 1, 1, \\' script name: paymentechOrbitalService:_callOrbital | data: Call duration in milliseconds: 415, Token = TNA37944188. Credit card removed from the order\\', 2, \\'PREPAID\\', None, None, \\'N\\', 0, None, None, \\'(800) 367-8382\\', \\'www.teva.com\\', \\'725008030401TEVA01NA379441\\', 4.20569e+28, \\'00:00.9\\', None, None, None, None, None, 80.0, None, None, None, None, None, None, None, None, None, None, None, None, None, None, None, \\'31:29.0\\', 0, None, None, None, None, None, None, None, None, None, None, None, None, None, None, None, None, None, None, None, None, None, 0, None, None, 0, 0, None, None, None, None, 0, None, None, None, None, 0, None, None, None, None, None, None, None, None, None, None, None, None, 0, None, 0, None, None, None, None), (37339570, \\'US1\\', 546942460, None, None, None, \\'NA37944172\\', \\'Nicholas Harney\\', None, None, None, None, None, 0, None, None, None, \\'United Parcel Service\\', None, \\'PREPAID\\', None, 50, \\'46:55.0\\', \\'00:00.0\\', \\'00:00.0\\', \\'00:00.0\\', \\'00:00.0\\', \\'59:00.0\\', 2.71, 0.83, 0, \\'N\\', None, 0, 0, 0, 0, None, \\'Nicholas Harney               NA37944172\\', \\'Nicholas Harney               NA37944172\\', \\'743 East Broadway\\', \\'Unit 1\\', None, \\'Boston\\', \\'MA\\', 2127, \\'US\\', None, \\'6176801890\\', \\'Nicholas Harney               NA37944172\\', \\'Nicholas Harney               \\', \\'743 East Broadway\\', \\'Unit 1\\', None, \\'Boston\\', \\'MA\\', \\'2127\\', \\'US\\', None, \\'6176801890\\', None, None, None, None, None, None, None, None, None, None, None, \\'Nicholas Harney               \\', \\'743 East Broadway\\', \\'Unit 1\\', None, \\'Boston\\', \\'MA\\', 2127, \\'US\\', None, \\'6176801890\\', None, None, None, None, None, None, None, None, None, None, None, None, \\'00:00.0\\', None, None, 0, None, 0, \\'RELEASED\\', None, None, None, \\'N\\', \\'46:55.0\\', \\'00:00.0\\', None, \\'00:00.0\\', \\'00:00.0\\', \\'00:00.0\\', None, None, None, None, None, None, 546942460, \\'US1\\', \\'Y\\', None, \\'000001_UPS_P_RES\\', None, \\'00:00.0\\', \\'59:00.0\\', None, None, None, None, None, None, None, None, None, \\'000001_UPS_P_RES\\', \\'N\\', None, 1, \\'90NA38562665\\', None, None, None, None, None, None, None, None, None, None, None, None, None, None, None, None, None, None, None, None, None, None, \\'ECOM\\', \\'Deckers eCommerce OU\\', None, None, None, None, None, None, \\'UGG\\', None, None, None, None, None, None, None, 0, 131586520, 0, None, None, None, None, None, None, None, 300270193, None, \\'55:58.8\\', \\'36:10.8\\', None, 0, 0, 0, None, \\'000001_UPS_P_RES\\', \\'WAVED\\', None, 1, 1, 1, \\' script name: paymentechOrbitalService:_callOrbital | data: Call duration in milliseconds: 500, Token = TNA37944172. Credit card removed from the order\\', 2, \\'PREPAID\\', None, None, \\'N\\', 0, None, None, \\'(888) 432-8530\\', \\'www.ugg.com\\', \\'725000212701UGGA01NA379441\\', 4.20569e+28, \\'00:00.9\\', None, None, None, \\'UGGEBOX\\', None, 150.0, None, None, None, None, None, None, None, None, None, None, None, None, None, None, None, \\'37:53.0\\', 0, None, None, None, None, None, None, None, None, None, None, None, None, None, None, None, None, None, None, None, None, None, 0, None, None, 0, 0, None, None, None, None, 0, None, None, None, None, 0, None, None, None, None, None, None, None, None, None, None, None, None, 0, None, 0, None, None, None, None), (37339530, \\'US1\\', 546942414, None, None, None, \\'NA37944171\\', \\'Felicia Langley\\', None, None, None, None, None, 0, None, None, None, \\'United Parcel Service\\', None, \\'PREPAID\\', None, 50, \\'46:51.0\\', \\'00:00.0\\', \\'00:00.0\\', \\'00:00.0\\', \\'00:00.0\\', \\'59:00.0\\', 7.92, 2.2, 0, \\'N\\', None, 0, 0, 0, 0, None, \\'Felicia Langley               NA37944171\\', \\'Felicia Langley               NA37944171\\', \\'713 east 3rd\\', None, None, \\'Weatherford\\', \\'TX\\', 76086, \\'US\\', None, \\'6822889524\\', \\'Felicia Langley               NA37944171\\', \\'Felicia Langley               \\', \\'713 east 3rd\\', None, None, \\'Weatherford\\', \\'TX\\', \\'76086\\', \\'US\\', None, \\'6822889524\\', None, None, None, None, None, None, None, None, None, None, None, \\'Felicia Langley               \\', \\'713 east 3rd\\', None, None, \\'Weatherford\\', \\'TX\\', 76086, \\'US\\', None, \\'6822889524\\', None, None, None, None, None, None, None, None, None, None, None, None, \\'00:00.0\\', None, None, 0, None, 0, \\'RELEASED\\', None, None, None, \\'N\\', \\'46:51.0\\', \\'00:00.0\\', None, \\'00:00.0\\', \\'00:00.0\\', \\'00:00.0\\', None, None, None, None, None, None, 546942414, \\'US1\\', \\'Y\\', None, \\'000001_UPS_P_RES\\', None, \\'00:00.0\\', \\'59:00.0\\', None, None, None, None, None, None, None, None, None, \\'000001_UPS_P_RES\\', \\'N\\', None, 1, \\'90NA35611624\\', None, None, None, None, None, None, None, None, None, None, None, None, None, None, None, None, None, None, None, None, None, None, \\'ECOM\\', \\'Deckers eCommerce OU\\', None, None, None, None, None, None, \\'UGG\\', None, None, None, None, None, None, None, 0, 131586504, 0, None, None, None, None, None, None, None, 300270193, None, \\'55:58.8\\', \\'36:10.8\\', None, 0, 1, 0, None, \\'000001_UPS_P_RES\\', \\'WAVED\\', None, 2, 2, 2, \\' script name: CheckoutServices-PlaceOrder | data: start time: 2025-01-24T16:46:51.051+0000, script name: paymentechOrbitalService:_callOrbital | data: Call duration in milliseconds: 408\\', 2, \\'PREPAID\\', None, None, \\'N\\', 0, None, None, \\'(888) 432-8530\\', \\'www.ugg.com\\', \\'725007608601UGGA01NA379441\\', 4.20569e+28, \\'00:00.9\\', None, None, None, \\'UGGEBOX\\', None, 216.98, None, None, None, None, None, None, None, None, None, None, None, None, None, None, None, \\'37:33.0\\', 0, None, None, None, None, None, None, None, None, None, None, None, None, None, None, None, None, None, None, None, None, None, 0, None, None, 0, 0, None, None, None, None, 0, None, None, None, None, 0, None, None, None, None, None, None, None, None, None, None, None, None, 0, None, 0, None, None, None, None), (37339228, \\'US1\\', 546940148, None, None, None, \\'C.P 1/24\\', \\'MARKETING\\', None, None, None, None, None, 0, None, None, None, \\'United Parcel Service (Next Day)\\', None, \\'PREPAID\\', None, 50, \\'45:05.0\\', \\'00:00.0\\', \\'00:00.0\\', \\'00:00.0\\', \\'00:00.0\\', \\'59:00.0\\', 5.49, 1.16, 0, \\'N\\', None, 0, 0, 0, 0, None, \\'BT1_3115_UGG\\', \\'BT1_3115_UGG\\', \\'Deckers Brands\\', \\'250 Coromar Dr\\', None, \\'GOLETA\\', \\'CA\\', 93117, \\'US\\', None, None, \\'Cedric Paul\\', \\'Cedric Paul\\', \\'641 Dekalb Ave\\', \\'#2\\', None, \\'Brooklyn\\', \\'NY\\', \\'11216\\', \\'US\\', None, None, None, None, None, None, None, None, None, None, None, None, None, \\'BT1_3115_UGG\\', \\'Deckers Brands\\', \\'250 Coromar Dr\\', None, \\'GOLETA\\', \\'CA\\', 93117, \\'US\\', None, None, None, None, None, None, None, None, None, None, None, None, None, None, \\'00:00.0\\', None, None, 0, None, 0, \\'RELEASED\\', None, None, None, \\'N\\', \\'00:00.0\\', \\'00:00.0\\', None, \\'00:00.0\\', \\'00:00.0\\', \\'00:00.0\\', None, None, None, None, None, None, 546940148, \\'US1\\', \\'N\\', None, \\'000001_UPSN_A_1DP\\', None, \\'00:00.0\\', \\'59:00.0\\', None, None, None, None, None, None, None, None, None, \\'000001_UPSN_A_1DP\\', \\'N\\', None, 1, \\'3115-UGG\\', None, None, None, None, None, None, None, None, None, None, None, None, None, None, None, None, None, None, None, None, None, None, \\'WHOLESALE\\', \\'Deckers US OU\\', None, None, None, None, None, None, \\'UGG\\', None, None, None, None, None, None, None, 0, 131585341, 0, None, None, None, None, None, None, None, 300270192, None, \\'56:52.0\\', \\'33:21.2\\', None, 0, 0, 0, None, \\'000001_UPSN_A_1DP\\', \\'WAVED\\', None, 1, 1, 1, None, 0, \\'PREPAID\\', None, None, \\'N\\', 0, None, None, None, None, None, None, \\'15:11.4\\', None, None, None, None, None, 1.0, None, None, None, None, None, None, None, None, None, None, None, None, None, None, None, \\'45:30.0\\', 0, None, None, None, None, None, None, None, None, None, None, None, None, None, None, None, None, None, None, None, None, None, 0, None, None, 0, 0, None, None, None, None, 0, None, None, \\'SOLID\\', None, 0, None, None, None, None, None, None, None, None, None, None, None, None, 0, None, 0, None, None, None, None), (37339529, \\'US1\\', 546942413, None, None, None, \\'NA37944156\\', \\'Adam Green\\', None, None, None, None, None, 0, None, None, None, \\'United Parcel Service\\', None, \\'PREPAID\\', None, 50, \\'44:57.0\\', \\'00:00.0\\', \\'00:00.0\\', \\'00:00.0\\', \\'00:00.0\\', \\'59:00.0\\', 5.65, 1.16, 0, \\'N\\', None, 0, 0, 0, 0, None, \\'Adam Green                    NA37944156\\', \\'Adam Green                    NA37944156\\', \\'1028 Ridgedale\\', None, None, \\'Birmingham\\', \\'MI\\', 48009, \\'US\\', None, \\'2485068912\\', \\'Adam Green                    NA37944156\\', \\'Adam Green                    \\', \\'1028 Ridgedale Ave\\', None, None, \\'Birmingham\\', \\'MI\\', \\'48009\\', \\'US\\', None, \\'2485068912\\', None, None, None, None, None, None, None, None, None, None, None, \\'Adam Green                    \\', \\'1028 Ridgedale\\', None, None, \\'Birmingham\\', \\'MI\\', 48009, \\'US\\', None, \\'2485068912\\', None, None, None, None, None, None, None, None, None, None, None, None, \\'00:00.0\\', None, None, 0, None, 0, \\'RELEASED\\', None, None, None, \\'N\\', \\'44:57.0\\', \\'00:00.0\\', None, \\'00:00.0\\', \\'00:00.0\\', \\'00:00.0\\', None, None, None, None, None, None, 546942413, \\'US1\\', \\'Y\\', None, \\'000001_UPS_P_RES\\', None, \\'00:00.0\\', \\'59:00.0\\', None, None, None, None, None, None, None, None, None, \\'000001_UPS_P_RES\\', \\'N\\', None, 1, \\'90NA37944156-AP\\', None, None, None, None, None, None, None, None, None, None, None, None, None, None, None, None, None, None, None, None, None, None, \\'ECOM\\', \\'Deckers eCommerce OU\\', None, None, None, None, None, None, \\'UGG\\', None, None, None, None, None, None, None, 0, 131586450, 0, None, None, None, None, None, None, None, 300270193, None, \\'55:58.8\\', \\'36:10.8\\', None, 0, 0, 0, None, \\'000001_UPS_P_RES\\', \\'WAVED\\', None, 1, 1, 1, \\' script name: paymentechOrbitalService:_callOrbital | data: Call duration in milliseconds: 400, Token = TNA37944156. Credit card removed from the order\\', 2, \\'PREPAID\\', None, None, \\'N\\', 0, None, None, \\'(888) 432-8530\\', \\'www.ugg.com\\', \\'725004800901UGGA01NA379441\\', 4.20569e+28, \\'00:00.9\\', None, None, None, \\'UGGEBOX\\', None, 230.0, None, None, None, None, None, None, None, None, None, None, None, None, None, None, None, \\'37:33.0\\', 0, None, None, None, None, None, None, None, None, None, None, None, None, None, None, None, None, None, None, None, None, None, 0, None, None, 0, 0, None, None, None, None, 0, None, None, None, None, 0, None, None, None, None, None, None, None, None, None, None, None, None, 0, None, 0, None, None, None, None)]'"
      ]
     },
     "execution_count": 21,
     "metadata": {},
     "output_type": "execute_result"
    }
   ],
   "source": [
    "import os\n",
    "import pandas as pd\n",
    "from sqlalchemy import create_engine, text\n",
    "from langchain_community.utilities.sql_database import SQLDatabase\n",
    "\n",
    "server = 'ASUS\\\\SQLEXPRESS' \n",
    "database = 'AAD' \n",
    "\n",
    "# Create a connection string for SQLAlchemy using Windows Authentication\n",
    "connection_string = f'mssql+pyodbc://@{server}/{database}?driver=ODBC+Driver+17+for+SQL+Server&trusted_connection=yes'\n",
    "# Create a connection string for SQLAlchemy\n",
    "db=SQLDatabase.from_uri(connection_string)\n",
    "db\n",
    "\n",
    "print(db.dialect)\n",
    "print(db.get_usable_table_names())\n",
    "db.run(\"SELECT * FROM t_order;\")"
   ]
  },
  {
   "cell_type": "code",
   "execution_count": 5,
   "metadata": {},
   "outputs": [],
   "source": [
    "import re\n",
    "\n",
    "def clean_sql_query(text: str) -> str:\n",
    "    \"\"\"\n",
    "    Clean SQL query by extracting the SQL code from code blocks or text,\n",
    "    removing code block syntax, various SQL tags, backticks, square brackets,\n",
    "    prefixes, and unnecessary whitespace while preserving the core SQL query.\n",
    "\n",
    "    Args:\n",
    "        text (str): Raw SQL query text that may contain code blocks, tags, and backticks\n",
    "\n",
    "    Returns:\n",
    "        str: Cleaned SQL query\n",
    "    \"\"\"\n",
    "    # Step 1: Extract SQL from code blocks if present\n",
    "    code_block_pattern = r\"```(?:sql|SQL|SQLQuery|mysql|postgresql)?\\s*(.*?)\\s*```\"\n",
    "    code_blocks = re.findall(code_block_pattern, text, flags=re.DOTALL)\n",
    "    \n",
    "    if code_blocks:\n",
    "        sql = code_blocks[0]\n",
    "    else:\n",
    "        # Step 2: Extract SQL statements without requiring semicolons\n",
    "        sql_statement_pattern = r\"(?i)\\b(SELECT|INSERT|UPDATE|DELETE)\\b.*?(?=;|$)\"\n",
    "        sql_match = re.search(sql_statement_pattern, text, flags=re.DOTALL)\n",
    "        sql = sql_match.group().strip() if sql_match else \"\"\n",
    "    \n",
    "    # Step 3: Remove non-SQL prefixes (e.g., \"AI:\") and clean formatting\n",
    "    sql = re.sub(r'^\\s*AI:\\s*', '', sql, flags=re.IGNORECASE)  # Remove \"AI:\" prefix\n",
    "    sql = re.sub(r'`|\\[|\\]', '', sql)  # Remove backticks and brackets\n",
    "    sql = re.sub(r'\\s+', ' ', sql).strip()  # Normalize whitespace\n",
    "    \n",
    "    return sql"
   ]
  },
  {
   "cell_type": "code",
   "execution_count": 6,
   "metadata": {},
   "outputs": [],
   "source": [
    "examples = [\n",
    "    {\n",
    "        \"input\": \"Give me records of items stuck in carton error\",\n",
    "        \"query\": \"SELECT order_number, status, error_message, t.imported_date, order_type, total_lines, total_units, * FROM t_order t (NOLOCK) WHERE status = 'CRTNERROR' ORDER BY t.imported_date DESC\"\n",
    "    },\n",
    "    {\n",
    "        \"input\": \"Orders with no t_pick_detail_cartonize record\",\n",
    "        \"query\": \"SELECT ord.order_number, ord.status, ord.host_status, pdc.status, pdc.order_number, imported_date FROM t_order ord (NOLOCK) LEFT JOIN t_pick_detail_cartonize pdc (NOLOCK) ON ord.order_number = pdc.order_number WHERE imported_date < DATEADD(mi, -5, GETDATE()) AND pdc.order_number IS NULL\"\n",
    "    },\n",
    "    {\n",
    "        \"input\": \"Give me records where picked inventory is zero\",\n",
    "        \"query\": \"SELECT * FROM t_stored_item sto (NOLOCK) WHERE actual_qty = 0 AND type <> 0\"\n",
    "    },\n",
    "    {\n",
    "        \"input\": \"Give me details for picking status, container ID (LPN) for the order pick line (line_number=1), pull lines (line_number!=1) for the order number or packwaves\",\n",
    "        \"query\": \"SELECT TOP 2 pick_id, order_number, line_number, work_type, status, item_number, planned_quantity, picked_quantity, staged_quantity, pick_location, wave_id, pack_wave_id, load_id, container_id, user_assigned, wh_id, created_date, pick_location_change_date, prev_pick_id, priority, picked_date, * FROM t_pick_detail (NOLOCK) WHERE order_number IN ('')\"\n",
    "    },\n",
    "    {\n",
    "        \"input\": \"Give me LPNs details which are of type inventory (IV), loaded (LO), replen (RP), staged order (SO), wave pulls (WP) or LPN orders associated with orders (control_number) or LPNs in status available (A), HOLD (H) or pallet number (parent_hu_id) or label_status in (NULL, COMPLETE, ERROR, PANDA, PREP, PROCESSED)\",\n",
    "        \"query\": \"SELECT * FROM t_hu_master WHERE type IN ('IV', 'LO', 'RP', 'SO', 'WP') OR control_number IS NOT NULL OR status IN ('A', 'H') OR parent_hu_id IS NOT NULL OR label_status IN (NULL, 'COMPLETE', 'ERROR', 'PANDA', 'PREP', 'PROCESSED')\"\n",
    "    },\n",
    "    {\n",
    "        \"input\": \"Give me employee details, user is logged into device if device_id is not NULL\",\n",
    "        \"query\": \"SELECT id, name, emp_number, dept, supervisor, menu_level, wh_id, hu_id, device, change_pick_type_allowed, picking_type, can_clear_pallet_positions_flag, chute_packout_full_scan, allow_move_hold_items, login_time, logout_time, last_activity, role, email, phone_number, address, * FROM t_employee WHERE device_id IS NOT NULL\"\n",
    "    },\n",
    "    {\n",
    "        \"input\": \"Please provide me details of items stored. If type=0, it's not allocated for any orders. If type is other than (0, -99), it has a foreign reference to t_pick_detail with t_stored_item.type=t_pick_detail.pick\",\n",
    "        \"query\": \"SELECT item_number, actual_qty, unavailable_qty, status, wh_id, location_id, expiration_date, lot_number, inspection_code, serial_number, type, put_away_location, stored_attribute_id, hu_id, shipment_number, item_name, supplier_id, batch_number, created_date, updated_date, * FROM t_stored_item WHERE (type = 0 OR type NOT IN (0, -99)) AND EXISTS (SELECT 1 FROM t_pick_detail WHERE t_stored_item.type = t_pick_detail.pick)\"\n",
    "    },\n",
    "    {\n",
    "        \"input\": \"Give me user details, it has device_id (users logged on)\",\n",
    "        \"query\": \"SELECT user_id, user_name, email, phone_number, role, department, supervisor_id, login_time, logout_time, last_activity, device_id, device_type, employee_id, fork_id, wh_id, business_process, text, last_tran_datetime, last_process, last_message_id, last_response_json, * FROM t_user WHERE device_id IS NOT NULL\"\n",
    "    },\n",
    "    {\n",
    "        \"input\": \"Give me LPNs which are on hold\",\n",
    "        \"query\": \"SELECT * FROM t_hu_master (NOLOCK) WHERE hu_id IN (SELECT container_number FROM t_pick_detail (NOLOCK) WHERE order_number IN ('')) AND status NOT IN ('A')\"\n",
    "    }\n",
    "]"
   ]
  },
  {
   "cell_type": "code",
   "execution_count": 7,
   "metadata": {},
   "outputs": [
    {
     "name": "stdout",
     "output_type": "stream",
     "text": [
      "SELECT COUNT(*) AS order_count FROM t_order\n"
     ]
    }
   ],
   "source": [
    "from langchain.chains import create_sql_query_chain\n",
    "\n",
    "from langchain_core.runnables import RunnablePassthrough, RunnableLambda\n",
    "\n",
    "generate_query=create_sql_query_chain(llm_deepseek, db)\n",
    "\n",
    "query=generate_query.invoke({\"question\":\"Give me count of all orders\"})\n",
    "\n",
    "print(query)"
   ]
  },
  {
   "cell_type": "code",
   "execution_count": 8,
   "metadata": {},
   "outputs": [
    {
     "name": "stderr",
     "output_type": "stream",
     "text": [
      "C:\\Users\\dhruv\\AppData\\Local\\Temp\\ipykernel_11664\\4290217317.py:2: LangChainDeprecationWarning: The class `QuerySQLDataBaseTool` was deprecated in LangChain 0.3.12 and will be removed in 1.0. An updated version of the class exists in the :class:`~langchain-community package and should be used instead. To use it run `pip install -U :class:`~langchain-community` and import as `from :class:`~langchain_community.tools import QuerySQLDatabaseTool``.\n",
      "  execute_query=QuerySQLDataBaseTool(db=db)\n"
     ]
    },
    {
     "data": {
      "text/plain": [
       "'[(50,)]'"
      ]
     },
     "execution_count": 8,
     "metadata": {},
     "output_type": "execute_result"
    }
   ],
   "source": [
    "from langchain_community.tools.sql_database.tool import QuerySQLDataBaseTool\n",
    "execute_query=QuerySQLDataBaseTool(db=db)\n",
    "execute_query.invoke(query)"
   ]
  },
  {
   "cell_type": "code",
   "execution_count": 9,
   "metadata": {},
   "outputs": [
    {
     "data": {
      "text/plain": [
       "\"[('Edward', 'Hernandez'), ('Fernando', 'Navarrete'), ('Melissa', 'Gomez'), ('Francisco', 'Villanueva'), ('Douglas', 'Johnson'), ('Joseph', 'Sepulveda'), ('August', 'Torres'), ('Sergio', 'Aquino'), ('Vitech', 'Sustainment'), ('Patricio', 'Ponce'), ('Alvaro', 'Alvarado'), ('Richard', 'Lopez'), ('Alba', 'Escandon'), ('Adrian', 'Bacerra'), ('Isabel', 'Magana'), ('Mario', 'Duran'), ('Willie', 'Garcia'), ('Ty', 'Ty'), ('Jonathan', 'Arteaga'), ('Gibram', 'Macias'), ('Sara', 'Navarro'), ('Maria', 'Prado'), ('Jerson', 'Salazar'), ('Citlali', 'Borja'), ('Erica', 'Garcia'), ('Jean', 'Arango'), ('Jasmine', 'Silva'), ('CS', 'CS'), ('Angel', 'Rmirez'), ('Alejandra', 'Hernandez'), ('Christopher', 'Bulter'), ('Joshua', 'Ritchie'), ('Edward', 'Garcia'), ('Laura', 'Solis'), ('Rashelle', 'Vasquez'), ('Jessica', 'Martinez'), ('Mireya', 'Maragadao'), ('Oscar', 'Serratos'), ('Javier', 'Ornelas'), ('Victor', 'Miranda'), ('Wendy', 'Mendoza'), ('David', 'Asencio'), ('Veronica', 'Martinez'), ('Cory', 'Loffer'), ('Lucia', 'Melgar'), ('Ashley', 'Molina'), ('Miranda', 'Ochoa'), ('Crystal', 'Noa'), ('Ivan', 'Espita'), ('Kenneth', 'Ferrell'), ('Michael', 'Vera'), ('Gustavo', 'Huerta'), ('Adolphus', 'Johnson'), ('Mark', 'Magana'), ('Victoria', 'Valadez'), ('Martha', 'Martinez'), ('Mayra o', 'Palomares'), ('Michael s', 'Nunez'), ('Ramiro', 'Reyna'), ('Raymond', 'Moreno'), ('Renee', 'Martinez'), ('Ricardo s', 'Aguilar'), ('Richard s', 'Carranza'), ('Romello s', 'Faulkner'), ('Rooney', 'Logova'), ('Salvador s', 'Romero'), ('Santiago jr', 'Rodriguez'), ('Saul s', 'Salgado'), ('Seth', 'Whisnant'), ('Stephanie', 'Szolga'), ('Steven a', 'Loera'), ('Tesha', 'Varnado'), ('William s', 'Wolpack'), ('James', 'Craford'), ('Amy', 'Cedillo'), ('Andrea', 'Duarte'), ('Antonio', 'Corona'), ('Cameron', 'Morris'), ('Carlos a', 'Hernandez'), ('Christopher', 'Bauder'), ('Cristian', 'Cardenas'), ('Elytania', 'Regalado'), ('Francisco', 'Veloz'), ('Javier', 'Guillen'), ('Jehieli', 'Rodriguez'), ('Julian', 'Bravo'), ('Korbin', 'Brown'), ('Maria', 'Chavez'), ('Mark', 'Villareal'), ('Omar', 'Lara 2'), ('Robert', 'Villanueva'), ('Ryan', 'Lugo'), ('George', 'Steidelle'), ('Frank', 'Bryant'), ('Nathan', 'Onuoha'), ('John', 'Desrosiers'), ('Leonel', 'Avila'), ('Sebastian', 'Damian'), ('Kobe', 'Picos'), ('Matthew', 'Bagshaw')]\""
      ]
     },
     "execution_count": 9,
     "metadata": {},
     "output_type": "execute_result"
    }
   ],
   "source": [
    "chain = generate_query| RunnableLambda(clean_sql_query) | execute_query\n",
    "\n",
    "chain.invoke({\"question\" : \"Give me all users name\"})"
   ]
  },
  {
   "cell_type": "code",
   "execution_count": 20,
   "metadata": {},
   "outputs": [
    {
     "name": "stdout",
     "output_type": "stream",
     "text": [
      "You are an MS SQL expert. Given an input question, first create a syntactically correct MS SQL query to run, then look at the results of the query and return the answer to the input question.\n",
      "Unless the user specifies in the question a specific number of examples to obtain, query for at most 5 results using the TOP clause as per MS SQL. You can order the results to return the most informative data in the database.\n",
      "Never query for all columns from a table. You must query only the columns that are needed to answer the question. Wrap each column name in square brackets ([]) to denote them as delimited identifiers.\n",
      "Pay attention to use only the column names you can see in the tables below. Be careful to not query for columns that do not exist. Also, pay attention to which column is in which table.\n",
      "Pay attention to use CAST(GETDATE() as date) function to get the current date, if the question involves \"today\".\n",
      "\n",
      "Use the following format:\n",
      "\n",
      "Question: Question here\n",
      "SQLQuery: SQL Query to run\n",
      "SQLResult: Result of the SQLQuery\n",
      "Answer: Final answer here\n",
      "\n",
      "Only use the following tables:\n",
      "\u001b[33;1m\u001b[1;3m{table_info}\u001b[0m\n",
      "\n",
      "Question: \u001b[33;1m\u001b[1;3m{input}\u001b[0m\n"
     ]
    }
   ],
   "source": [
    "chain.get_prompts()[0].pretty_print()"
   ]
  },
  {
   "cell_type": "code",
   "execution_count": 10,
   "metadata": {},
   "outputs": [],
   "source": [
    "from operator import itemgetter\n",
    "from langchain_core.output_parsers import StrOutputParser\n",
    "from langchain_core.prompts import PromptTemplate\n",
    "from langchain_core.runnables import RunnablePassthrough\n",
    "\n",
    "answer_prompt=PromptTemplate.from_template(\n",
    "    \"\"\"Given the following user question, corresponding SQL query and SQL result, answer the user question.\n",
    "    Question:{question}\n",
    "    SQL Query :{query}\n",
    "    SQL Result : {result}\n",
    "    Answer : \n",
    "\"\"\"\n",
    ")\n",
    "\n",
    "\n",
    "rephrase_answer =answer_prompt | llm_deepseek | StrOutputParser()\n",
    "\n",
    "chain= (\n",
    "    RunnablePassthrough.assign(query=generate_query |RunnableLambda(clean_sql_query)).assign(\n",
    "        result=itemgetter(\"query\") | execute_query\n",
    "    )\n",
    "    |\n",
    "    rephrase_answer\n",
    ")\n",
    "\n",
    "result=chain.invoke({\"question\":\"Give me count of all orders\"})"
   ]
  },
  {
   "cell_type": "code",
   "execution_count": 11,
   "metadata": {},
   "outputs": [
    {
     "name": "stdout",
     "output_type": "stream",
     "text": [
      "</think>\n",
      "\n",
      "The count of all orders is **50**.\n"
     ]
    }
   ],
   "source": [
    "print(result)"
   ]
  },
  {
   "cell_type": "markdown",
   "metadata": {},
   "source": [
    "****Few Shot Prompt Example****"
   ]
  },
  {
   "cell_type": "code",
   "execution_count": 12,
   "metadata": {},
   "outputs": [
    {
     "name": "stdout",
     "output_type": "stream",
     "text": [
      "Human: Give me records of items stuck in carton error\n",
      "SQLQuery:\n",
      "AI: SELECT order_number, status, error_message, t.imported_date, order_type, total_lines, total_units, * FROM t_order t (NOLOCK) WHERE status = 'CRTNERROR' ORDER BY t.imported_date DESC\n",
      "Human: Orders with no t_pick_detail_cartonize record\n",
      "SQLQuery:\n",
      "AI: SELECT ord.order_number, ord.status, ord.host_status, pdc.status, pdc.order_number, imported_date FROM t_order ord (NOLOCK) LEFT JOIN t_pick_detail_cartonize pdc (NOLOCK) ON ord.order_number = pdc.order_number WHERE imported_date < DATEADD(mi, -5, GETDATE()) AND pdc.order_number IS NULL\n",
      "Human: Give me records where picked inventory is zero\n",
      "SQLQuery:\n",
      "AI: SELECT * FROM t_stored_item sto (NOLOCK) WHERE actual_qty = 0 AND type <> 0\n",
      "Human: Give me details for picking status, container ID (LPN) for the order pick line (line_number=1), pull lines (line_number!=1) for the order number or packwaves\n",
      "SQLQuery:\n",
      "AI: SELECT TOP 2 pick_id, order_number, line_number, work_type, status, item_number, planned_quantity, picked_quantity, staged_quantity, pick_location, wave_id, pack_wave_id, load_id, container_id, user_assigned, wh_id, created_date, pick_location_change_date, prev_pick_id, priority, picked_date, * FROM t_pick_detail (NOLOCK) WHERE order_number IN ('')\n",
      "Human: Give me LPNs details which are of type inventory (IV), loaded (LO), replen (RP), staged order (SO), wave pulls (WP) or LPN orders associated with orders (control_number) or LPNs in status available (A), HOLD (H) or pallet number (parent_hu_id) or label_status in (NULL, COMPLETE, ERROR, PANDA, PREP, PROCESSED)\n",
      "SQLQuery:\n",
      "AI: SELECT * FROM t_hu_master WHERE type IN ('IV', 'LO', 'RP', 'SO', 'WP') OR control_number IS NOT NULL OR status IN ('A', 'H') OR parent_hu_id IS NOT NULL OR label_status IN (NULL, 'COMPLETE', 'ERROR', 'PANDA', 'PREP', 'PROCESSED')\n",
      "Human: Give me employee details, user is logged into device if device_id is not NULL\n",
      "SQLQuery:\n",
      "AI: SELECT id, name, emp_number, dept, supervisor, menu_level, wh_id, hu_id, device, change_pick_type_allowed, picking_type, can_clear_pallet_positions_flag, chute_packout_full_scan, allow_move_hold_items, login_time, logout_time, last_activity, role, email, phone_number, address, * FROM t_employee WHERE device_id IS NOT NULL\n",
      "Human: Please provide me details of items stored. If type=0, it's not allocated for any orders. If type is other than (0, -99), it has a foreign reference to t_pick_detail with t_stored_item.type=t_pick_detail.pick\n",
      "SQLQuery:\n",
      "AI: SELECT item_number, actual_qty, unavailable_qty, status, wh_id, location_id, expiration_date, lot_number, inspection_code, serial_number, type, put_away_location, stored_attribute_id, hu_id, shipment_number, item_name, supplier_id, batch_number, created_date, updated_date, * FROM t_stored_item WHERE (type = 0 OR type NOT IN (0, -99)) AND EXISTS (SELECT 1 FROM t_pick_detail WHERE t_stored_item.type = t_pick_detail.pick)\n",
      "Human: Give me user details, it has device_id (users logged on)\n",
      "SQLQuery:\n",
      "AI: SELECT user_id, user_name, email, phone_number, role, department, supervisor_id, login_time, logout_time, last_activity, device_id, device_type, employee_id, fork_id, wh_id, business_process, text, last_tran_datetime, last_process, last_message_id, last_response_json, * FROM t_user WHERE device_id IS NOT NULL\n",
      "Human: Give me LPNs which are on hold\n",
      "SQLQuery:\n",
      "AI: SELECT * FROM t_hu_master (NOLOCK) WHERE hu_id IN (SELECT container_number FROM t_pick_detail (NOLOCK) WHERE order_number IN ('')) AND status NOT IN ('A')\n"
     ]
    }
   ],
   "source": [
    "from langchain_core.prompts import ChatPromptTemplate, MessagesPlaceholder, FewShotChatMessagePromptTemplate, PromptTemplate\n",
    "\n",
    "example_prompt= ChatPromptTemplate.from_messages(\n",
    "    [\n",
    "        (\"human\",\"{input}\\nSQLQuery:\"),\n",
    "        (\"ai\",\"{query}\"),\n",
    "    ]\n",
    ")\n",
    "\n",
    "few_shot_prompt=FewShotChatMessagePromptTemplate(\n",
    "    example_prompt=example_prompt,\n",
    "    examples=examples,\n",
    "    input_variables=[\"input\"],\n",
    "    \n",
    ")\n",
    "\n",
    "print(few_shot_prompt.format(input=\"How many orders are there\"))"
   ]
  },
  {
   "cell_type": "markdown",
   "metadata": {},
   "source": [
    "***Dynamic Few Shot Example Selector***\n"
   ]
  },
  {
   "cell_type": "code",
   "execution_count": 13,
   "metadata": {},
   "outputs": [
    {
     "name": "stderr",
     "output_type": "stream",
     "text": [
      "C:\\Users\\dhruv\\AppData\\Local\\Temp\\ipykernel_11664\\2633461519.py:12: LangChainDeprecationWarning: The class `Chroma` was deprecated in LangChain 0.2.9 and will be removed in 1.0. An updated version of the class exists in the :class:`~langchain-chroma package and should be used instead. To use it run `pip install -U :class:`~langchain-chroma` and import as `from :class:`~langchain_chroma import Chroma``.\n",
      "  vectorstore= Chroma()\n"
     ]
    },
    {
     "data": {
      "text/plain": [
       "[{'input': 'Give me LPNs which are on hold',\n",
       "  'query': \"SELECT * FROM t_hu_master (NOLOCK) WHERE hu_id IN (SELECT container_number FROM t_pick_detail (NOLOCK) WHERE order_number IN ('')) AND status NOT IN ('A')\"},\n",
       " {'input': 'Give me LPNs details which are of type inventory (IV), loaded (LO), replen (RP), staged order (SO), wave pulls (WP) or LPN orders associated with orders (control_number) or LPNs in status available (A), HOLD (H) or pallet number (parent_hu_id) or label_status in (NULL, COMPLETE, ERROR, PANDA, PREP, PROCESSED)',\n",
       "  'query': \"SELECT * FROM t_hu_master WHERE type IN ('IV', 'LO', 'RP', 'SO', 'WP') OR control_number IS NOT NULL OR status IN ('A', 'H') OR parent_hu_id IS NOT NULL OR label_status IN (NULL, 'COMPLETE', 'ERROR', 'PANDA', 'PREP', 'PROCESSED')\"},\n",
       " {'input': 'Give me employee details, user is logged into device if device_id is not NULL',\n",
       "  'query': 'SELECT id, name, emp_number, dept, supervisor, menu_level, wh_id, hu_id, device, change_pick_type_allowed, picking_type, can_clear_pallet_positions_flag, chute_packout_full_scan, allow_move_hold_items, login_time, logout_time, last_activity, role, email, phone_number, address, * FROM t_employee WHERE device_id IS NOT NULL'}]"
      ]
     },
     "execution_count": 13,
     "metadata": {},
     "output_type": "execute_result"
    }
   ],
   "source": [
    "from langchain_community.vectorstores import Chroma\n",
    "from langchain_core.example_selectors import SemanticSimilarityExampleSelector\n",
    "from langchain_huggingface import HuggingFaceEndpointEmbeddings \n",
    "from langchain_huggingface import HuggingFaceEmbeddings\n",
    "\n",
    "model_name=\"sentence-transformers/all-MiniLM-L6-v2\"\n",
    "\n",
    "hf=HuggingFaceEndpointEmbeddings(\n",
    "    model=model_name\n",
    ")\n",
    "\n",
    "vectorstore= Chroma()\n",
    "vectorstore.delete_collection()\n",
    "example_selector=SemanticSimilarityExampleSelector.from_examples(\n",
    "    examples,\n",
    "    HuggingFaceEndpointEmbeddings(),\n",
    "    vectorstore,\n",
    "    k=3,\n",
    "    input_keys=[\"input\"],  \n",
    ")\n",
    "\n",
    "example_selector.select_examples({\"input\":\"Give me LPN details\"})"
   ]
  },
  {
   "cell_type": "markdown",
   "metadata": {},
   "source": [
    "***Customising Few Shot Prompt Template***\n"
   ]
  },
  {
   "cell_type": "code",
   "execution_count": 14,
   "metadata": {},
   "outputs": [
    {
     "name": "stdout",
     "output_type": "stream",
     "text": [
      "Human: Give me details for picking status, container ID (LPN) for the order pick line (line_number=1), pull lines (line_number!=1) for the order number or packwaves\n",
      "SQLQuery:\n",
      "AI: SELECT TOP 2 pick_id, order_number, line_number, work_type, status, item_number, planned_quantity, picked_quantity, staged_quantity, pick_location, wave_id, pack_wave_id, load_id, container_id, user_assigned, wh_id, created_date, pick_location_change_date, prev_pick_id, priority, picked_date, * FROM t_pick_detail (NOLOCK) WHERE order_number IN ('')\n",
      "Human: Give me LPNs details which are of type inventory (IV), loaded (LO), replen (RP), staged order (SO), wave pulls (WP) or LPN orders associated with orders (control_number) or LPNs in status available (A), HOLD (H) or pallet number (parent_hu_id) or label_status in (NULL, COMPLETE, ERROR, PANDA, PREP, PROCESSED)\n",
      "SQLQuery:\n",
      "AI: SELECT * FROM t_hu_master WHERE type IN ('IV', 'LO', 'RP', 'SO', 'WP') OR control_number IS NOT NULL OR status IN ('A', 'H') OR parent_hu_id IS NOT NULL OR label_status IN (NULL, 'COMPLETE', 'ERROR', 'PANDA', 'PREP', 'PROCESSED')\n",
      "Human: Give me records where picked inventory is zero\n",
      "SQLQuery:\n",
      "AI: SELECT * FROM t_stored_item sto (NOLOCK) WHERE actual_qty = 0 AND type <> 0\n"
     ]
    }
   ],
   "source": [
    "few_shot_prompt=FewShotChatMessagePromptTemplate(\n",
    "    example_prompt=example_prompt,\n",
    "    example_selector=example_selector,\n",
    "    input_variables=[\"input\",\"top_k\"],\n",
    "    \n",
    ")\n",
    "\n",
    "print(few_shot_prompt.format(input=\"How many orders are there\",top_k=3, table_info=\"\"))"
   ]
  },
  {
   "cell_type": "code",
   "execution_count": 15,
   "metadata": {},
   "outputs": [
    {
     "name": "stdout",
     "output_type": "stream",
     "text": [
      "System: You are a MS SQL Expert. Given an imput question, create a syntactically correct MS SQL query to run,and return the answer to the input question.Never query for all columns from a table. You must query only the columns that are needed to answer the question. Wrap each column name in square brackets ([]) to denote them as delimited identifiers.Pay attention to use only the column names you can see in the tables below. Be careful to not query for columns that do not exist. Also, pay attention to which column is in which table.Pay attention to use CAST(GETDATE() as date) function to get the current date, if the question involves today. Do not add any extra chracter which will impact the sql query excution. \n",
      "\n",
      " Here is the relevant table info:show some table info\n",
      "\n",
      " Below are number of examples of question and their corresponding MSSQL queries.Please output the plain sql query\n",
      "Human: Give me details for picking status, container ID (LPN) for the order pick line (line_number=1), pull lines (line_number!=1) for the order number or packwaves\n",
      "SQLQuery:\n",
      "AI: SELECT TOP 2 pick_id, order_number, line_number, work_type, status, item_number, planned_quantity, picked_quantity, staged_quantity, pick_location, wave_id, pack_wave_id, load_id, container_id, user_assigned, wh_id, created_date, pick_location_change_date, prev_pick_id, priority, picked_date, * FROM t_pick_detail (NOLOCK) WHERE order_number IN ('')\n",
      "Human: Give me LPNs details which are of type inventory (IV), loaded (LO), replen (RP), staged order (SO), wave pulls (WP) or LPN orders associated with orders (control_number) or LPNs in status available (A), HOLD (H) or pallet number (parent_hu_id) or label_status in (NULL, COMPLETE, ERROR, PANDA, PREP, PROCESSED)\n",
      "SQLQuery:\n",
      "AI: SELECT * FROM t_hu_master WHERE type IN ('IV', 'LO', 'RP', 'SO', 'WP') OR control_number IS NOT NULL OR status IN ('A', 'H') OR parent_hu_id IS NOT NULL OR label_status IN (NULL, 'COMPLETE', 'ERROR', 'PANDA', 'PREP', 'PROCESSED')\n",
      "Human: Give me records where picked inventory is zero\n",
      "SQLQuery:\n",
      "AI: SELECT * FROM t_stored_item sto (NOLOCK) WHERE actual_qty = 0 AND type <> 0\n",
      "Human: How many orders are there\n"
     ]
    }
   ],
   "source": [
    "final_prompt=ChatPromptTemplate.from_messages(\n",
    "    [\n",
    "        (\"system\",\"You are a MS SQL Expert. Given an imput question, create a syntactically correct MS SQL query to run,and return the answer to the input question.Never query for all columns from a table. You must query only the columns that are needed to answer the question. Wrap each column name in square brackets ([]) to denote them as delimited identifiers.Pay attention to use only the column names you can see in the tables below. Be careful to not query for columns that do not exist. Also, pay attention to which column is in which table.Pay attention to use CAST(GETDATE() as date) function to get the current date, if the question involves \"\"today\"\". Do not add any extra chracter which will impact the sql query excution. \\n\\n Here is the relevant table info:{table_info}\\n\\n Below are number of examples of question and their corresponding MSSQL queries.Please output the plain sql query\"),\n",
    "        few_shot_prompt,\n",
    "        (\"human\",\"{input}\"),\n",
    "    ]\n",
    ")\n",
    "\n",
    "print(final_prompt.format(input=\"How many orders are there\", table_info=\"show some table info\"))"
   ]
  },
  {
   "cell_type": "code",
   "execution_count": 22,
   "metadata": {},
   "outputs": [],
   "source": [
    "generate_query=create_sql_query_chain(llm_openai,db,final_prompt)\n",
    "\n",
    "\n",
    "chain= (\n",
    "    RunnablePassthrough.assign(query=generate_query| RunnableLambda(clean_sql_query)).assign(\n",
    "        result=itemgetter(\"query\") | execute_query\n",
    "    )\n",
    "    |\n",
    "    rephrase_answer\n",
    ")\n",
    "\n",
    "result=chain.invoke({\"question\":\"Give me all employees names\"})\n",
    "\n",
    "\n",
    "\n"
   ]
  },
  {
   "cell_type": "code",
   "execution_count": 23,
   "metadata": {},
   "outputs": [
    {
     "name": "stdout",
     "output_type": "stream",
     "text": [
      "</think>\n",
      "\n",
      "Here is a list of all employee names:\n",
      "\n",
      "1. Edward Hernandez\n",
      "2. Fernando Navarrete\n",
      "3. Melissa Gomez\n",
      "4. Francisco Villanueva\n",
      "5. Douglas Johnson\n",
      "6. Joseph Sepulveda\n",
      "7. August Torres\n",
      "8. Sergio Aquino\n",
      "9. Vitech Sustainment\n",
      "10. Patricio Ponce\n",
      "11. Alvaro Alvarado\n",
      "12. Richard Lopez\n",
      "13. Alba Escandon\n",
      "14. Adrian Bacerra\n",
      "15. Isabel Magana\n",
      "16. Mario Duran\n",
      "17. Willie Garcia\n",
      "18. Ty Ty\n",
      "19. Jonathan Arteaga\n",
      "20. Gibram Macias\n",
      "21. Sara Navarro\n",
      "22. Maria Prado\n",
      "23. Jerson Salazar\n",
      "24. Citlali Borja\n",
      "25. Erica Garcia\n",
      "26. Jean Arango\n",
      "27. Jasmine Silva\n",
      "28. CS CS\n",
      "29. Angel Rmirez\n",
      "30. Alejandra Hernandez\n",
      "31. Christopher Bulter\n",
      "32. Joshua Ritchie\n",
      "33. Edward Garcia\n",
      "34. Laura Solis\n",
      "35. Rashelle Vasquez\n",
      "36. Jessica Martinez\n",
      "37. Mireya Maragadao\n",
      "38. Oscar Serratos\n",
      "39. Javier Ornelas\n",
      "40. Victor Miranda\n",
      "41. Wendy Mendoza\n",
      "42. David Asencio\n",
      "43. Veronica Martinez\n",
      "44. Cory Loffer\n",
      "45. Lucia Melgar\n",
      "46. Ashley Molina\n",
      "47. Miranda Ochoa\n",
      "48. Crystal Noa\n",
      "49. Ivan Espita\n",
      "50. Kenneth Ferrell\n",
      "51. Michael Vera\n",
      "52. Gustavo Huerta\n",
      "53. Adolphus Johnson\n",
      "54. Mark Magana\n",
      "55. Victoria Valadez\n",
      "56. Martha Martinez\n",
      "57. Mayra o Palomares\n",
      "58. Michael s Nunez\n",
      "59. Ramiro Reyna\n",
      "60. Raymond Moreno\n",
      "61. Renee Martinez\n",
      "62. Ricardo s Aguilar\n",
      "63. Richard s Carranza\n",
      "64. Romello s Faulkner\n",
      "65. Rooney Logova\n",
      "66. Salvador s Romero\n",
      "67. Santiago jr Rodriguez\n",
      "68. Saul s Salgado\n",
      "69. Seth Whisnant\n",
      "7\n"
     ]
    }
   ],
   "source": [
    "\n",
    "print(result)\n"
   ]
  },
  {
   "cell_type": "code",
   "execution_count": 132,
   "metadata": {},
   "outputs": [
    {
     "name": "stdout",
     "output_type": "stream",
     "text": [
      "</think>\n",
      "\n",
      "Here is a list of all employee names based on the provided SQL result:\n",
      "\n",
      "1. Edward Hernandez\n",
      "2. Fernando Ararrete\n",
      "3. Melissa Gomez\n",
      "4. Francisco Villanueva\n",
      "5. Douglas Johnson\n",
      "6. Joseph Sepulveda\n",
      "7. August Torres\n",
      "8. Sergio Aquino\n",
      "9. Vitech Sustainment\n",
      "10. Patricio Ponce\n",
      "11. Alvaro Alvarado\n",
      "12. Richard Lopez\n",
      "13. Alba Escandon\n",
      "14. Adrian Bacerra\n",
      "15. Isabel Magana\n",
      "16. Mario Duran\n",
      "17. Willie Garcia\n",
      "18. Ty Ty\n",
      "19. Jonathan Arteaga\n",
      "20. Gibram Macias\n",
      "21. Sara Navarro\n",
      "22. Maria Prado\n",
      "23. Jerson Salazar\n",
      "24. Citlali B'Navarrete\n",
      "25. Erica Garcia\n",
      "26. Jean Arango\n",
      "27. Jasmine Silva\n",
      "28. CS CS\n",
      "29. Angel Rmirez\n",
      "30. Alejandra Hernandez\n",
      "31. Christopher Bulter\n",
      "32. Joshua Ritchie\n",
      "33. Edward Garcia\n",
      "34. Laura Solis\n",
      "35. Rashelle Vasquez\n",
      "36. Jessica Martinez\n",
      "37. Mireya Maragadao\n",
      "38. Oscar Serratos\n",
      "39. Javier Ornelas\n",
      "40. Victor Miranda\n",
      "41. Wendy Mendoza\n",
      "42. David Asencio\n",
      "43. Veronica Martinez\n",
      "44. Cory Loffer\n",
      "45. Lucia Melgar\n",
      "46. Ashley Molina\n",
      "47. Miranda Ochoa\n",
      "48. Crystal Noa\n",
      "49. Ivan Espita\n",
      "50. Kenneth Ferrell\n",
      "51. Michael Vera\n",
      "52. Gustavo Huerta\n",
      "53. Adolphus Johnson\n",
      "54. Mark Magana\n",
      "55. Victoria Valadez\n",
      "56. Martha Martinez\n",
      "57. Mayra Palomares\n",
      "58. Michael Nunez\n",
      "59. Ramiro Reyna\n",
      "60. Raymond Moreno\n",
      "61. Renee Martinez\n",
      "62. Ricardo Aguilar\n",
      "63. Richard Carranza\n",
      "64. Romello Faulkner\n",
      "65. Rooney Logova\n",
      "66. Salvador Romero\n",
      "67. Santiago Rodriguez\n",
      "68. Saul Salgado\n",
      "69. Seth Whisnant\n",
      "\n"
     ]
    }
   ],
   "source": [
    "\n",
    "print(result)"
   ]
  },
  {
   "cell_type": "markdown",
   "metadata": {},
   "source": [
    "**Dynamic Relevant Table Selection**"
   ]
  },
  {
   "cell_type": "code",
   "execution_count": 24,
   "metadata": {},
   "outputs": [
    {
     "name": "stdout",
     "output_type": "stream",
     "text": [
      "Table Name:t_employee\n",
      "Table Description:Stores information about employees, including the equipment(device) the employee has logged on to and the menu level to display to the employee.\n",
      "\n",
      "Table Name:t_device\n",
      "Table Description:Stores the information related to device, employee_id logged in, fork_id, last transaction time, business process, device type etc.\n",
      "\n",
      "Table Name:t_hu_master\n",
      "Table Description:This table lists handling units (license plates LPNs) of related items that are stored, moved, and/or picked together.\n",
      "It contains type The type of current license plate record. Valid values are: AR – Anticipated Receipt IV – Inventory LO – Loaded Order RC – Received SO – Staged Order .    Control number. Types IV and AR may have an ASN, receiver, or receipt identifier as a control number. Types LO and SO may have an order number or work order identifier as a control number, Valid location identifier in the warehouse, status-Identifies whether a license plate is in use or not, as well as indicating if it is on hold. Valid values are: A – Available H – Hold U – Unavailable. load_id - Load identifier of the license plate if it is part of a load\n",
      "\n",
      "\n",
      "\n",
      "Table Name:t_stored_item\n",
      "Table Description:The stored item table is the inventory tracking table. There is a quantum associated with the t_stored_item table consisting of: wh_id, location_id, hu_id, item_number, lot_number, and stored_attribute_id. These are values that distinguish inventory that a worker would be able to “see”. actual_qty FLOAT Required – defaults to 0 Actual quantity of the inventory quantum. Quantity is in the item’s base unit of measure, which has a conversion factor of 1. unavailable_qty FLOAT Optional – defaults to 0 Unavailable quantity of the inventory quantum. Quantity is in the item’s base unit of measure, which has a conversion factor of 1. Valid values are 0 or the same as actual_qty. status CHAR(1) Required – defaults to A Status of the inventory quantum. Valid values are: A – Available, H – Hold, U – Unavailable. type BIGINT Required Shows the type of storage. Inventory of the type Pick ID can still be placed on hold. Valid values are: 0 – Storage, -1 – Reconcile (for Receipt of Shipment), Pick ID – Pick Identifier for picked inventory. u_id NVARCHAR(22) Optional License plate identifier. shipment_number NVARCHAR(30) Optional Shipment number.\n",
      "\n",
      "Table Name:t_pick_details\n",
      "Table Description:\n",
      "This table contains pick detail records that represent definition and state information for picking tasks. pick_id INT IDENTITY(10) Required Pick detail record identifier. order_number NVARCHAR(30) Required Valid order number. line_number NVARCHAR(5) Required Order line number. type NVARCHAR(2) Optional Type of task. Valid values are: PM – Planned Move, PP – Planned Pick, RP – Replenishment. work_type NVARCHAR(2) Optional Work type. Ties to t_allocation. status NVARCHAR(10) Optional Status. Valid values are: PRERLSE (Prerelease), CARTONIZE, CREATED (Prevents picking items that can’t be cartonized by Container Advantage but are in a container pick area), RELEASED, PICKED (Used by Execute Planned Moves Only), SHORTED (Picked less than available for picking processes), STAGED, LOADED, SHIPPED. item_number NVARCHAR(30) Required Item number. lot_number NVARCHAR(15) Optional Lot number. serial_number NVARCHAR(30) Optional Serial number. unplanned_quantity FLOAT(15) Optional Unplanned quantity. Informational only. planned_quantity FLOAT(15) Required Planned quantity. picked_quantity FLOAT(15) Required Picked quantity. Populated during picking. staged_quantity FLOAT(15) Required Staged Quantity. loaded_quantity FLOAT(15) Required Loaded Quantity. packed_quantity FLOAT(15) Required Packed Quantity. shipped_quantity FLOAT(15) Required Shipped Quantity. staging_location NVARCHAR(50) Optional Staging location. zone NVARCHAR(20) Optional Zone. wave_id NVARCHAR(20) Optional Wave identifier. load_id NVARCHAR(30) Optional Load identifier. load_sequence INT(10) Optional Load sequence. stop_id NVARCHAR(20) Optional Stop identifier. container_id NVARCHAR(22) Optional Pick container identifier. Ties to t_pick_container. pick_category NVARCHAR(10) Optional Pick category. user_assigned NVARCHAR(10) Optional The field is set to the user who performs the pick. The value is retained after the pick has been completed. The value is cleared if the pick is unpicked. bulk_pick_flag CHAR(1) Optional Bulk picking flag. stacking_sequence INT(10) Optional Stacking sequence. pick_area NVARCHAR(10) Optional Pick area. Ties to t_allocation. wh_id NVARCHAR(10) Required Valid warehouse identifier. cartonization_batch_id NVARCHAR(60) Optional Cartonization batch identifier. Used by Container Advantage. manifest_batch_id NVARCHAR(50) Optional Manifest batch identifier. stored_attribute_id BIGINT(19) Optional DIA stored attribute collection identifier for the pick. created_date DATETIME Required – defaults to current date The date and time that the pick detail was created. before_pick_rule NVARCHAR(30) Optional Holds the rule used to determine the pick location. during_pick_rule NVARCHAR(30) Optional Holds the rule used by usp_during_pick to determine the pick location. Only filled in if usp_during_pick found a different location than the previous location on the PKD or if a different pick rule was used to find the same location. hold_reason_id NVARCHAR(10) Optional Hold reason code for the pick. Links to reason_id in t_reason table. destination_zone NVARCHAR(20) Optional Destination Zone to be used for outsorting.\n",
      "\n",
      "Table Name:t_order\n",
      "Table Description:This is the outbound order master table that stores the shipping and billing information on a customer order. Many values within the table are optional and drive Warehouse Advantage functionality.order_number: Order identifier, cust_po_number: Customer inbound order number, pass-through for shipment notification, customer_name: Customer name, customer_phone: Customer phone, load_id: Load identifier, defaults to order number, carrier: Carrier code, carrier_scac: Standard Carrier Alpha Code, used by TMS Integration Module, freight_terms: Freight terms (Collect, Prepaid, thirdparty, Consignee), rush: Rush status of order (E – Emergency, R – Rush, X – Normal), priority: Load/Order priority, defaults to 10, order_date: Date of order, defaults to import date, weight: Order weight, defaults to 0, cubic_volume: Cubic volume of order, defaults to 0, region: Region of country, ship_to_code: Ship to code, ship_to_name: Ship to name, ship_to_addr1: Ship to address line 1, ship_to_addr2: Ship to address line 2, ship_to_addr3: Ship to address line 3, ship_to_city: Ship to city, ship_to_state: Ship to state/region, ship_to_zip: Ship to postal code, ship_to_country_code: Ship to country code, ship_to_country_name: Ship to country name, ship_to_phone: Ship to phone number, haz_flag: Hazardous status (1 – Hazardous, 2 – Dangerous, 3 – Corrosive, 4 – Flammable), status: Order status (D – Done Picking, I – In Process, LOADING – Loading, N – New, R – Ready To Ship, S – Shipped, U – Unassigned, C - Consolidated), defaults to U, carrier_mode: Carrier Mode, used by TMS Integration Module, bol_number: Bill of Lading number, pass-through for shipment notification.\n",
      "\n",
      "\n"
     ]
    }
   ],
   "source": [
    "from operator import itemgetter\n",
    "from langchain.chains.openai_tools import create_extraction_chain_pydantic\n",
    "from pydantic import BaseModel, Field\n",
    "from typing import List\n",
    "import pandas as pd\n",
    "\n",
    "def get_table_details():\n",
    "    ##Read CSV file into dataframe\n",
    "    table_description=pd.read_csv(\"tables_description.csv\")\n",
    "    table_docs=[]\n",
    "\n",
    "\n",
    "    #Iterate over dataframe rows to create Document objects\n",
    "    table_details=\"\"\n",
    "    for index, row in table_description.iterrows():\n",
    "        table_details=table_details + \"Table Name:\" + row['Table'] + \"\\n\" + \"Table Description:\" + row['Description'] + \"\\n\\n\"\n",
    "\n",
    "    return table_details\n",
    "\n",
    "class Table(BaseModel):\n",
    "\n",
    "    \"\"\"Table in SQL Database\"\"\"\n",
    "\n",
    "    name: str = Field(description=\"Name of all table in SQL databases.\")\n",
    "\n",
    "table_details=get_table_details()\n",
    "print(table_details)    \n"
   ]
  },
  {
   "cell_type": "code",
   "execution_count": 25,
   "metadata": {},
   "outputs": [
    {
     "name": "stderr",
     "output_type": "stream",
     "text": [
      "C:\\Users\\dhruv\\AppData\\Local\\Temp\\ipykernel_11664\\2623611836.py:6: LangChainDeprecationWarning: LangChain has introduced a method called `with_structured_output` thatis available on ChatModels capable of tool calling.You can read more about the method here: <https://python.langchain.com/docs/modules/model_io/chat/structured_output/>. Please follow our extraction use case documentation for more guidelineson how to do information extraction with LLMs.<https://python.langchain.com/docs/use_cases/extraction/>. with_structured_output does not currently support a list of pydantic schemas. If this is a blocker or if you notice other issues, please provide feedback here:<https://github.com/langchain-ai/langchain/discussions/18154>\n",
      "  table_chain = create_extraction_chain_pydantic(Table,llm_groq,system_message=table_details_prompt)\n"
     ]
    },
    {
     "data": {
      "text/plain": [
       "[Table(name='t_order')]"
      ]
     },
     "execution_count": 25,
     "metadata": {},
     "output_type": "execute_result"
    }
   ],
   "source": [
    "table_details_prompt=f\"\"\"Return the name of all the SQL Tables that might be relevant to the user question.\\n\n",
    "The tables are:\n",
    "{table_details}\n",
    "Remember to include all potentially Relevant table, even if you're not sure that they are needed. \"\"\"\n",
    "\n",
    "table_chain = create_extraction_chain_pydantic(Table,llm_groq,system_message=table_details_prompt)\n",
    "tables=table_chain.invoke({\"input\":\"Give me count of  orders shipped to each state\"})\n",
    "tables\n"
   ]
  },
  {
   "cell_type": "code",
   "execution_count": 26,
   "metadata": {},
   "outputs": [
    {
     "data": {
      "text/plain": [
       "['t_order']"
      ]
     },
     "execution_count": 26,
     "metadata": {},
     "output_type": "execute_result"
    }
   ],
   "source": [
    "def get_tables(tables: List[Table]) -> List[str]:\n",
    "    tables=[table.name for table in tables]\n",
    "    return tables\n",
    "\n",
    "select_tables={\"input\":itemgetter(\"question\")}|create_extraction_chain_pydantic(Table, llm_openai, system_message=table_details_prompt)| get_tables\n",
    "select_tables.invoke({\"question\": \"Give me count of orders shipped to each state\"}) "
   ]
  },
  {
   "cell_type": "code",
   "execution_count": 27,
   "metadata": {},
   "outputs": [
    {
     "name": "stdout",
     "output_type": "stream",
     "text": [
      "</think>\n",
      "\n",
      "Here is the count of orders shipped to each state:\n",
      "\n",
      "- AL: 1\n",
      "- BC: 1\n",
      "- CA: 5\n",
      "- CO: 2\n",
      "- CT: 1\n",
      "- FL: 1\n",
      "- GA: 2\n",
      "- IA: 1\n",
      "- IL: 3\n",
      "- MA: 2\n",
      "- MD: 3\n",
      "- MI: 1\n",
      "- MO: 1\n",
      "- NC: 1\n",
      "- NH: 1\n",
      "- NJ: 2\n",
      "- NY: 9\n",
      "- OH: 2\n",
      "- OK: 1\n",
      "- TN: 1\n",
      "- TX: 4\n",
      "- VA: 2\n",
      "- WA: 1\n",
      "- WI: 2\n"
     ]
    }
   ],
   "source": [
    "generate_query=create_sql_query_chain(llm_openai,db,final_prompt)\n",
    "\n",
    "chain=(\n",
    "    RunnablePassthrough.assign(table_name_to_use=select_tables) |\n",
    "    RunnablePassthrough.assign(query=generate_query | RunnableLambda(clean_sql_query)).assign(\n",
    "        result=itemgetter(\"query\") | execute_query\n",
    "    )\n",
    "    |\n",
    "    rephrase_answer\n",
    ")\n",
    "\n",
    "result=chain.invoke({\"question\": \"Give me count of orders shipped to each state\"})\n",
    "print(result)"
   ]
  },
  {
   "cell_type": "code",
   "execution_count": 28,
   "metadata": {},
   "outputs": [
    {
     "data": {
      "text/plain": [
       "Table(name='t_order')"
      ]
     },
     "execution_count": 28,
     "metadata": {},
     "output_type": "execute_result"
    }
   ],
   "source": [
    "table_details_prompt = ChatPromptTemplate.from_messages(\n",
    "        [\n",
    "            (\"system\", \"\"\"Return the names of ALL the SQL tables that MIGHT be relevant to the user question.\n",
    "                          The tables are:\n",
    "\n",
    "                          {table_details}\n",
    "\n",
    "                          Remember to include ALL POTENTIALLY RELEVANT tables, even if you're not sure that they're needed.\"\"\"),\n",
    "            (\"human\", \"{question}\")\n",
    "        ]\n",
    "    )\n",
    "\n",
    "structured_llm = llm_openai.with_structured_output(Table)\n",
    "\n",
    "table_chain = table_details_prompt | structured_llm\n",
    "tables = table_chain.invoke({\"question\": \"Give me count of orders shipped to each state\", \"table_details\":table_details})\n",
    "tables\n",
    "     "
   ]
  },
  {
   "cell_type": "code",
   "execution_count": 29,
   "metadata": {},
   "outputs": [
    {
     "data": {
      "text/plain": [
       "['t_order']"
      ]
     },
     "execution_count": 29,
     "metadata": {},
     "output_type": "execute_result"
    }
   ],
   "source": [
    "def get_tables(table_response: Table) -> List[str]:\n",
    "    \"\"\"\n",
    "    Extracts the list of table names from a Table object.\n",
    "\n",
    "    Args:\n",
    "        table_response (Table): A Pydantic Table object containing table names.\n",
    "\n",
    "    Returns:\n",
    "        List[str]: A list of table names.\n",
    "    \"\"\"\n",
    "    if isinstance(table_response.name, str):\n",
    "        return [table_response.name]\n",
    "    elif isinstance(table_response.name, list):\n",
    "        return table_response.name\n",
    "    else:\n",
    "        # Handle unexpected types\n",
    "        return []\n",
    "\n",
    "select_table = {\"question\": itemgetter(\"question\"), \"table_details\": itemgetter(\"table_details\")} | table_chain | get_tables\n",
    "select_table.invoke({\"question\": \"give me details of customer and their order count\", \"table_details\":table_details})"
   ]
  },
  {
   "cell_type": "code",
   "execution_count": 30,
   "metadata": {},
   "outputs": [],
   "source": [
    "generate_query=create_sql_query_chain(llm_openai,db,final_prompt)\n",
    "chain = (\n",
    "RunnablePassthrough.assign(table_names_to_use=select_table) |\n",
    "RunnablePassthrough.assign(query=generate_query| RunnableLambda(clean_sql_query)).assign(\n",
    "    result=itemgetter(\"query\") | execute_query\n",
    ")\n",
    "| rephrase_answer\n",
    ")\n"
   ]
  },
  {
   "cell_type": "code",
   "execution_count": 31,
   "metadata": {},
   "outputs": [
    {
     "name": "stdout",
     "output_type": "stream",
     "text": [
      "</think>\n",
      "\n",
      "The count of orders shipped to each state is as follows:\n",
      "\n",
      "- AL: 1\n",
      "- CA: 7\n",
      "- CO: 2\n",
      "- FL: 1\n",
      "- GA: 2\n",
      "- IA: 1\n",
      "- IL: 3\n",
      "- MA: 2\n",
      "- MD: 3\n",
      "- MI: 1\n",
      "- MO: 1\n",
      "- NC: 1\n",
      "- NH: 1\n",
      "- NJ: 2\n",
      "- NY: 9\n",
      "- OH: 2\n",
      "- OK: 1\n",
      "- TN: 1\n",
      "- TX: 3\n",
      "- VA: 2\n",
      "- VER: 1\n",
      "- WA: 1\n",
      "- WI: 2\n"
     ]
    }
   ],
   "source": [
    "result=chain.invoke({\"question\": \"give me count of orders shipped to each state\", \"table_details\":table_details})\n",
    "print(result)"
   ]
  },
  {
   "cell_type": "code",
   "execution_count": 32,
   "metadata": {},
   "outputs": [
    {
     "name": "stdout",
     "output_type": "stream",
     "text": [
      "</think>\n",
      "\n",
      "The order with the number 546942489 has the following details:\n",
      "\n",
      "- **Order ID:** 37339496\n",
      "- **Warehouse ID:** US1\n",
      "- **Customer Name:** Melanie Chacha\n",
      "- **Status:** CARTNERROR\n",
      "- **Order Date:** 23:55.0\n",
      "- **Arrive Date:** 00:00.0\n",
      "- **Weight:** 4.49\n",
      "- **Freight Cost:** 0\n"
     ]
    }
   ],
   "source": [
    "result=chain.invoke({\"question\": \"Can you give me details about the order_number 546942489 \", \"table_details\":table_details})\n",
    "print(result)"
   ]
  },
  {
   "cell_type": "code",
   "execution_count": 33,
   "metadata": {},
   "outputs": [
    {
     "name": "stdout",
     "output_type": "stream",
     "text": [
      "</think>\n",
      "\n",
      "The order with the number 546942489 has the following details:\n",
      "\n",
      "- **Order ID:** 37339496\n",
      "- **Warehouse ID:** US1\n",
      "- **Customer Name:** Melanie Chacha\n",
      "- **Status:** CARTNERROR\n",
      "- **Order Date:** 23:55.0\n",
      "- **Arrive Date:** 00:00.0\n",
      "- **Weight:** 4.49\n",
      "- **Freight Cost:** 0\n"
     ]
    }
   ],
   "source": [
    "print(result)"
   ]
  },
  {
   "cell_type": "code",
   "execution_count": 34,
   "metadata": {},
   "outputs": [
    {
     "name": "stdout",
     "output_type": "stream",
     "text": [
      "</think>\n",
      "\n",
      "The order with the number 546942489 has the following details:\n",
      "\n",
      "- **Order ID:** 37339496\n",
      "- **Warehouse ID:** US1\n",
      "- **Customer Name:** Melanie Chacha\n",
      "- **Status:** CARTNERROR\n",
      "- **Order Date:** 23:55.0\n",
      "- **Arrive Date:** 00:00.0\n",
      "- **Weight:** 4.49\n",
      "- **Freight Cost:** 0\n"
     ]
    }
   ],
   "source": [
    "print(result)"
   ]
  },
  {
   "cell_type": "markdown",
   "metadata": {},
   "source": [
    "Adding Memory to Chatbot so that it answers follow-up questions related to the database"
   ]
  },
  {
   "cell_type": "code",
   "execution_count": 35,
   "metadata": {},
   "outputs": [
    {
     "name": "stdout",
     "output_type": "stream",
     "text": [
      "System: You are a MySQL expert. Given an input question, create a syntactically correct MySQL query to run. Unless otherwise specificed.\n",
      "\n",
      "Here is the relevant table info: some table info\n",
      "\n",
      "Below are a number of examples of questions and their corresponding SQL queries. Those examples are just for referecne and hsould be considered while answering follow up questions\n",
      "Human: Give me records where picked inventory is zero\n",
      "SQLQuery:\n",
      "AI: SELECT * FROM t_stored_item sto (NOLOCK) WHERE actual_qty = 0 AND type <> 0\n",
      "Human: Give me records of items stuck in carton error\n",
      "SQLQuery:\n",
      "AI: SELECT order_number, status, error_message, t.imported_date, order_type, total_lines, total_units, * FROM t_order t (NOLOCK) WHERE status = 'CRTNERROR' ORDER BY t.imported_date DESC\n",
      "Human: Please provide me details of items stored. If type=0, it's not allocated for any orders. If type is other than (0, -99), it has a foreign reference to t_pick_detail with t_stored_item.type=t_pick_detail.pick\n",
      "SQLQuery:\n",
      "AI: SELECT item_number, actual_qty, unavailable_qty, status, wh_id, location_id, expiration_date, lot_number, inspection_code, serial_number, type, put_away_location, stored_attribute_id, hu_id, shipment_number, item_name, supplier_id, batch_number, created_date, updated_date, * FROM t_stored_item WHERE (type = 0 OR type NOT IN (0, -99)) AND EXISTS (SELECT 1 FROM t_pick_detail WHERE t_stored_item.type = t_pick_detail.pick)\n",
      "Human: How many items are there?\n"
     ]
    }
   ],
   "source": [
    "final_prompt = ChatPromptTemplate.from_messages(\n",
    "    [\n",
    "        (\"system\", \"You are a MySQL expert. Given an input question, create a syntactically correct MySQL query to run. Unless otherwise specificed.\\n\\nHere is the relevant table info: {table_info}\\n\\nBelow are a number of examples of questions and their corresponding SQL queries. Those examples are just for referecne and hsould be considered while answering follow up questions\"),\n",
    "        few_shot_prompt,\n",
    "        MessagesPlaceholder(variable_name=\"messages\"),\n",
    "        (\"human\", \"{input}\"),\n",
    "    ]\n",
    ")\n",
    "print(final_prompt.format(input=\"How many items are there?\",table_info=\"some table info\",messages=[]))"
   ]
  },
  {
   "cell_type": "code",
   "execution_count": 36,
   "metadata": {},
   "outputs": [],
   "source": [
    "from langchain.memory import ChatMessageHistory\n",
    "history = ChatMessageHistory()\n",
    "\n",
    "generate_query = create_sql_query_chain(llm_deepseek, db,final_prompt)\n",
    "\n",
    "chain = (\n",
    "RunnablePassthrough.assign(table_names_to_use=select_table) |\n",
    "RunnablePassthrough.assign(query=generate_query | RunnableLambda(clean_sql_query)).assign(\n",
    "    result=itemgetter(\"query\") | execute_query\n",
    ")\n",
    "| rephrase_answer\n",
    ")"
   ]
  },
  {
   "cell_type": "code",
   "execution_count": 37,
   "metadata": {},
   "outputs": [
    {
     "data": {
      "text/plain": [
       "'</think>\\n\\nThe shipping address for order_number 546942489 is as follows:\\n\\n- **Name:** Melanie Chacha  \\n- **Address Line 1:** 35 Suydam St  \\n- **Address Line 2:** Apt 2  \\n- **City:** Brooklyn  \\n- **State:** NY  \\n- **Zip Code:** 11221  \\n- **Country Code:** US'"
      ]
     },
     "execution_count": 37,
     "metadata": {},
     "output_type": "execute_result"
    }
   ],
   "source": [
    "\n",
    "question = \"What is the shipping address for order_number 546942489\"\n",
    "response = chain.invoke({\"question\": question,\"messages\":history.messages, \"table_details\":table_details})\n",
    "response"
   ]
  },
  {
   "cell_type": "code",
   "execution_count": 38,
   "metadata": {},
   "outputs": [
    {
     "name": "stdout",
     "output_type": "stream",
     "text": [
      "</think>\n",
      "\n",
      "The shipping address for order_number 546942489 is as follows:\n",
      "\n",
      "- **Name:** Melanie Chacha  \n",
      "- **Address Line 1:** 35 Suydam St  \n",
      "- **Address Line 2:** Apt 2  \n",
      "- **City:** Brooklyn  \n",
      "- **State:** NY  \n",
      "- **Zip Code:** 11221  \n",
      "- **Country Code:** US\n"
     ]
    }
   ],
   "source": [
    "print(response)"
   ]
  },
  {
   "cell_type": "code",
   "execution_count": 39,
   "metadata": {},
   "outputs": [
    {
     "data": {
      "text/plain": [
       "[HumanMessage(content='What is the shipping address for order_number 546942489', additional_kwargs={}, response_metadata={}),\n",
       " AIMessage(content='</think>\\n\\nThe shipping address for order_number 546942489 is as follows:\\n\\n- **Name:** Melanie Chacha  \\n- **Address Line 1:** 35 Suydam St  \\n- **Address Line 2:** Apt 2  \\n- **City:** Brooklyn  \\n- **State:** NY  \\n- **Zip Code:** 11221  \\n- **Country Code:** US', additional_kwargs={}, response_metadata={})]"
      ]
     },
     "execution_count": 39,
     "metadata": {},
     "output_type": "execute_result"
    }
   ],
   "source": [
    "history.add_user_message(question)\n",
    "history.add_ai_message(response)\n",
    "history.messages\n",
    "     \n"
   ]
  },
  {
   "cell_type": "code",
   "execution_count": null,
   "metadata": {},
   "outputs": [],
   "source": []
  },
  {
   "cell_type": "code",
   "execution_count": 40,
   "metadata": {},
   "outputs": [
    {
     "data": {
      "text/plain": [
       "'</think>\\n\\nThe status of the order is **CARTNERROR** and the carrier code is **000001_UPS_P_RES**.'"
      ]
     },
     "execution_count": 40,
     "metadata": {},
     "output_type": "execute_result"
    }
   ],
   "source": [
    "\n",
    "response = chain.invoke({\"question\": \"Can you status and carrier code of of that order?\",\"messages\":history.messages, \"table_details\":table_details})\n",
    "response\n",
    "     "
   ]
  },
  {
   "cell_type": "code",
   "execution_count": 260,
   "metadata": {},
   "outputs": [
    {
     "name": "stdout",
     "output_type": "stream",
     "text": [
      "</think>\n",
      "\n",
      "The status of the order is **CARTNERROR** and the carrier code is **000001_UPS_P_RES**.\n"
     ]
    }
   ],
   "source": [
    "print(response)"
   ]
  },
  {
   "cell_type": "code",
   "execution_count": null,
   "metadata": {},
   "outputs": [],
   "source": []
  }
 ],
 "metadata": {
  "kernelspec": {
   "display_name": "text2sql",
   "language": "python",
   "name": "python3"
  },
  "language_info": {
   "codemirror_mode": {
    "name": "ipython",
    "version": 3
   },
   "file_extension": ".py",
   "mimetype": "text/x-python",
   "name": "python",
   "nbconvert_exporter": "python",
   "pygments_lexer": "ipython3",
   "version": "3.12.5"
  }
 },
 "nbformat": 4,
 "nbformat_minor": 2
}
